{
  "cells": [
    {
      "cell_type": "markdown",
      "metadata": {
        "id": "view-in-github",
        "colab_type": "text"
      },
      "source": [
        "<a href=\"https://colab.research.google.com/github/vadaliah/CS5260/blob/master/HW4.ipynb\" target=\"_parent\"><img src=\"https://colab.research.google.com/assets/colab-badge.svg\" alt=\"Open In Colab\"/></a>"
      ]
    },
    {
      "cell_type": "code",
      "execution_count": 11,
      "metadata": {
        "colab": {
          "base_uri": "https://localhost:8080/"
        },
        "id": "QNWYeqdKnhVO",
        "outputId": "efcbbb40-b3a5-480f-c9a5-639c33bcc1b7"
      },
      "outputs": [
        {
          "output_type": "stream",
          "name": "stdout",
          "text": [
            "Mounted at /content/gdrive\n"
          ]
        }
      ],
      "source": [
        "from google.colab import drive\n",
        "drive.mount('/content/gdrive', force_remount=True)"
      ]
    },
    {
      "cell_type": "code",
      "execution_count": 3,
      "metadata": {
        "colab": {
          "base_uri": "https://localhost:8080/"
        },
        "id": "pDJGDTrhn-yQ",
        "outputId": "d3f4d38a-d09e-46ea-9618-d7007bf0b5cb"
      },
      "outputs": [
        {
          "output_type": "stream",
          "name": "stdout",
          "text": [
            "/content/gdrive/MyDrive/Colab Notebooks/HW4\n"
          ]
        }
      ],
      "source": [
        "%cd gdrive/MyDrive/Colab\\ Notebooks/HW4"
      ]
    },
    {
      "cell_type": "code",
      "execution_count": 4,
      "metadata": {
        "colab": {
          "base_uri": "https://localhost:8080/"
        },
        "id": "BfLDM6X4p8MA",
        "outputId": "940be62f-5b65-4ccd-ba2b-e88adc43ce3e"
      },
      "outputs": [
        {
          "output_type": "stream",
          "name": "stdout",
          "text": [
            "Looking in indexes: https://pypi.org/simple, https://us-python.pkg.dev/colab-wheels/public/simple/\n",
            "Collecting torch_utils\n",
            "  Downloading torch-utils-0.1.2.tar.gz (4.9 kB)\n",
            "  Preparing metadata (setup.py) ... \u001b[?25l\u001b[?25hdone\n",
            "Requirement already satisfied: torch in /usr/local/lib/python3.9/dist-packages (from torch_utils) (2.0.0+cu118)\n",
            "Requirement already satisfied: jinja2 in /usr/local/lib/python3.9/dist-packages (from torch->torch_utils) (3.1.2)\n",
            "Requirement already satisfied: sympy in /usr/local/lib/python3.9/dist-packages (from torch->torch_utils) (1.11.1)\n",
            "Requirement already satisfied: filelock in /usr/local/lib/python3.9/dist-packages (from torch->torch_utils) (3.11.0)\n",
            "Requirement already satisfied: networkx in /usr/local/lib/python3.9/dist-packages (from torch->torch_utils) (3.1)\n",
            "Requirement already satisfied: typing-extensions in /usr/local/lib/python3.9/dist-packages (from torch->torch_utils) (4.5.0)\n",
            "Requirement already satisfied: triton==2.0.0 in /usr/local/lib/python3.9/dist-packages (from torch->torch_utils) (2.0.0)\n",
            "Requirement already satisfied: cmake in /usr/local/lib/python3.9/dist-packages (from triton==2.0.0->torch->torch_utils) (3.25.2)\n",
            "Requirement already satisfied: lit in /usr/local/lib/python3.9/dist-packages (from triton==2.0.0->torch->torch_utils) (16.0.1)\n",
            "Requirement already satisfied: MarkupSafe>=2.0 in /usr/local/lib/python3.9/dist-packages (from jinja2->torch->torch_utils) (2.1.2)\n",
            "Requirement already satisfied: mpmath>=0.19 in /usr/local/lib/python3.9/dist-packages (from sympy->torch->torch_utils) (1.3.0)\n",
            "Building wheels for collected packages: torch_utils\n",
            "  Building wheel for torch_utils (setup.py) ... \u001b[?25l\u001b[?25hdone\n",
            "  Created wheel for torch_utils: filename=torch_utils-0.1.2-py3-none-any.whl size=6202 sha256=5dbf0659de6781a078d675402954aa7dc43f20e9e2ddd592137d6ec61d85e9c7\n",
            "  Stored in directory: /root/.cache/pip/wheels/b9/ae/b4/56ed29da706ea5e0f79157a9b158aad24bfabd045ef42eed75\n",
            "Successfully built torch_utils\n",
            "Installing collected packages: torch_utils\n",
            "Successfully installed torch_utils-0.1.2\n"
          ]
        }
      ],
      "source": [
        "! pip install torch_utils"
      ]
    },
    {
      "cell_type": "code",
      "execution_count": 5,
      "metadata": {
        "id": "Eqi18g4gqOCp"
      },
      "outputs": [],
      "source": [
        "from IPython.core.interactiveshell import InteractiveShell\n",
        "InteractiveShell.ast_node_interactivity = \"all\"\n",
        "\n",
        "# import modules\n",
        "import pandas as pd\n",
        "import numpy as np\n",
        "import matplotlib.pyplot as plt\n",
        "import torch\n",
        "from torch import cuda\n",
        "import torch.nn as nn\n",
        "from torch.utils.data import TensorDataset, DataLoader, sampler\n",
        "import torch.nn.functional as F\n",
        "from torch_utils import AverageMeter\n",
        "import math\n",
        "import matplotlib.pyplot as plt\n",
        "from sklearn.metrics import mean_squared_error\n",
        "from numpy import inf\n",
        "import torchvision\n",
        "\n",
        "from sklearn.model_selection import train_test_split\n",
        "import os\n",
        "from glob import glob\n",
        "from torchvision import transforms\n",
        "from torchvision import datasets\n",
        "from torchvision import models\n",
        "from torch import optim, cuda, Tensor\n",
        "import tqdm\n",
        "\n",
        "# Data science tools\n",
        "import numpy as np\n",
        "\n",
        "import os\n",
        "\n",
        "# Image manipulations\n",
        "from PIL import Image\n",
        "from timeit import default_timer as timer\n",
        "\n",
        "# Visualizations\n",
        "import matplotlib.pyplot as plt\n",
        "#plt.rcParams['font.size'] = 14\n",
        "\n",
        "import warnings\n",
        "warnings.filterwarnings('ignore', category=FutureWarning)"
      ]
    },
    {
      "cell_type": "code",
      "execution_count": 6,
      "metadata": {
        "id": "lp5BBLAOq_TP"
      },
      "outputs": [],
      "source": [
        "# define model\n",
        "class bmodel(nn.Module):\n",
        "    def __init__(self, input_d, hidden_d, output_d, train=True):\n",
        "        super().__init__()\n",
        "        # Define all the layers that you need in your network\n",
        "        # You can use nn.Linear() to define the linear layer\n",
        "        # You can use nn.Dropout() to define the dropout layer\n",
        "        # You can use F.relu() to define your ReLu layer\n",
        "       # Weights and biases can be create using nn.Parameter, which has requires_grad\n",
        "       \n",
        "        self.w00 = nn.Parameter(torch.randn(1), requires_grad=True)\n",
        "        self.b00 = nn.Parameter(torch.randn(1), requires_grad=True)\n",
        "        # num of ws = num of inputs\n",
        "        # num of bs = 1 for each neuron\n",
        "        self.w01 = nn.Parameter(torch.randn(1), requires_grad=True)\n",
        "        self.b01 = nn.Parameter(torch.randn(1), requires_grad=True)\n",
        "                \n",
        "        self.w10 = nn.Parameter(torch.randn(1), requires_grad=True)\n",
        "        self.w11 = nn.Parameter(torch.randn(1), requires_grad=True)\n",
        "        self.b10 = nn.Parameter(torch.randn(1), requires_grad=True)\n",
        "        self.double()\n",
        "\n",
        "    def forward(self, x):\n",
        "        # Design your network structure here\n",
        "          h00 = x * self.w00 + self.b00\n",
        "          h00_out = F.relu(h00)\n",
        "   \n",
        "          h01 = x * self.w01 + self.b01\n",
        "          h01_out = F.relu(h01)\n",
        "          h1 = h00_out * self.w10 + h01_out * self.w11 + self.b10\n",
        "   \n",
        "   # Since the model is binary classification, we apply sigmoid\n",
        "          output = torch.sigmoid(h1)\n",
        "   \n",
        "          return output\n"
      ]
    },
    {
      "cell_type": "code",
      "execution_count": 7,
      "metadata": {
        "id": "P3cZUvuZ-SE_"
      },
      "outputs": [],
      "source": [
        "\n",
        "# define model\n",
        "class bmodel(nn.Module):\n",
        "    def __init__(self,num_classes=10):\n",
        "        super(bmodel, self).__init__()\n",
        "        self.layer1 = nn.Sequential(\n",
        "            # 28x28x1 => 28x28x32\n",
        "            nn.Conv2d(in_channels=1,\n",
        "                      out_channels=32,\n",
        "                      kernel_size=(3, 3),\n",
        "                      stride=(1, 1),\n",
        "                      padding=1), # (1(28-1) - 28 + 3) / 2 = 1\n",
        "            nn.ReLU(),\n",
        "            # 28x28x32 => 14x14x32\n",
        "            nn.MaxPool2d(kernel_size=(2, 2),\n",
        "                         stride=(2, 2),\n",
        "                         padding=0)) # (2(14-1) - 28 + 2) = 0    \n",
        "        self.layer2 = nn.Sequential(\n",
        "            # 14x14x32 => 14x14x64\n",
        "            nn.Conv2d(in_channels=32,\n",
        "                      out_channels=64,\n",
        "                      kernel_size=(3, 3),\n",
        "                      stride=(1, 1),\n",
        "                      padding=1), # (1(14-1) - 14 + 3) / 2 = 1   \n",
        "            nn.ReLU(),\n",
        "            # 14x14x64 => 7x7x64\n",
        "            nn.MaxPool2d(kernel_size=(2, 2),\n",
        "                         stride=(2, 2),\n",
        "                         padding=0)) # (2(7-1) - 14 + 2) = 0\n",
        "        self.linear_1 = nn.Linear(7*7*64, num_classes)\n",
        "\n",
        "        # Define all the layers that you need in your network\n",
        "        # You can use nn.Conv2d() to define the 2d convolutional layer\n",
        "        # You can use nn.MaxPool2d() to define the 2d maxpooling layer\n",
        "        # You can use nn.Linear() to define the linear layer\n",
        "        # You can use F.relu() to define your ReLu layer\n",
        "        #####################\n",
        "        ### YOUR CODE HERE###\n",
        "        #####################\n",
        "\n",
        "        ####################\n",
        "        ### YOUR CODE END###\n",
        "        ####################\n",
        "    def forward(self, x):\n",
        "        out = self.layer1(x)\n",
        "        out = self.layer2(out)\n",
        "        out = out.reshape(out.size(0), -1)\n",
        "        logits = self.linear_1(out.view(-1, 7*7*64))\n",
        "        probas = F.softmax(logits, dim=1)\n",
        "        return logits, probas\n",
        "model = bmodel()"
      ]
    },
    {
      "cell_type": "code",
      "execution_count": null,
      "metadata": {
        "colab": {
          "base_uri": "https://localhost:8080/"
        },
        "id": "3YML3vrACtx8",
        "outputId": "4bd36ad8-840e-4809-f1cd-52cf25e9dd13"
      },
      "outputs": [
        {
          "output_type": "stream",
          "name": "stderr",
          "text": [
            "ERROR:root:Internal Python error in the inspect module.\n",
            "Below is the traceback from this internal error.\n",
            "\n",
            "ERROR:root:Internal Python error in the inspect module.\n",
            "Below is the traceback from this internal error.\n",
            "\n",
            "ERROR:root:Internal Python error in the inspect module.\n",
            "Below is the traceback from this internal error.\n",
            "\n"
          ]
        },
        {
          "output_type": "stream",
          "name": "stdout",
          "text": [
            "Traceback (most recent call last):\n",
            "  File \"/usr/local/lib/python3.9/dist-packages/IPython/core/interactiveshell.py\", line 3553, in run_code\n",
            "    exec(code_obj, self.user_global_ns, self.user_ns)\n",
            "  File \"<ipython-input-12-62560246f6ae>\", line 54, in <cell line: 54>\n",
            "    train_X, train_Y, validation_X, validation_Y, test_X, test_Y = get_CIFAR10_data()\n",
            "  File \"<ipython-input-12-62560246f6ae>\", line 11, in get_CIFAR10_data\n",
            "    X_train, y_train, X_test, y_test = load_CIFAR10(cifar10_dir)\n",
            "  File \"/content/gdrive/MyDrive/Colab Notebooks/HW4/data_utils.py\", line 34, in load_CIFAR10\n",
            "    X, Y = load_CIFAR_batch(f)\n",
            "  File \"/content/gdrive/MyDrive/Colab Notebooks/HW4/data_utils.py\", line 20, in load_CIFAR_batch\n",
            "    with open(filename, 'rb') as f:\n",
            "OSError: [Errno 107] Transport endpoint is not connected: './datasets/data_batch_1'\n",
            "\n",
            "During handling of the above exception, another exception occurred:\n",
            "\n",
            "Traceback (most recent call last):\n",
            "  File \"/usr/local/lib/python3.9/dist-packages/IPython/core/interactiveshell.py\", line 2099, in showtraceback\n",
            "    stb = value._render_traceback_()\n",
            "AttributeError: 'OSError' object has no attribute '_render_traceback_'\n",
            "\n",
            "During handling of the above exception, another exception occurred:\n",
            "\n",
            "Traceback (most recent call last):\n",
            "  File \"/usr/local/lib/python3.9/dist-packages/IPython/core/ultratb.py\", line 1101, in get_records\n",
            "    return _fixed_getinnerframes(etb, number_of_lines_of_context, tb_offset)\n",
            "  File \"/usr/local/lib/python3.9/dist-packages/IPython/core/ultratb.py\", line 248, in wrapped\n",
            "    return f(*args, **kwargs)\n",
            "  File \"/usr/local/lib/python3.9/dist-packages/IPython/core/ultratb.py\", line 281, in _fixed_getinnerframes\n",
            "    records = fix_frame_records_filenames(inspect.getinnerframes(etb, context))\n",
            "  File \"/usr/lib/python3.9/inspect.py\", line 1543, in getinnerframes\n",
            "    frameinfo = (tb.tb_frame,) + getframeinfo(tb, context)\n",
            "  File \"/usr/lib/python3.9/inspect.py\", line 1501, in getframeinfo\n",
            "    filename = getsourcefile(frame) or getfile(frame)\n",
            "  File \"/usr/lib/python3.9/inspect.py\", line 709, in getsourcefile\n",
            "    if getattr(getmodule(object, filename), '__loader__', None) is not None:\n",
            "  File \"/usr/lib/python3.9/inspect.py\", line 738, in getmodule\n",
            "    file = getabsfile(object, _filename)\n",
            "  File \"/usr/lib/python3.9/inspect.py\", line 722, in getabsfile\n",
            "    return os.path.normcase(os.path.abspath(_filename))\n",
            "  File \"/usr/lib/python3.9/posixpath.py\", line 380, in abspath\n",
            "    cwd = os.getcwd()\n",
            "OSError: [Errno 107] Transport endpoint is not connected\n",
            "Traceback (most recent call last):\n",
            "  File \"/usr/local/lib/python3.9/dist-packages/IPython/core/interactiveshell.py\", line 3553, in run_code\n",
            "    exec(code_obj, self.user_global_ns, self.user_ns)\n",
            "  File \"<ipython-input-12-62560246f6ae>\", line 54, in <cell line: 54>\n",
            "    train_X, train_Y, validation_X, validation_Y, test_X, test_Y = get_CIFAR10_data()\n",
            "  File \"<ipython-input-12-62560246f6ae>\", line 11, in get_CIFAR10_data\n",
            "    X_train, y_train, X_test, y_test = load_CIFAR10(cifar10_dir)\n",
            "  File \"/content/gdrive/MyDrive/Colab Notebooks/HW4/data_utils.py\", line 34, in load_CIFAR10\n",
            "    X, Y = load_CIFAR_batch(f)\n",
            "  File \"/content/gdrive/MyDrive/Colab Notebooks/HW4/data_utils.py\", line 20, in load_CIFAR_batch\n",
            "    with open(filename, 'rb') as f:\n",
            "OSError: [Errno 107] Transport endpoint is not connected: './datasets/data_batch_1'\n",
            "\n",
            "During handling of the above exception, another exception occurred:\n",
            "\n",
            "Traceback (most recent call last):\n",
            "  File \"/usr/local/lib/python3.9/dist-packages/IPython/core/interactiveshell.py\", line 2099, in showtraceback\n",
            "    stb = value._render_traceback_()\n",
            "AttributeError: 'OSError' object has no attribute '_render_traceback_'\n",
            "\n",
            "During handling of the above exception, another exception occurred:\n",
            "\n",
            "Traceback (most recent call last):\n",
            "  File \"/usr/local/lib/python3.9/dist-packages/IPython/core/interactiveshell.py\", line 3473, in run_ast_nodes\n",
            "    if (await self.run_code(code, result,  async_=asy)):\n",
            "  File \"/usr/local/lib/python3.9/dist-packages/IPython/core/interactiveshell.py\", line 3575, in run_code\n",
            "    self.showtraceback(running_compiled_code=True)\n",
            "  File \"/usr/local/lib/python3.9/dist-packages/IPython/core/interactiveshell.py\", line 2101, in showtraceback\n",
            "    stb = self.InteractiveTB.structured_traceback(etype,\n",
            "  File \"/usr/local/lib/python3.9/dist-packages/IPython/core/ultratb.py\", line 1367, in structured_traceback\n",
            "    return FormattedTB.structured_traceback(\n",
            "  File \"/usr/local/lib/python3.9/dist-packages/IPython/core/ultratb.py\", line 1267, in structured_traceback\n",
            "    return VerboseTB.structured_traceback(\n",
            "  File \"/usr/local/lib/python3.9/dist-packages/IPython/core/ultratb.py\", line 1124, in structured_traceback\n",
            "    formatted_exception = self.format_exception_as_a_whole(etype, evalue, etb, number_of_lines_of_context,\n",
            "  File \"/usr/local/lib/python3.9/dist-packages/IPython/core/ultratb.py\", line 1082, in format_exception_as_a_whole\n",
            "    last_unique, recursion_repeat = find_recursion(orig_etype, evalue, records)\n",
            "  File \"/usr/local/lib/python3.9/dist-packages/IPython/core/ultratb.py\", line 382, in find_recursion\n",
            "    return len(records), 0\n",
            "TypeError: object of type 'NoneType' has no len()\n",
            "\n",
            "During handling of the above exception, another exception occurred:\n",
            "\n",
            "Traceback (most recent call last):\n",
            "  File \"/usr/local/lib/python3.9/dist-packages/IPython/core/interactiveshell.py\", line 2099, in showtraceback\n",
            "    stb = value._render_traceback_()\n",
            "AttributeError: 'TypeError' object has no attribute '_render_traceback_'\n",
            "\n",
            "During handling of the above exception, another exception occurred:\n",
            "\n",
            "Traceback (most recent call last):\n",
            "  File \"/usr/local/lib/python3.9/dist-packages/IPython/core/ultratb.py\", line 1101, in get_records\n",
            "    return _fixed_getinnerframes(etb, number_of_lines_of_context, tb_offset)\n",
            "  File \"/usr/local/lib/python3.9/dist-packages/IPython/core/ultratb.py\", line 248, in wrapped\n",
            "    return f(*args, **kwargs)\n",
            "  File \"/usr/local/lib/python3.9/dist-packages/IPython/core/ultratb.py\", line 281, in _fixed_getinnerframes\n",
            "    records = fix_frame_records_filenames(inspect.getinnerframes(etb, context))\n",
            "  File \"/usr/lib/python3.9/inspect.py\", line 1543, in getinnerframes\n",
            "    frameinfo = (tb.tb_frame,) + getframeinfo(tb, context)\n",
            "  File \"/usr/lib/python3.9/inspect.py\", line 1501, in getframeinfo\n",
            "    filename = getsourcefile(frame) or getfile(frame)\n",
            "  File \"/usr/lib/python3.9/inspect.py\", line 709, in getsourcefile\n",
            "    if getattr(getmodule(object, filename), '__loader__', None) is not None:\n",
            "  File \"/usr/lib/python3.9/inspect.py\", line 738, in getmodule\n",
            "    file = getabsfile(object, _filename)\n",
            "  File \"/usr/lib/python3.9/inspect.py\", line 722, in getabsfile\n",
            "    return os.path.normcase(os.path.abspath(_filename))\n",
            "  File \"/usr/lib/python3.9/posixpath.py\", line 380, in abspath\n",
            "    cwd = os.getcwd()\n",
            "OSError: [Errno 107] Transport endpoint is not connected\n",
            "Traceback (most recent call last):\n",
            "  File \"/usr/local/lib/python3.9/dist-packages/IPython/core/interactiveshell.py\", line 3553, in run_code\n",
            "    exec(code_obj, self.user_global_ns, self.user_ns)\n",
            "  File \"<ipython-input-12-62560246f6ae>\", line 54, in <cell line: 54>\n",
            "    train_X, train_Y, validation_X, validation_Y, test_X, test_Y = get_CIFAR10_data()\n",
            "  File \"<ipython-input-12-62560246f6ae>\", line 11, in get_CIFAR10_data\n",
            "    X_train, y_train, X_test, y_test = load_CIFAR10(cifar10_dir)\n",
            "  File \"/content/gdrive/MyDrive/Colab Notebooks/HW4/data_utils.py\", line 34, in load_CIFAR10\n",
            "    X, Y = load_CIFAR_batch(f)\n",
            "  File \"/content/gdrive/MyDrive/Colab Notebooks/HW4/data_utils.py\", line 20, in load_CIFAR_batch\n",
            "    with open(filename, 'rb') as f:\n",
            "OSError: [Errno 107] Transport endpoint is not connected: './datasets/data_batch_1'\n",
            "\n",
            "During handling of the above exception, another exception occurred:\n",
            "\n",
            "Traceback (most recent call last):\n",
            "  File \"/usr/local/lib/python3.9/dist-packages/IPython/core/interactiveshell.py\", line 2099, in showtraceback\n",
            "    stb = value._render_traceback_()\n",
            "AttributeError: 'OSError' object has no attribute '_render_traceback_'\n",
            "\n",
            "During handling of the above exception, another exception occurred:\n",
            "\n",
            "Traceback (most recent call last):\n",
            "  File \"/usr/local/lib/python3.9/dist-packages/IPython/core/interactiveshell.py\", line 3473, in run_ast_nodes\n",
            "    if (await self.run_code(code, result,  async_=asy)):\n",
            "  File \"/usr/local/lib/python3.9/dist-packages/IPython/core/interactiveshell.py\", line 3575, in run_code\n",
            "    self.showtraceback(running_compiled_code=True)\n",
            "  File \"/usr/local/lib/python3.9/dist-packages/IPython/core/interactiveshell.py\", line 2101, in showtraceback\n",
            "    stb = self.InteractiveTB.structured_traceback(etype,\n",
            "  File \"/usr/local/lib/python3.9/dist-packages/IPython/core/ultratb.py\", line 1367, in structured_traceback\n",
            "    return FormattedTB.structured_traceback(\n",
            "  File \"/usr/local/lib/python3.9/dist-packages/IPython/core/ultratb.py\", line 1267, in structured_traceback\n",
            "    return VerboseTB.structured_traceback(\n",
            "  File \"/usr/local/lib/python3.9/dist-packages/IPython/core/ultratb.py\", line 1124, in structured_traceback\n",
            "    formatted_exception = self.format_exception_as_a_whole(etype, evalue, etb, number_of_lines_of_context,\n",
            "  File \"/usr/local/lib/python3.9/dist-packages/IPython/core/ultratb.py\", line 1082, in format_exception_as_a_whole\n",
            "    last_unique, recursion_repeat = find_recursion(orig_etype, evalue, records)\n",
            "  File \"/usr/local/lib/python3.9/dist-packages/IPython/core/ultratb.py\", line 382, in find_recursion\n",
            "    return len(records), 0\n",
            "TypeError: object of type 'NoneType' has no len()\n",
            "\n",
            "During handling of the above exception, another exception occurred:\n",
            "\n",
            "Traceback (most recent call last):\n",
            "  File \"/usr/local/lib/python3.9/dist-packages/IPython/core/interactiveshell.py\", line 2099, in showtraceback\n",
            "    stb = value._render_traceback_()\n",
            "AttributeError: 'TypeError' object has no attribute '_render_traceback_'\n",
            "\n",
            "During handling of the above exception, another exception occurred:\n",
            "\n",
            "Traceback (most recent call last):\n",
            "  File \"/usr/local/lib/python3.9/dist-packages/IPython/core/interactiveshell.py\", line 3030, in _run_cell\n",
            "    return runner(coro)\n",
            "  File \"/usr/local/lib/python3.9/dist-packages/IPython/core/async_helpers.py\", line 78, in _pseudo_sync_runner\n",
            "    coro.send(None)\n",
            "  File \"/usr/local/lib/python3.9/dist-packages/IPython/core/interactiveshell.py\", line 3257, in run_cell_async\n",
            "    has_raised = await self.run_ast_nodes(code_ast.body, cell_name,\n",
            "  File \"/usr/local/lib/python3.9/dist-packages/IPython/core/interactiveshell.py\", line 3492, in run_ast_nodes\n",
            "    self.showtraceback()\n",
            "  File \"/usr/local/lib/python3.9/dist-packages/IPython/core/interactiveshell.py\", line 2101, in showtraceback\n",
            "    stb = self.InteractiveTB.structured_traceback(etype,\n",
            "  File \"/usr/local/lib/python3.9/dist-packages/IPython/core/ultratb.py\", line 1367, in structured_traceback\n",
            "    return FormattedTB.structured_traceback(\n",
            "  File \"/usr/local/lib/python3.9/dist-packages/IPython/core/ultratb.py\", line 1267, in structured_traceback\n",
            "    return VerboseTB.structured_traceback(\n",
            "  File \"/usr/local/lib/python3.9/dist-packages/IPython/core/ultratb.py\", line 1142, in structured_traceback\n",
            "    formatted_exceptions += self.format_exception_as_a_whole(etype, evalue, etb, lines_of_context,\n",
            "  File \"/usr/local/lib/python3.9/dist-packages/IPython/core/ultratb.py\", line 1082, in format_exception_as_a_whole\n",
            "    last_unique, recursion_repeat = find_recursion(orig_etype, evalue, records)\n",
            "  File \"/usr/local/lib/python3.9/dist-packages/IPython/core/ultratb.py\", line 382, in find_recursion\n",
            "    return len(records), 0\n",
            "TypeError: object of type 'NoneType' has no len()\n",
            "\n",
            "During handling of the above exception, another exception occurred:\n",
            "\n",
            "Traceback (most recent call last):\n",
            "  File \"/usr/local/lib/python3.9/dist-packages/IPython/core/interactiveshell.py\", line 2099, in showtraceback\n",
            "    stb = value._render_traceback_()\n",
            "AttributeError: 'TypeError' object has no attribute '_render_traceback_'\n",
            "\n",
            "During handling of the above exception, another exception occurred:\n",
            "\n",
            "Traceback (most recent call last):\n",
            "  File \"/usr/local/lib/python3.9/dist-packages/IPython/core/ultratb.py\", line 1101, in get_records\n",
            "    return _fixed_getinnerframes(etb, number_of_lines_of_context, tb_offset)\n",
            "  File \"/usr/local/lib/python3.9/dist-packages/IPython/core/ultratb.py\", line 248, in wrapped\n",
            "    return f(*args, **kwargs)\n",
            "  File \"/usr/local/lib/python3.9/dist-packages/IPython/core/ultratb.py\", line 281, in _fixed_getinnerframes\n",
            "    records = fix_frame_records_filenames(inspect.getinnerframes(etb, context))\n",
            "  File \"/usr/lib/python3.9/inspect.py\", line 1543, in getinnerframes\n",
            "    frameinfo = (tb.tb_frame,) + getframeinfo(tb, context)\n",
            "  File \"/usr/lib/python3.9/inspect.py\", line 1501, in getframeinfo\n",
            "    filename = getsourcefile(frame) or getfile(frame)\n",
            "  File \"/usr/lib/python3.9/inspect.py\", line 709, in getsourcefile\n",
            "    if getattr(getmodule(object, filename), '__loader__', None) is not None:\n",
            "  File \"/usr/lib/python3.9/inspect.py\", line 738, in getmodule\n",
            "    file = getabsfile(object, _filename)\n",
            "  File \"/usr/lib/python3.9/inspect.py\", line 722, in getabsfile\n",
            "    return os.path.normcase(os.path.abspath(_filename))\n",
            "  File \"/usr/lib/python3.9/posixpath.py\", line 380, in abspath\n",
            "    cwd = os.getcwd()\n",
            "OSError: [Errno 107] Transport endpoint is not connected\n"
          ]
        }
      ],
      "source": [
        "from data_utils import load_CIFAR10\n",
        "\n",
        "def get_CIFAR10_data(num_training=49000, num_validation=1000, num_test=1000):\n",
        "    \"\"\"\n",
        "    Load the CIFAR-10 dataset from disk and perform preprocessing to prepare\n",
        "    it for the two-layer neural net classifier.   \n",
        "    \"\"\"\n",
        "    # Load the raw CIFAR-10 data\n",
        "    cifar10_dir = './datasets/'\n",
        "    \n",
        "    X_train, y_train, X_test, y_test = load_CIFAR10(cifar10_dir)\n",
        "        \n",
        "    # Subsample the data\n",
        "    mask = list(range(num_training, num_training + num_validation))\n",
        "    X_val = X_train[mask]\n",
        "    y_val = y_train[mask]\n",
        "    mask = list(range(num_training))\n",
        "    X_train = X_train[mask]\n",
        "    y_train = y_train[mask]\n",
        "    mask = list(range(num_test))\n",
        "    X_test = X_test[mask]\n",
        "    y_test = y_test[mask]\n",
        "\n",
        "    # Normalize the data: \n",
        "    X_train = X_train/X_train.max()\n",
        "    X_val = X_val/X_val.max()\n",
        "    X_test = X_test/X_test.max()\n",
        "\n",
        "\n",
        "    #Reshape data\n",
        "    # The shape should be [image number, rgb channels, height, weight]\n",
        "    # You can use np.moveaxis() to change the dimension order\n",
        "    \n",
        "    ######################\n",
        "    ### YOUR CODE HERE ###\n",
        "    ######################\n",
        "     \n",
        "    #####################\n",
        "    ### YOUR CODE END ###\n",
        "    #####################\n",
        "\n",
        "    return X_train, y_train, X_val, y_val, X_test, y_test\n",
        "\n",
        "\n",
        "# Cleaning up variables to prevent loading data multiple times (which may cause memo\n",
        "try:\n",
        "   del X_train, y_train\n",
        "   del X_test, y_test\n",
        "   print('Clear previously loaded data.')\n",
        "except:\n",
        "   pass\n",
        "\n",
        "# Invoke the above function to get our data.\n",
        "train_X, train_Y, validation_X, validation_Y, test_X, test_Y = get_CIFAR10_data()\n",
        "print('Train data shape: ', train_X.shape)\n",
        "print('Train labels shape: ', train_Y.shape)\n",
        "print('Validation data shape: ', validation_X.shape)\n",
        "print('Validation labels shape: ', validation_Y.shape)\n",
        "print('Test data shape: ', test_X.shape)\n",
        "print('Test labels shape: ', test_Y.shape)"
      ]
    },
    {
      "cell_type": "code",
      "source": [
        "from ./HW4_modules import data_utils"
      ],
      "metadata": {
        "colab": {
          "base_uri": "https://localhost:8080/",
          "height": 132
        },
        "id": "oaljEPId0gMx",
        "outputId": "574c22c2-f0b6-418b-f6fd-59f3079a4b88"
      },
      "execution_count": 10,
      "outputs": [
        {
          "output_type": "error",
          "ename": "SyntaxError",
          "evalue": "ignored",
          "traceback": [
            "\u001b[0;36m  File \u001b[0;32m\"<ipython-input-10-986bf5079ef3>\"\u001b[0;36m, line \u001b[0;32m1\u001b[0m\n\u001b[0;31m    from ./HW4_modules import data_utils\u001b[0m\n\u001b[0m          ^\u001b[0m\n\u001b[0;31mSyntaxError\u001b[0m\u001b[0;31m:\u001b[0m invalid syntax\n"
          ]
        }
      ]
    },
    {
      "cell_type": "code",
      "execution_count": null,
      "metadata": {
        "colab": {
          "base_uri": "https://localhost:8080/",
          "height": 993
        },
        "id": "4oGc0V_G6x3E",
        "outputId": "e8ca20ea-aaf2-4407-8dc6-43f838e3c283"
      },
      "outputs": [
        {
          "name": "stderr",
          "output_type": "stream",
          "text": [
            "/usr/local/lib/python3.9/dist-packages/torch/nn/modules/loss.py:536: UserWarning: Using a target size (torch.Size([100, 1])) that is different to the input size (torch.Size([1, 1])). This will likely lead to incorrect results due to broadcasting. Please ensure they have the same size.\n",
            "  return F.mse_loss(input, target, reduction=self.reduction)\n"
          ]
        },
        {
          "data": {
            "text/plain": [
              "[<matplotlib.lines.Line2D at 0x7f0b00698f40>]"
            ]
          },
          "execution_count": 6,
          "metadata": {},
          "output_type": "execute_result"
        },
        {
          "data": {
            "text/plain": [
              "[<matplotlib.lines.Line2D at 0x7f0b006c2280>]"
            ]
          },
          "execution_count": 6,
          "metadata": {},
          "output_type": "execute_result"
        },
        {
          "data": {
            "text/plain": [
              "Text(0, 0.5, 'Total Loss')"
            ]
          },
          "execution_count": 6,
          "metadata": {},
          "output_type": "execute_result"
        },
        {
          "data": {
            "text/plain": [
              "Text(0.5, 0, 'learning rate')"
            ]
          },
          "execution_count": 6,
          "metadata": {},
          "output_type": "execute_result"
        },
        {
          "data": {
            "text/plain": [
              "<matplotlib.legend.Legend at 0x7f0b006c24c0>"
            ]
          },
          "execution_count": 6,
          "metadata": {},
          "output_type": "execute_result"
        },
        {
          "data": {
            "image/png": "[encoded data removed]",
            "text/plain": [
              "<Figure size 640x480 with 1 Axes>"
            ]
          },
          "metadata": {},
          "output_type": "display_data"
        },
        {
          "data": {
            "text/plain": [
              "[<matplotlib.lines.Line2D at 0x7f0b0042fdf0>]"
            ]
          },
          "execution_count": 6,
          "metadata": {},
          "output_type": "execute_result"
        },
        {
          "data": {
            "text/plain": [
              "[<matplotlib.lines.Line2D at 0x7f0b0043d100>]"
            ]
          },
          "execution_count": 6,
          "metadata": {},
          "output_type": "execute_result"
        },
        {
          "data": {
            "text/plain": [
              "[<matplotlib.lines.Line2D at 0x7f0b0043d3a0>]"
            ]
          },
          "execution_count": 6,
          "metadata": {},
          "output_type": "execute_result"
        },
        {
          "data": {
            "text/plain": [
              "[<matplotlib.lines.Line2D at 0x7f0b0043d640>]"
            ]
          },
          "execution_count": 6,
          "metadata": {},
          "output_type": "execute_result"
        },
        {
          "data": {
            "text/plain": [
              "[<matplotlib.lines.Line2D at 0x7f0b0043d7c0>]"
            ]
          },
          "execution_count": 6,
          "metadata": {},
          "output_type": "execute_result"
        },
        {
          "data": {
            "text/plain": [
              "Text(0.5, 0, 'x')"
            ]
          },
          "execution_count": 6,
          "metadata": {},
          "output_type": "execute_result"
        },
        {
          "data": {
            "text/plain": [
              "Text(0, 0.5, 'y')"
            ]
          },
          "execution_count": 6,
          "metadata": {},
          "output_type": "execute_result"
        },
        {
          "data": {
            "text/plain": [
              "<matplotlib.legend.Legend at 0x7f0b00418fd0>"
            ]
          },
          "execution_count": 6,
          "metadata": {},
          "output_type": "execute_result"
        },
        {
          "data": {
            "image/png": "[encoded data removed]",
            "text/plain": [
              "<Figure size 640x480 with 1 Axes>"
            ]
          },
          "metadata": {},
          "output_type": "display_data"
        }
      ],
      "source": [
        "# Create a small net and some toy data to check your implementations.\n",
        "# Note that we set the random seed for repeatable experiments.\n",
        "\n",
        "input_size = 4\n",
        "hidden_size = 10\n",
        "num_classes = 3\n",
        "num_inputs = 5\n",
        "\n",
        "def init_toy_model():\n",
        "    np.random.seed(0)\n",
        "    return bmodel(input_size, hidden_size, num_classes)\n",
        "\n",
        "# Creating toy dataset class\n",
        "class init_Toy_Data(Dataset):\n",
        "    # Constructor\n",
        "    def __init__(self, train=True):\n",
        "      np.random.seed(1)\n",
        " \n",
        "    # self.x = torch.arange(-3, 3, 0.1).view(-1, 1)\n",
        "    # self.func = -5 * self.x + 1\n",
        "    # self.y = self.func + 0.4 * torch.randn(self.x.size())\n",
        "    # self.len = self.x.shape[0]\n",
        "    #     # adding some outliers\n",
        "    # if train == True:\n",
        "    #     self.y[10:12] = 0\n",
        "    #     self.y[30:35] = 25\n",
        "    # else:\n",
        "    #     pass\n",
        "#        self.x = 10 * np.random.randn(num_inputs, input_size)\n",
        "      \n",
        "          # self.x = torch.arange(-3, 3, 0.1).view(-1, 1)\n",
        "          # self.y = np.array([0, 1, 2, 2, 1])\n",
        "      self.x = torch.arange(-5, 5, .1).view(-1, 1)\n",
        "      self.func = -5 * self.x + 1\n",
        "      self.y = self.func + 0.3 * torch.randn(self.x.size())\n",
        "      if train == True:\n",
        "            self.y[10:12] = 0\n",
        "            self.y[30:35] = 25\n",
        "      else:\n",
        "        pass\n",
        "            \n",
        "      self.len = self.x.shape[0]\n",
        "      # Getting the data\n",
        "    def __getitem__(self, index):\n",
        "        return self.x[index], self.y[index]\n",
        "    # Getting length of the data\n",
        "    def __len__(self):\n",
        "        return self.len\n",
        "\n",
        "toy_model = init_toy_model()\n",
        "train_set = init_Toy_Data()\n",
        "val_set = init_Toy_Data(train=False)\n",
        "# train_X, train_Y = init_toy_data()\n",
        "# validation_X, validation_Y = init_toy_data(train=False)\n",
        "criterion = torch.nn.MSELoss()\n",
        "trainloader = DataLoader(dataset=train_set, batch_size=1)\n",
        " \n",
        "#learning_rates = [0.1, 0.01, 0.001, 0.0001,0.5, 0.05, 0.005, 0.0005]\n",
        "learning_rates = [0.2, 0.02, 0.002, 0.0002]\n",
        "train_err = torch.zeros(len(learning_rates))\n",
        "val_err = torch.zeros(len(learning_rates))\n",
        "Models = []\n",
        " \n",
        "epochs = 20\n",
        " \n",
        "# iterate through the list of various learning rates \n",
        "for i, learning_rate in enumerate(learning_rates):\n",
        "    model = torch.nn.Linear(1, 1)\n",
        "    model = init_toy_model()\n",
        "    optimizer = torch.optim.SGD(model.parameters(), lr = learning_rate)\n",
        "    for epoch in range(epochs):\n",
        "        for x, y in trainloader:\n",
        "            y_hat = model(x)\n",
        "            loss = criterion(y_hat, y.double())\n",
        "            optimizer.zero_grad()\n",
        "            loss.backward()\n",
        "            optimizer.step()\n",
        " \n",
        "    # training data\n",
        "    Y_hat = model(train_set.x)\n",
        "    train_loss = criterion(y_hat, train_set.y)\n",
        "    train_err[i] = train_loss.item()\n",
        " \n",
        "    # validation data\n",
        "    Y_hat = model(val_set.x)\n",
        "    val_loss = criterion(y_hat, val_set.y)\n",
        "    val_err[i] = val_loss.item()\n",
        "    Models.append(model)\n",
        " \n",
        "plt.semilogx(np.array(learning_rates), train_err.numpy(), label = 'total training loss')\n",
        "plt.semilogx(np.array(learning_rates), val_err.numpy(), label = 'total validation loss')\n",
        "plt.ylabel('Total Loss')\n",
        "plt.xlabel('learning rate')\n",
        "plt.legend()\n",
        "plt.show()\n",
        " \n",
        "# plotting the predictions on validation data\n",
        "for model, learning_rate in zip(Models, learning_rates):\n",
        "    yhat = model(val_set.x)\n",
        "    plt.plot(val_set.x.numpy(), yhat.detach().numpy(), label = 'learning rate:' + str(learning_rate))\n",
        "plt.plot(val_set.x.numpy(), val_set.func.numpy(), 'or', label = 'validation data')\n",
        "plt.xlabel('x')\n",
        "plt.ylabel('y')\n",
        "plt.legend()\n",
        "plt.show()"
      ]
    },
    {
      "cell_type": "code",
      "execution_count": null,
      "metadata": {
        "id": "rIlnKgVHHVEu"
      },
      "outputs": [],
      "source": [
        "class ToyModel(nn.Module):\n",
        "\n",
        "    def __init__(self): \n",
        "        \n",
        "        super().__init__() # initializes the parent class\n",
        "        \n",
        "        # Weights and biases can be create using nn.Parameter, which has requires_grad\n",
        "        \n",
        "        self.w00 = nn.Parameter(torch.randn(1), requires_grad=True)\n",
        "        self.b00 = nn.Parameter(torch.randn(1), requires_grad=True)\n",
        "\n",
        "        # num of ws = num of inputs\n",
        "        # num of bs = 1 for each neuron\n",
        "        self.w01 = nn.Parameter(torch.randn(1), requires_grad=True)\n",
        "        self.b01 = nn.Parameter(torch.randn(1), requires_grad=True)\n",
        "        \n",
        "        self.w10 = nn.Parameter(torch.randn(1), requires_grad=True)\n",
        "        self.w11 = nn.Parameter(torch.randn(1), requires_grad=True)\n",
        "        self.b10 = nn.Parameter(torch.randn(1), requires_grad=True)\n",
        "\n",
        "        \n",
        "    def forward(self, x): \n",
        "        \n",
        "        h00 = x * self.w00 + self.b00\n",
        "        h00_out = F.relu(h00)\n",
        "        \n",
        "        h01 = x * self.w01 + self.b01\n",
        "        h01_out = F.relu(h01)\n",
        "\n",
        "        h1 = h00_out * self.w10 + h01_out * self.w11 + self.b10\n",
        "        \n",
        "        # Since the model is binary classification, we apply sigmoid\n",
        "        output = torch.sigmoid(h1)\n",
        "        \n",
        "    \n",
        "        return output"
      ]
    },
    {
      "cell_type": "code",
      "execution_count": null,
      "metadata": {
        "id": "mdRG7hkNIRfK"
      },
      "outputs": [],
      "source": [
        "import torch \n",
        "import torch.nn as nn \n",
        "import torch.nn.functional as F \n",
        "from torch.optim import SGD \n"
      ]
    },
    {
      "cell_type": "code",
      "execution_count": null,
      "metadata": {
        "colab": {
          "base_uri": "https://localhost:8080/"
        },
        "id": "vv2rWUjOGA_W",
        "outputId": "c5bf08ea-fbd6-44c3-ee92-4ed720100827"
      },
      "outputs": [
        {
          "name": "stdout",
          "output_type": "stream",
          "text": [
            "Total loss: 6.931471824645996\n",
            "Total loss: 6.931471824645996\n",
            "Total loss: 6.931471824645996\n",
            "Total loss: 6.931471824645996\n",
            "Total loss: 6.931471824645996\n",
            "Total loss: 6.931471824645996\n",
            "Total loss: 6.931471824645996\n",
            "Total loss: 6.931471824645996\n",
            "Total loss: 6.931471824645996\n",
            "Total loss: 6.931471824645996\n",
            "Total loss: 6.931471824645996\n",
            "Total loss: 6.931471824645996\n",
            "Total loss: 6.931471824645996\n",
            "Total loss: 6.931471824645996\n",
            "Total loss: 6.931471824645996\n",
            "Total loss: 6.931471824645996\n",
            "Total loss: 6.931471824645996\n",
            "Total loss: 6.931471824645996\n",
            "Total loss: 6.931471824645996\n",
            "Total loss: 6.931471824645996\n",
            "Total loss: 6.931471824645996\n",
            "Total loss: 6.931471824645996\n",
            "Total loss: 6.931471824645996\n",
            "Total loss: 6.931471824645996\n",
            "Total loss: 6.931471824645996\n",
            "Total loss: 6.931471824645996\n",
            "Total loss: 6.931471824645996\n",
            "Total loss: 6.931471824645996\n",
            "Total loss: 6.931471824645996\n",
            "Total loss: 6.931471824645996\n",
            "Total loss: 6.931471824645996\n",
            "Total loss: 6.931471824645996\n",
            "Total loss: 6.931471824645996\n",
            "Total loss: 6.931471824645996\n",
            "Total loss: 6.931471824645996\n",
            "Total loss: 6.931471824645996\n",
            "Total loss: 6.931471824645996\n",
            "Total loss: 6.931471824645996\n",
            "Total loss: 6.931471824645996\n",
            "Total loss: 6.931471824645996\n",
            "Total loss: 6.931471824645996\n",
            "Total loss: 6.931471824645996\n",
            "Total loss: 6.931471824645996\n",
            "Total loss: 6.931471824645996\n",
            "Total loss: 6.931471824645996\n",
            "Total loss: 6.931471824645996\n",
            "Total loss: 6.931471824645996\n",
            "Total loss: 6.931471824645996\n",
            "Total loss: 6.931471824645996\n",
            "Total loss: 6.931471824645996\n",
            "Total loss: 6.931471824645996\n",
            "Total loss: 6.931471824645996\n",
            "Total loss: 6.931471824645996\n",
            "Total loss: 6.931471824645996\n",
            "Total loss: 6.931471824645996\n",
            "Total loss: 6.931471824645996\n",
            "Total loss: 6.931471824645996\n",
            "Total loss: 6.931471824645996\n",
            "Total loss: 6.931471824645996\n",
            "Total loss: 6.931471824645996\n",
            "Total loss: 6.931471824645996\n",
            "Total loss: 6.931471824645996\n",
            "Total loss: 6.931471824645996\n",
            "Total loss: 6.931471824645996\n",
            "Total loss: 6.931471824645996\n",
            "Total loss: 6.931471824645996\n",
            "Total loss: 6.931471824645996\n",
            "Total loss: 6.931471824645996\n",
            "Total loss: 6.931471824645996\n",
            "Total loss: 6.931471824645996\n",
            "Total loss: 6.931471824645996\n",
            "Total loss: 6.931471824645996\n",
            "Total loss: 6.931471824645996\n",
            "Total loss: 6.931471824645996\n",
            "Total loss: 6.931471824645996\n",
            "Total loss: 6.931471824645996\n",
            "Total loss: 6.931471824645996\n",
            "Total loss: 6.931471824645996\n",
            "Total loss: 6.931471824645996\n",
            "Total loss: 6.931471824645996\n",
            "Total loss: 6.931471824645996\n",
            "Total loss: 6.931471824645996\n",
            "Total loss: 6.931471824645996\n",
            "Total loss: 6.931471824645996\n",
            "Total loss: 6.931471824645996\n",
            "Total loss: 6.931471824645996\n",
            "Total loss: 6.931471824645996\n",
            "Total loss: 6.931471824645996\n",
            "Total loss: 6.931471824645996\n",
            "Total loss: 6.931471824645996\n",
            "Total loss: 6.931471824645996\n",
            "Total loss: 6.931471824645996\n",
            "Total loss: 6.931471824645996\n",
            "Total loss: 6.931471824645996\n",
            "Total loss: 6.931471824645996\n",
            "Total loss: 6.931471824645996\n",
            "Total loss: 6.931471824645996\n",
            "Total loss: 6.931471824645996\n",
            "Total loss: 6.931471824645996\n",
            "Total loss: 6.931471824645996\n"
          ]
        }
      ],
      "source": [
        "# torch.linspace() creates the sequence of numbers between start and end, inclusively\n",
        "toy_inputs = torch.linspace(start=100000, end=500000, steps=10) # same # of inputs\n",
        "# [100000, 150000, ... 500000]\n",
        "toy_labels = torch.tensor([0., 0., 0., 1., 1., 0., 1., 1., 1., 1.]) # same # of outputs\n",
        "\n",
        "\n",
        "################################################################################################################ \n",
        "# TODO: Uncomment code below to see the effect of feature scaling!\n",
        "# X_mean = torch.mean(toy_inputs, dim=0) # Compute the mean of each feature across all samples\n",
        "# X_std = torch.std(toy_inputs, dim=0) # Compute the standard deviation of each feature across all samples\n",
        "\n",
        "# # Normalize the inputs using the mean and standard deviation\n",
        "# toy_inputs = (toy_inputs - X_mean) / X_std\n",
        "################################################################################################################ \n",
        "\n",
        "\n",
        "# create the ToyModel\n",
        "model =  ToyModel()\n",
        "\n",
        "optimizer = SGD(model.parameters(), lr=0.05)\n",
        "criterion = nn.BCEWithLogitsLoss()\n",
        "\n",
        "previous_total_loss = 0\n",
        "for epoch in range(100):\n",
        "\n",
        "    total_loss = 0\n",
        "    \n",
        "    # going through my inputs\n",
        "    for iteration in range(len(toy_inputs)):\n",
        "        \n",
        "        input_i = toy_inputs[iteration]  # x\n",
        "        label_i = toy_inputs[iteration]  # y\n",
        "        \n",
        "        # 1 - forward pass\n",
        "        output_i = model(input_i) ## calculate the neural network output for one input\n",
        "        \n",
        "        # 2 - compute loss\n",
        "        loss = criterion(output_i.squeeze(), label_i)\n",
        "\n",
        "        # 3 - backprop\n",
        "        loss.backward() # calculates the gradient for a single value and adds it to the previous one\n",
        "        \n",
        "        total_loss += float(loss.item()) # add the total loss for this epoch.\n",
        "        \n",
        "    # early stopping\n",
        "    if (total_loss < 0.5):\n",
        "        print(\"Epoch #\" + str(epoch))\n",
        "        break\n",
        "      \n",
        "    optimizer.step() # update the parameters\n",
        "    optimizer.zero_grad() # zero out the previous gradient\n",
        "    \n",
        "\n",
        "    print(\"Total loss: \" + str(total_loss))"
      ]
    },
    {
      "cell_type": "code",
      "execution_count": null,
      "metadata": {
        "colab": {
          "base_uri": "https://localhost:8080/"
        },
        "id": "m1gmvpdB7dod",
        "outputId": "48190eac-2a2e-4169-ce52-664be07296d8"
      },
      "outputs": [
        {
          "name": "stdout",
          "output_type": "stream",
          "text": [
            "Train on gpu: True\n",
            "1 gpus detected.\n",
            "True False\n"
          ]
        }
      ],
      "source": [
        "# Check whether there is a gpu for cuda\n",
        "import torch\n",
        "train_on_gpu = torch.cuda.is_available()\n",
        "print(f'Train on gpu: {train_on_gpu}')\n",
        "\n",
        "# Number of gpus\n",
        "if train_on_gpu:\n",
        "    gpu_count = torch.cuda.device_count()\n",
        "    print(f'{gpu_count} gpus detected.')\n",
        "    if gpu_count > 1:\n",
        "        multi_gpu = True\n",
        "    else:\n",
        "        multi_gpu = False\n",
        "else:\n",
        "    multi_gpu = False\n",
        "print(train_on_gpu,multi_gpu)"
      ]
    }
  ],
  "metadata": {
    "colab": {
      "provenance": [],
      "authorship_tag": "ABX9TyP+gAyz40MU7FuAFLagjD22",
      "include_colab_link": true
    },
    "gpuClass": "standard",
    "kernelspec": {
      "display_name": "Python 3",
      "name": "python3"
    },
    "language_info": {
      "name": "python"
    }
  },
  "nbformat": 4,
  "nbformat_minor": 0
}