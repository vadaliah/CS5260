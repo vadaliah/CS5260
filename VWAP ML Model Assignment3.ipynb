{
  "nbformat": 4,
  "nbformat_minor": 0,
  "metadata": {
    "colab": {
      "provenance": [],
      "authorship_tag": "ABX9TyP6ThK3x7TCLIyMYiUydFys",
      "include_colab_link": true
    },
    "kernelspec": {
      "name": "python3",
      "display_name": "Python 3"
    },
    "language_info": {
      "name": "python"
    }
  },
  "cells": [
    {
      "cell_type": "markdown",
      "metadata": {
        "id": "view-in-github",
        "colab_type": "text"
      },
      "source": [
        "<a href=\"https://colab.research.google.com/github/vadaliah/CS5260/blob/master/VWAP%20ML%20Model%20Assignment3.ipynb\" target=\"_parent\"><img src=\"https://colab.research.google.com/assets/colab-badge.svg\" alt=\"Open In Colab\"/></a>"
      ]
    },
    {
      "cell_type": "code",
      "execution_count": null,
      "metadata": {
        "id": "p0eefsXMoCre"
      },
      "outputs": [],
      "source": []
    },
    {
      "cell_type": "markdown",
      "source": [
        "Forex VWAP(Volume Weighted Average Price) ML Solution\n",
        "This notebook demonstrates Machine Learning solution to predict VWAP direction for given currency pair based on historical volume dataset\n",
        "\n",
        "Problem Formulation\n",
        "In this example, we will use Historical Currencypair price volume dataset provided from FOREX Tester APP, available here: https://forextester.com/data/datasources.\n",
        "The dataset contains Hourly pricing data of 6 currency pair (EURUSD, GBPUSD, AUDUSD, NZSUSD, USDJPY and USDCHF) for April 2018"
      ],
      "metadata": {
        "id": "pHGNXPIZoXJJ"
      }
    },
    {
      "cell_type": "markdown",
      "source": [
        "\tEDA Validation\n",
        "\t1. Ensure data is complete, verify presence of data for all 6 currency pair is present in the volume dataset\n",
        "\t2. Verify count of data by currencypair, businessdate combination. Any currencypair with insufficient data will skew VWAP results and result in inaccurate model outcome\n",
        "  3. Verify Trading dataset is complete, contains currency pair and business dates in scope\n",
        "\t4. Esnure Join between CurrencyPair volume and Trading dataset is successful and there is matching attributes in both the datasets"
      ],
      "metadata": {
        "id": "Jzs2k-SoqHzu"
      }
    },
    {
      "cell_type": "code",
      "source": [
        "import pandas as pd\n",
        "import numpy as np\n",
        "import seaborn as sns\n",
        "import matplotlib.pyplot as plt\n",
        "from sklearn.model_selection import train_test_split, GridSearchCV\n",
        "from sklearn.linear_model import LogisticRegression\n",
        "from sklearn.ensemble import RandomForestClassifier\n",
        "from sklearn.pipeline import Pipeline\n",
        "from sklearn.compose import ColumnTransformer, make_column_selector\n",
        "from sklearn.impute import SimpleImputer\n",
        "from sklearn.preprocessing import OneHotEncoder, LabelBinarizer, StandardScaler\n",
        "from sklearn import config_context\n",
        "from sklearn.metrics import classification_report, confusion_matrix, ConfusionMatrixDisplay\n",
        "from google.colab import files\n",
        "fx_volume_file = 'https://raw.githubusercontent.com/vadaliah/CS5260/master/currencypair_volume_datset.csv'\n",
        "fx_volume_df = pd.read_csv(fx_volume_file)\n",
        "fx_volume_df.sample(5)\n",
        "print(fx_volume_df.shape)\n",
        "print(fx_volume_df.size)\n",
        "fx_volume_df.head().values\n",
        "\n",
        "fx_trade_file = 'https://raw.githubusercontent.com/vadaliah/CS5260/master/trade_dataset.csv'\n",
        "fx_trade_df = pd.read_csv(fx_trade_file)\n",
        "print(fx_trade_df.shape)\n",
        "print(fx_trade_df.size)\n",
        "fx_trade_df.head().values\n"
      ],
      "metadata": {
        "colab": {
          "base_uri": "https://localhost:8080/"
        },
        "id": "8awtJ_bnqsrh",
        "outputId": "d668bb0e-f450-4e69-d6e8-880a8342b248"
      },
      "execution_count": 4,
      "outputs": [
        {
          "output_type": "stream",
          "name": "stdout",
          "text": [
            "(3013, 8)\n",
            "24104\n",
            "(14327, 5)\n",
            "71635\n"
          ]
        },
        {
          "output_type": "execute_result",
          "data": {
            "text/plain": [
              "array([['USDJPY', 20180401, '21:00', 2101, 106.167],\n",
              "       ['USDJPY', 20180401, '21:00', 2102, 106.189],\n",
              "       ['USDJPY', 20180401, '21:00', 2105, 106.221],\n",
              "       ['USDJPY', 20180401, '21:00', 2106, 106.219],\n",
              "       ['USDJPY', 20180401, '21:00', 2107, 106.222]], dtype=object)"
            ]
          },
          "metadata": {},
          "execution_count": 4
        }
      ]
    },
    {
      "cell_type": "code",
      "source": [
        "\tfx_volume_df.info()\n",
        "\tfx_volume_df.columns\n",
        "\tfx_volume_df['Ticker'].value_counts()\n",
        "\tfx_volume_df[['Ticker','BusinessDate','TimeBucket']].value_counts()\n"
      ],
      "metadata": {
        "colab": {
          "base_uri": "https://localhost:8080/"
        },
        "id": "Ev5NR05Rs_7P",
        "outputId": "8ce243da-6472-44b7-f16f-7e7c87822789"
      },
      "execution_count": 6,
      "outputs": [
        {
          "output_type": "stream",
          "name": "stdout",
          "text": [
            "<class 'pandas.core.frame.DataFrame'>\n",
            "RangeIndex: 3013 entries, 0 to 3012\n",
            "Data columns (total 8 columns):\n",
            " #   Column        Non-Null Count  Dtype  \n",
            "---  ------        --------------  -----  \n",
            " 0   Ticker        3013 non-null   object \n",
            " 1   BusinessDate  3013 non-null   int64  \n",
            " 2   TimeBucket    3013 non-null   object \n",
            " 3   Open          3013 non-null   float64\n",
            " 4   High          3013 non-null   float64\n",
            " 5   Low           3013 non-null   float64\n",
            " 6   Close         3013 non-null   float64\n",
            " 7   Volume        3013 non-null   int64  \n",
            "dtypes: float64(4), int64(2), object(2)\n",
            "memory usage: 188.4+ KB\n"
          ]
        },
        {
          "output_type": "execute_result",
          "data": {
            "text/plain": [
              "Ticker  BusinessDate  TimeBucket\n",
              "GBPUSD  20180406      20:00         2\n",
              "NZDUSD  20180410      20:00         2\n",
              "USDCHF  20180406      10:00         2\n",
              "NZDUSD  20180410      10:00         2\n",
              "        20180427      10:00         2\n",
              "                                   ..\n",
              "EURUSD  20180430      18:00         1\n",
              "                      19:00         1\n",
              "                      1:00          1\n",
              "                      20:00         1\n",
              "USDJPY  20180430      9:00          1\n",
              "Length: 2831, dtype: int64"
            ]
          },
          "metadata": {},
          "execution_count": 6
        }
      ]
    },
    {
      "cell_type": "code",
      "source": [
        "\tfx_trade_df.info()\n",
        "\tfx_trade_df.columns\n",
        "\tfx_trade_df['Ticker'].value_counts()\n",
        "\tfx_trade_df[['Ticker','BusinessDate','TimeBucket']].value_counts()\n"
      ],
      "metadata": {
        "colab": {
          "base_uri": "https://localhost:8080/"
        },
        "id": "H3zB47JctcMN",
        "outputId": "228729b5-e435-4381-a903-061dceed1ca7"
      },
      "execution_count": 7,
      "outputs": [
        {
          "output_type": "stream",
          "name": "stdout",
          "text": [
            "<class 'pandas.core.frame.DataFrame'>\n",
            "RangeIndex: 14327 entries, 0 to 14326\n",
            "Data columns (total 5 columns):\n",
            " #   Column        Non-Null Count  Dtype  \n",
            "---  ------        --------------  -----  \n",
            " 0   Ticker        14327 non-null  object \n",
            " 1   BusinessDate  14327 non-null  int64  \n",
            " 2   TimeBucket    14327 non-null  object \n",
            " 3   TradeTime     14327 non-null  int64  \n",
            " 4   TradePrice    14327 non-null  float64\n",
            "dtypes: float64(1), int64(2), object(2)\n",
            "memory usage: 559.8+ KB\n"
          ]
        },
        {
          "output_type": "execute_result",
          "data": {
            "text/plain": [
              "Ticker  BusinessDate  TimeBucket\n",
              "EURUSD  20180420      15:00         71\n",
              "USDJPY  20180420      10:00         71\n",
              "        20180430      13:00         71\n",
              "                      12:00         71\n",
              "                      11:00         71\n",
              "                                    ..\n",
              "EURUSD  20180430      36:00:00       1\n",
              "                      37:00:00       1\n",
              "NZDUSD  20180430      2:00           1\n",
              "                      29:00:00       1\n",
              "USDJPY  20180430      9:00           1\n",
              "Length: 855, dtype: int64"
            ]
          },
          "metadata": {},
          "execution_count": 7
        }
      ]
    }
  ]
}