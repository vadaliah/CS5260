{
  "cells": [
    {
      "cell_type": "markdown",
      "id": "82ba5cb0-b81e-43ea-acfa-e661fff2572c",
      "metadata": {
        "id": "82ba5cb0-b81e-43ea-acfa-e661fff2572c"
      },
      "source": [
        "# **Machine Learning Forex TWAP Solution using scikit-learn**"
      ]
    },
    {
      "cell_type": "markdown",
      "id": "3a251b12-73f7-4007-8f91-a866b8539ded",
      "metadata": {
        "id": "3a251b12-73f7-4007-8f91-a866b8539ded"
      },
      "source": [
        "This notebook demonstrates Machine Learning solution to predict TWAP direction for given currency pair based on historical prices\n",
        "\n",
        "## Problem Formulation\n",
        "\n",
        "In this example, we will use Allison Horst's Palmer Penguins dataset, available here: https://github.com/allisonhorst/palmerpenguins.\n",
        "\n",
        "The dataset contains data on 344 penguins. There are three different species of penguins in the dataset, collected from three separate islands in the Palmer Archipelago, Antarctica. "
      ]
    },
    {
      "cell_type": "code",
      "execution_count": 10,
      "id": "5d51761d-af0e-411f-9375-54bcd91a62db",
      "metadata": {
        "id": "5d51761d-af0e-411f-9375-54bcd91a62db"
      },
      "outputs": [],
      "source": [
        "#tables and visualizations\n",
        "import pandas as pd\n",
        "import numpy as np\n",
        "import seaborn as sns\n",
        "import matplotlib.pyplot as plt\n",
        "\n",
        "#machine learning\n",
        "from sklearn.model_selection import train_test_split, GridSearchCV\n",
        "from sklearn.linear_model import LogisticRegression\n",
        "from sklearn.ensemble import RandomForestClassifier\n",
        "from sklearn.pipeline import Pipeline \n",
        "from sklearn.compose import ColumnTransformer, make_column_selector\n",
        "from sklearn.impute import SimpleImputer\n",
        "from sklearn.preprocessing import OneHotEncoder, LabelBinarizer, StandardScaler\n",
        "from sklearn import config_context\n",
        "from sklearn.metrics import classification_report, confusion_matrix, ConfusionMatrixDisplay"
      ]
    },
    {
      "cell_type": "code",
      "source": [
        "%ls /eurusd.csv\n"
      ],
      "metadata": {
        "colab": {
          "base_uri": "https://localhost:8080/"
        },
        "id": "eJni6qvAIzWJ",
        "outputId": "a6e0935c-cb17-445e-fefa-ff0e9bc013b0"
      },
      "id": "eJni6qvAIzWJ",
      "execution_count": 8,
      "outputs": [
        {
          "output_type": "stream",
          "name": "stdout",
          "text": [
            "/eurusd.csv\n"
          ]
        }
      ]
    },
    {
      "cell_type": "markdown",
      "id": "87e69be8-1415-482e-adc2-4d71a697535b",
      "metadata": {
        "id": "87e69be8-1415-482e-adc2-4d71a697535b"
      },
      "source": [
        "## Load Data\n",
        "\n",
        "Here we first load the data into python using pandas and read it in as a pandas dataframe which is the format which we will use throughout the example. "
      ]
    },
    {
      "cell_type": "code",
      "execution_count": 30,
      "id": "6b347d70-2e7b-4cdc-a290-ace614045711",
      "metadata": {
        "colab": {
          "base_uri": "https://localhost:8080/",
          "height": 475
        },
        "id": "6b347d70-2e7b-4cdc-a290-ace614045711",
        "outputId": "19998972-dbb0-44b7-9975-e8a092b8bd10"
      },
      "outputs": [
        {
          "output_type": "display_data",
          "data": {
            "text/plain": [
              "  <TICKER>  <DTYYYYMMDD> <TIME>   <OPEN>   <HIGH>    <LOW>  <CLOSE>  \\\n",
              "0   EURUSD      20180401  21:00  1.23199  1.23230  1.23165  1.23204   \n",
              "1   EURUSD      20180401  22:00  1.23204  1.23217  1.23132  1.23172   \n",
              "2   EURUSD      20180401  23:00  1.23172  1.23206  1.23124  1.23125   \n",
              "3   EURUSD      20180402  00:00  1.23127  1.23217  1.23107  1.23217   \n",
              "4   EURUSD      20180402  01:00  1.23219  1.23282  1.23214  1.23263   \n",
              "\n",
              "        <VOL>  \n",
              "0   469600000  \n",
              "1  4095050000  \n",
              "2  3291760001  \n",
              "3  5418240002  \n",
              "4  4164520003  "
            ],
            "text/html": [
              "\n",
              "  <div id=\"df-c90f74ee-1a83-4640-886b-b3c001d6771d\">\n",
              "    <div class=\"colab-df-container\">\n",
              "      <div>\n",
              "<style scoped>\n",
              "    .dataframe tbody tr th:only-of-type {\n",
              "        vertical-align: middle;\n",
              "    }\n",
              "\n",
              "    .dataframe tbody tr th {\n",
              "        vertical-align: top;\n",
              "    }\n",
              "\n",
              "    .dataframe thead th {\n",
              "        text-align: right;\n",
              "    }\n",
              "</style>\n",
              "<table border=\"1\" class=\"dataframe\">\n",
              "  <thead>\n",
              "    <tr style=\"text-align: right;\">\n",
              "      <th></th>\n",
              "      <th>&lt;TICKER&gt;</th>\n",
              "      <th>&lt;DTYYYYMMDD&gt;</th>\n",
              "      <th>&lt;TIME&gt;</th>\n",
              "      <th>&lt;OPEN&gt;</th>\n",
              "      <th>&lt;HIGH&gt;</th>\n",
              "      <th>&lt;LOW&gt;</th>\n",
              "      <th>&lt;CLOSE&gt;</th>\n",
              "      <th>&lt;VOL&gt;</th>\n",
              "    </tr>\n",
              "  </thead>\n",
              "  <tbody>\n",
              "    <tr>\n",
              "      <th>0</th>\n",
              "      <td>EURUSD</td>\n",
              "      <td>20180401</td>\n",
              "      <td>21:00</td>\n",
              "      <td>1.23199</td>\n",
              "      <td>1.23230</td>\n",
              "      <td>1.23165</td>\n",
              "      <td>1.23204</td>\n",
              "      <td>469600000</td>\n",
              "    </tr>\n",
              "    <tr>\n",
              "      <th>1</th>\n",
              "      <td>EURUSD</td>\n",
              "      <td>20180401</td>\n",
              "      <td>22:00</td>\n",
              "      <td>1.23204</td>\n",
              "      <td>1.23217</td>\n",
              "      <td>1.23132</td>\n",
              "      <td>1.23172</td>\n",
              "      <td>4095050000</td>\n",
              "    </tr>\n",
              "    <tr>\n",
              "      <th>2</th>\n",
              "      <td>EURUSD</td>\n",
              "      <td>20180401</td>\n",
              "      <td>23:00</td>\n",
              "      <td>1.23172</td>\n",
              "      <td>1.23206</td>\n",
              "      <td>1.23124</td>\n",
              "      <td>1.23125</td>\n",
              "      <td>3291760001</td>\n",
              "    </tr>\n",
              "    <tr>\n",
              "      <th>3</th>\n",
              "      <td>EURUSD</td>\n",
              "      <td>20180402</td>\n",
              "      <td>00:00</td>\n",
              "      <td>1.23127</td>\n",
              "      <td>1.23217</td>\n",
              "      <td>1.23107</td>\n",
              "      <td>1.23217</td>\n",
              "      <td>5418240002</td>\n",
              "    </tr>\n",
              "    <tr>\n",
              "      <th>4</th>\n",
              "      <td>EURUSD</td>\n",
              "      <td>20180402</td>\n",
              "      <td>01:00</td>\n",
              "      <td>1.23219</td>\n",
              "      <td>1.23282</td>\n",
              "      <td>1.23214</td>\n",
              "      <td>1.23263</td>\n",
              "      <td>4164520003</td>\n",
              "    </tr>\n",
              "  </tbody>\n",
              "</table>\n",
              "</div>\n",
              "      <button class=\"colab-df-convert\" onclick=\"convertToInteractive('df-c90f74ee-1a83-4640-886b-b3c001d6771d')\"\n",
              "              title=\"Convert this dataframe to an interactive table.\"\n",
              "              style=\"display:none;\">\n",
              "        \n",
              "  <svg xmlns=\"http://www.w3.org/2000/svg\" height=\"24px\"viewBox=\"0 0 24 24\"\n",
              "       width=\"24px\">\n",
              "    <path d=\"M0 0h24v24H0V0z\" fill=\"none\"/>\n",
              "    <path d=\"M18.56 5.44l.94 2.06.94-2.06 2.06-.94-2.06-.94-.94-2.06-.94 2.06-2.06.94zm-11 1L8.5 8.5l.94-2.06 2.06-.94-2.06-.94L8.5 2.5l-.94 2.06-2.06.94zm10 10l.94 2.06.94-2.06 2.06-.94-2.06-.94-.94-2.06-.94 2.06-2.06.94z\"/><path d=\"M17.41 7.96l-1.37-1.37c-.4-.4-.92-.59-1.43-.59-.52 0-1.04.2-1.43.59L10.3 9.45l-7.72 7.72c-.78.78-.78 2.05 0 2.83L4 21.41c.39.39.9.59 1.41.59.51 0 1.02-.2 1.41-.59l7.78-7.78 2.81-2.81c.8-.78.8-2.07 0-2.86zM5.41 20L4 18.59l7.72-7.72 1.47 1.35L5.41 20z\"/>\n",
              "  </svg>\n",
              "      </button>\n",
              "      \n",
              "  <style>\n",
              "    .colab-df-container {\n",
              "      display:flex;\n",
              "      flex-wrap:wrap;\n",
              "      gap: 12px;\n",
              "    }\n",
              "\n",
              "    .colab-df-convert {\n",
              "      background-color: #E8F0FE;\n",
              "      border: none;\n",
              "      border-radius: 50%;\n",
              "      cursor: pointer;\n",
              "      display: none;\n",
              "      fill: #1967D2;\n",
              "      height: 32px;\n",
              "      padding: 0 0 0 0;\n",
              "      width: 32px;\n",
              "    }\n",
              "\n",
              "    .colab-df-convert:hover {\n",
              "      background-color: #E2EBFA;\n",
              "      box-shadow: 0px 1px 2px rgba(60, 64, 67, 0.3), 0px 1px 3px 1px rgba(60, 64, 67, 0.15);\n",
              "      fill: #174EA6;\n",
              "    }\n",
              "\n",
              "    [theme=dark] .colab-df-convert {\n",
              "      background-color: #3B4455;\n",
              "      fill: #D2E3FC;\n",
              "    }\n",
              "\n",
              "    [theme=dark] .colab-df-convert:hover {\n",
              "      background-color: #434B5C;\n",
              "      box-shadow: 0px 1px 3px 1px rgba(0, 0, 0, 0.15);\n",
              "      filter: drop-shadow(0px 1px 2px rgba(0, 0, 0, 0.3));\n",
              "      fill: #FFFFFF;\n",
              "    }\n",
              "  </style>\n",
              "\n",
              "      <script>\n",
              "        const buttonEl =\n",
              "          document.querySelector('#df-c90f74ee-1a83-4640-886b-b3c001d6771d button.colab-df-convert');\n",
              "        buttonEl.style.display =\n",
              "          google.colab.kernel.accessAllowed ? 'block' : 'none';\n",
              "\n",
              "        async function convertToInteractive(key) {\n",
              "          const element = document.querySelector('#df-c90f74ee-1a83-4640-886b-b3c001d6771d');\n",
              "          const dataTable =\n",
              "            await google.colab.kernel.invokeFunction('convertToInteractive',\n",
              "                                                     [key], {});\n",
              "          if (!dataTable) return;\n",
              "\n",
              "          const docLinkHtml = 'Like what you see? Visit the ' +\n",
              "            '<a target=\"_blank\" href=https://colab.research.google.com/notebooks/data_table.ipynb>data table notebook</a>'\n",
              "            + ' to learn more about interactive tables.';\n",
              "          element.innerHTML = '';\n",
              "          dataTable['output_type'] = 'display_data';\n",
              "          await google.colab.output.renderOutput(dataTable, element);\n",
              "          const docLink = document.createElement('div');\n",
              "          docLink.innerHTML = docLinkHtml;\n",
              "          element.appendChild(docLink);\n",
              "        }\n",
              "      </script>\n",
              "    </div>\n",
              "  </div>\n",
              "  "
            ]
          },
          "metadata": {}
        },
        {
          "output_type": "stream",
          "name": "stdout",
          "text": [
            "<class 'pandas.core.frame.DataFrame'>\n",
            "RangeIndex: 507 entries, 0 to 506\n",
            "Data columns (total 8 columns):\n",
            " #   Column        Non-Null Count  Dtype  \n",
            "---  ------        --------------  -----  \n",
            " 0   <TICKER>      507 non-null    object \n",
            " 1   <DTYYYYMMDD>  507 non-null    int64  \n",
            " 2   <TIME>        507 non-null    object \n",
            " 3   <OPEN>        507 non-null    float64\n",
            " 4   <HIGH>        507 non-null    float64\n",
            " 5   <LOW>         507 non-null    float64\n",
            " 6   <CLOSE>       507 non-null    float64\n",
            " 7   <VOL>         507 non-null    int64  \n",
            "dtypes: float64(4), int64(2), object(2)\n",
            "memory usage: 31.8+ KB\n"
          ]
        }
      ],
      "source": [
        "fx_volume = pd.read_csv(\"/eurusd.csv\")\n",
        "display(fx_volume.head())\n",
        "fx_volume.info()"
      ]
    },
    {
      "cell_type": "code",
      "source": [
        "fx_volume['<AVG_PRICE>'] = (fx_volume['<HIGH>'] + fx_volume['<LOW>'] + fx_volume['<CLOSE>'] + fx_volume['<OPEN>'])/4 \n",
        "fx_volume['<PV>'] = fx_volume['<VOL>'] * fx_volume['<AVG_PRICE>'] \n",
        "display(fx_volume.head())\n",
        "fx_volume.info()"
      ],
      "metadata": {
        "id": "U_1DOm5cbeJy",
        "outputId": "3ef67906-0288-4532-d0d4-7ef523ef146e",
        "colab": {
          "base_uri": "https://localhost:8080/",
          "height": 872
        }
      },
      "id": "U_1DOm5cbeJy",
      "execution_count": 52,
      "outputs": [
        {
          "output_type": "display_data",
          "data": {
            "text/plain": [
              "  <TICKER>  <DTYYYYMMDD> <TIME>   <OPEN>   <HIGH>    <LOW>  <CLOSE>  \\\n",
              "0   EURUSD      20180401  21:00  1.23199  1.23230  1.23165  1.23204   \n",
              "1   EURUSD      20180401  22:00  1.23204  1.23217  1.23132  1.23172   \n",
              "2   EURUSD      20180401  23:00  1.23172  1.23206  1.23124  1.23125   \n",
              "3   EURUSD      20180402  00:00  1.23127  1.23217  1.23107  1.23217   \n",
              "4   EURUSD      20180402  01:00  1.23219  1.23282  1.23214  1.23263   \n",
              "\n",
              "        <VOL>  AVG_PRICE  <AVG_PRICE>          <PV>  \\\n",
              "0   469600000   1.231995     1.231995  5.785449e+08   \n",
              "1  4095050000   1.231813     1.231813  5.044334e+09   \n",
              "2  3291760001   1.231567     1.231567  4.054025e+09   \n",
              "3  5418240002   1.231670     1.231670  6.673484e+09   \n",
              "4  4164520003   1.232445     1.232445  5.132542e+09   \n",
              "\n",
              "                                               <KEY>  \n",
              "0  EURUSD 0      20180401\\n1      20180401\\n2    ...  \n",
              "1  EURUSD 0      20180401\\n1      20180401\\n2    ...  \n",
              "2  EURUSD 0      20180401\\n1      20180401\\n2    ...  \n",
              "3  EURUSD 0      20180401\\n1      20180401\\n2    ...  \n",
              "4  EURUSD 0      20180401\\n1      20180401\\n2    ...  "
            ],
            "text/html": [
              "\n",
              "  <div id=\"df-5d4dc2f6-82e8-4b38-94c5-7702320752e2\">\n",
              "    <div class=\"colab-df-container\">\n",
              "      <div>\n",
              "<style scoped>\n",
              "    .dataframe tbody tr th:only-of-type {\n",
              "        vertical-align: middle;\n",
              "    }\n",
              "\n",
              "    .dataframe tbody tr th {\n",
              "        vertical-align: top;\n",
              "    }\n",
              "\n",
              "    .dataframe thead th {\n",
              "        text-align: right;\n",
              "    }\n",
              "</style>\n",
              "<table border=\"1\" class=\"dataframe\">\n",
              "  <thead>\n",
              "    <tr style=\"text-align: right;\">\n",
              "      <th></th>\n",
              "      <th>&lt;TICKER&gt;</th>\n",
              "      <th>&lt;DTYYYYMMDD&gt;</th>\n",
              "      <th>&lt;TIME&gt;</th>\n",
              "      <th>&lt;OPEN&gt;</th>\n",
              "      <th>&lt;HIGH&gt;</th>\n",
              "      <th>&lt;LOW&gt;</th>\n",
              "      <th>&lt;CLOSE&gt;</th>\n",
              "      <th>&lt;VOL&gt;</th>\n",
              "      <th>AVG_PRICE</th>\n",
              "      <th>&lt;AVG_PRICE&gt;</th>\n",
              "      <th>&lt;PV&gt;</th>\n",
              "      <th>&lt;KEY&gt;</th>\n",
              "    </tr>\n",
              "  </thead>\n",
              "  <tbody>\n",
              "    <tr>\n",
              "      <th>0</th>\n",
              "      <td>EURUSD</td>\n",
              "      <td>20180401</td>\n",
              "      <td>21:00</td>\n",
              "      <td>1.23199</td>\n",
              "      <td>1.23230</td>\n",
              "      <td>1.23165</td>\n",
              "      <td>1.23204</td>\n",
              "      <td>469600000</td>\n",
              "      <td>1.231995</td>\n",
              "      <td>1.231995</td>\n",
              "      <td>5.785449e+08</td>\n",
              "      <td>EURUSD 0      20180401\\n1      20180401\\n2    ...</td>\n",
              "    </tr>\n",
              "    <tr>\n",
              "      <th>1</th>\n",
              "      <td>EURUSD</td>\n",
              "      <td>20180401</td>\n",
              "      <td>22:00</td>\n",
              "      <td>1.23204</td>\n",
              "      <td>1.23217</td>\n",
              "      <td>1.23132</td>\n",
              "      <td>1.23172</td>\n",
              "      <td>4095050000</td>\n",
              "      <td>1.231813</td>\n",
              "      <td>1.231813</td>\n",
              "      <td>5.044334e+09</td>\n",
              "      <td>EURUSD 0      20180401\\n1      20180401\\n2    ...</td>\n",
              "    </tr>\n",
              "    <tr>\n",
              "      <th>2</th>\n",
              "      <td>EURUSD</td>\n",
              "      <td>20180401</td>\n",
              "      <td>23:00</td>\n",
              "      <td>1.23172</td>\n",
              "      <td>1.23206</td>\n",
              "      <td>1.23124</td>\n",
              "      <td>1.23125</td>\n",
              "      <td>3291760001</td>\n",
              "      <td>1.231567</td>\n",
              "      <td>1.231567</td>\n",
              "      <td>4.054025e+09</td>\n",
              "      <td>EURUSD 0      20180401\\n1      20180401\\n2    ...</td>\n",
              "    </tr>\n",
              "    <tr>\n",
              "      <th>3</th>\n",
              "      <td>EURUSD</td>\n",
              "      <td>20180402</td>\n",
              "      <td>00:00</td>\n",
              "      <td>1.23127</td>\n",
              "      <td>1.23217</td>\n",
              "      <td>1.23107</td>\n",
              "      <td>1.23217</td>\n",
              "      <td>5418240002</td>\n",
              "      <td>1.231670</td>\n",
              "      <td>1.231670</td>\n",
              "      <td>6.673484e+09</td>\n",
              "      <td>EURUSD 0      20180401\\n1      20180401\\n2    ...</td>\n",
              "    </tr>\n",
              "    <tr>\n",
              "      <th>4</th>\n",
              "      <td>EURUSD</td>\n",
              "      <td>20180402</td>\n",
              "      <td>01:00</td>\n",
              "      <td>1.23219</td>\n",
              "      <td>1.23282</td>\n",
              "      <td>1.23214</td>\n",
              "      <td>1.23263</td>\n",
              "      <td>4164520003</td>\n",
              "      <td>1.232445</td>\n",
              "      <td>1.232445</td>\n",
              "      <td>5.132542e+09</td>\n",
              "      <td>EURUSD 0      20180401\\n1      20180401\\n2    ...</td>\n",
              "    </tr>\n",
              "  </tbody>\n",
              "</table>\n",
              "</div>\n",
              "      <button class=\"colab-df-convert\" onclick=\"convertToInteractive('df-5d4dc2f6-82e8-4b38-94c5-7702320752e2')\"\n",
              "              title=\"Convert this dataframe to an interactive table.\"\n",
              "              style=\"display:none;\">\n",
              "        \n",
              "  <svg xmlns=\"http://www.w3.org/2000/svg\" height=\"24px\"viewBox=\"0 0 24 24\"\n",
              "       width=\"24px\">\n",
              "    <path d=\"M0 0h24v24H0V0z\" fill=\"none\"/>\n",
              "    <path d=\"M18.56 5.44l.94 2.06.94-2.06 2.06-.94-2.06-.94-.94-2.06-.94 2.06-2.06.94zm-11 1L8.5 8.5l.94-2.06 2.06-.94-2.06-.94L8.5 2.5l-.94 2.06-2.06.94zm10 10l.94 2.06.94-2.06 2.06-.94-2.06-.94-.94-2.06-.94 2.06-2.06.94z\"/><path d=\"M17.41 7.96l-1.37-1.37c-.4-.4-.92-.59-1.43-.59-.52 0-1.04.2-1.43.59L10.3 9.45l-7.72 7.72c-.78.78-.78 2.05 0 2.83L4 21.41c.39.39.9.59 1.41.59.51 0 1.02-.2 1.41-.59l7.78-7.78 2.81-2.81c.8-.78.8-2.07 0-2.86zM5.41 20L4 18.59l7.72-7.72 1.47 1.35L5.41 20z\"/>\n",
              "  </svg>\n",
              "      </button>\n",
              "      \n",
              "  <style>\n",
              "    .colab-df-container {\n",
              "      display:flex;\n",
              "      flex-wrap:wrap;\n",
              "      gap: 12px;\n",
              "    }\n",
              "\n",
              "    .colab-df-convert {\n",
              "      background-color: #E8F0FE;\n",
              "      border: none;\n",
              "      border-radius: 50%;\n",
              "      cursor: pointer;\n",
              "      display: none;\n",
              "      fill: #1967D2;\n",
              "      height: 32px;\n",
              "      padding: 0 0 0 0;\n",
              "      width: 32px;\n",
              "    }\n",
              "\n",
              "    .colab-df-convert:hover {\n",
              "      background-color: #E2EBFA;\n",
              "      box-shadow: 0px 1px 2px rgba(60, 64, 67, 0.3), 0px 1px 3px 1px rgba(60, 64, 67, 0.15);\n",
              "      fill: #174EA6;\n",
              "    }\n",
              "\n",
              "    [theme=dark] .colab-df-convert {\n",
              "      background-color: #3B4455;\n",
              "      fill: #D2E3FC;\n",
              "    }\n",
              "\n",
              "    [theme=dark] .colab-df-convert:hover {\n",
              "      background-color: #434B5C;\n",
              "      box-shadow: 0px 1px 3px 1px rgba(0, 0, 0, 0.15);\n",
              "      filter: drop-shadow(0px 1px 2px rgba(0, 0, 0, 0.3));\n",
              "      fill: #FFFFFF;\n",
              "    }\n",
              "  </style>\n",
              "\n",
              "      <script>\n",
              "        const buttonEl =\n",
              "          document.querySelector('#df-5d4dc2f6-82e8-4b38-94c5-7702320752e2 button.colab-df-convert');\n",
              "        buttonEl.style.display =\n",
              "          google.colab.kernel.accessAllowed ? 'block' : 'none';\n",
              "\n",
              "        async function convertToInteractive(key) {\n",
              "          const element = document.querySelector('#df-5d4dc2f6-82e8-4b38-94c5-7702320752e2');\n",
              "          const dataTable =\n",
              "            await google.colab.kernel.invokeFunction('convertToInteractive',\n",
              "                                                     [key], {});\n",
              "          if (!dataTable) return;\n",
              "\n",
              "          const docLinkHtml = 'Like what you see? Visit the ' +\n",
              "            '<a target=\"_blank\" href=https://colab.research.google.com/notebooks/data_table.ipynb>data table notebook</a>'\n",
              "            + ' to learn more about interactive tables.';\n",
              "          element.innerHTML = '';\n",
              "          dataTable['output_type'] = 'display_data';\n",
              "          await google.colab.output.renderOutput(dataTable, element);\n",
              "          const docLink = document.createElement('div');\n",
              "          docLink.innerHTML = docLinkHtml;\n",
              "          element.appendChild(docLink);\n",
              "        }\n",
              "      </script>\n",
              "    </div>\n",
              "  </div>\n",
              "  "
            ]
          },
          "metadata": {}
        },
        {
          "output_type": "stream",
          "name": "stdout",
          "text": [
            "<class 'pandas.core.frame.DataFrame'>\n",
            "RangeIndex: 507 entries, 0 to 506\n",
            "Data columns (total 12 columns):\n",
            " #   Column        Non-Null Count  Dtype  \n",
            "---  ------        --------------  -----  \n",
            " 0   <TICKER>      507 non-null    object \n",
            " 1   <DTYYYYMMDD>  507 non-null    int64  \n",
            " 2   <TIME>        507 non-null    object \n",
            " 3   <OPEN>        507 non-null    float64\n",
            " 4   <HIGH>        507 non-null    float64\n",
            " 5   <LOW>         507 non-null    float64\n",
            " 6   <CLOSE>       507 non-null    float64\n",
            " 7   <VOL>         507 non-null    int64  \n",
            " 8   AVG_PRICE     507 non-null    float64\n",
            " 9   <AVG_PRICE>   507 non-null    float64\n",
            " 10  <PV>          507 non-null    float64\n",
            " 11  <KEY>         507 non-null    object \n",
            "dtypes: float64(7), int64(2), object(3)\n",
            "memory usage: 47.7+ KB\n"
          ]
        }
      ]
    },
    {
      "cell_type": "code",
      "source": [],
      "metadata": {
        "id": "jqk5feuJiTh6"
      },
      "id": "jqk5feuJiTh6",
      "execution_count": null,
      "outputs": []
    },
    {
      "cell_type": "code",
      "source": [
        "grouped = fx_volume['<PV>'].groupby(fx_volume['<TICKER>']).agg(['sum','count'])\n",
        "display(grouped.head())"
      ],
      "metadata": {
        "id": "4nQ2ADTCbMJY",
        "outputId": "f6002f9d-3a16-4a6e-e50c-400533b148be",
        "colab": {
          "base_uri": "https://localhost:8080/",
          "height": 112
        }
      },
      "id": "4nQ2ADTCbMJY",
      "execution_count": 55,
      "outputs": [
        {
          "output_type": "display_data",
          "data": {
            "text/plain": [
              "                   sum  count\n",
              "<TICKER>                     \n",
              "EURUSD    5.967096e+12    507"
            ],
            "text/html": [
              "\n",
              "  <div id=\"df-2785ffef-5030-40e2-a4a6-0e5f45b990de\">\n",
              "    <div class=\"colab-df-container\">\n",
              "      <div>\n",
              "<style scoped>\n",
              "    .dataframe tbody tr th:only-of-type {\n",
              "        vertical-align: middle;\n",
              "    }\n",
              "\n",
              "    .dataframe tbody tr th {\n",
              "        vertical-align: top;\n",
              "    }\n",
              "\n",
              "    .dataframe thead th {\n",
              "        text-align: right;\n",
              "    }\n",
              "</style>\n",
              "<table border=\"1\" class=\"dataframe\">\n",
              "  <thead>\n",
              "    <tr style=\"text-align: right;\">\n",
              "      <th></th>\n",
              "      <th>sum</th>\n",
              "      <th>count</th>\n",
              "    </tr>\n",
              "    <tr>\n",
              "      <th>&lt;TICKER&gt;</th>\n",
              "      <th></th>\n",
              "      <th></th>\n",
              "    </tr>\n",
              "  </thead>\n",
              "  <tbody>\n",
              "    <tr>\n",
              "      <th>EURUSD</th>\n",
              "      <td>5.967096e+12</td>\n",
              "      <td>507</td>\n",
              "    </tr>\n",
              "  </tbody>\n",
              "</table>\n",
              "</div>\n",
              "      <button class=\"colab-df-convert\" onclick=\"convertToInteractive('df-2785ffef-5030-40e2-a4a6-0e5f45b990de')\"\n",
              "              title=\"Convert this dataframe to an interactive table.\"\n",
              "              style=\"display:none;\">\n",
              "        \n",
              "  <svg xmlns=\"http://www.w3.org/2000/svg\" height=\"24px\"viewBox=\"0 0 24 24\"\n",
              "       width=\"24px\">\n",
              "    <path d=\"M0 0h24v24H0V0z\" fill=\"none\"/>\n",
              "    <path d=\"M18.56 5.44l.94 2.06.94-2.06 2.06-.94-2.06-.94-.94-2.06-.94 2.06-2.06.94zm-11 1L8.5 8.5l.94-2.06 2.06-.94-2.06-.94L8.5 2.5l-.94 2.06-2.06.94zm10 10l.94 2.06.94-2.06 2.06-.94-2.06-.94-.94-2.06-.94 2.06-2.06.94z\"/><path d=\"M17.41 7.96l-1.37-1.37c-.4-.4-.92-.59-1.43-.59-.52 0-1.04.2-1.43.59L10.3 9.45l-7.72 7.72c-.78.78-.78 2.05 0 2.83L4 21.41c.39.39.9.59 1.41.59.51 0 1.02-.2 1.41-.59l7.78-7.78 2.81-2.81c.8-.78.8-2.07 0-2.86zM5.41 20L4 18.59l7.72-7.72 1.47 1.35L5.41 20z\"/>\n",
              "  </svg>\n",
              "      </button>\n",
              "      \n",
              "  <style>\n",
              "    .colab-df-container {\n",
              "      display:flex;\n",
              "      flex-wrap:wrap;\n",
              "      gap: 12px;\n",
              "    }\n",
              "\n",
              "    .colab-df-convert {\n",
              "      background-color: #E8F0FE;\n",
              "      border: none;\n",
              "      border-radius: 50%;\n",
              "      cursor: pointer;\n",
              "      display: none;\n",
              "      fill: #1967D2;\n",
              "      height: 32px;\n",
              "      padding: 0 0 0 0;\n",
              "      width: 32px;\n",
              "    }\n",
              "\n",
              "    .colab-df-convert:hover {\n",
              "      background-color: #E2EBFA;\n",
              "      box-shadow: 0px 1px 2px rgba(60, 64, 67, 0.3), 0px 1px 3px 1px rgba(60, 64, 67, 0.15);\n",
              "      fill: #174EA6;\n",
              "    }\n",
              "\n",
              "    [theme=dark] .colab-df-convert {\n",
              "      background-color: #3B4455;\n",
              "      fill: #D2E3FC;\n",
              "    }\n",
              "\n",
              "    [theme=dark] .colab-df-convert:hover {\n",
              "      background-color: #434B5C;\n",
              "      box-shadow: 0px 1px 3px 1px rgba(0, 0, 0, 0.15);\n",
              "      filter: drop-shadow(0px 1px 2px rgba(0, 0, 0, 0.3));\n",
              "      fill: #FFFFFF;\n",
              "    }\n",
              "  </style>\n",
              "\n",
              "      <script>\n",
              "        const buttonEl =\n",
              "          document.querySelector('#df-2785ffef-5030-40e2-a4a6-0e5f45b990de button.colab-df-convert');\n",
              "        buttonEl.style.display =\n",
              "          google.colab.kernel.accessAllowed ? 'block' : 'none';\n",
              "\n",
              "        async function convertToInteractive(key) {\n",
              "          const element = document.querySelector('#df-2785ffef-5030-40e2-a4a6-0e5f45b990de');\n",
              "          const dataTable =\n",
              "            await google.colab.kernel.invokeFunction('convertToInteractive',\n",
              "                                                     [key], {});\n",
              "          if (!dataTable) return;\n",
              "\n",
              "          const docLinkHtml = 'Like what you see? Visit the ' +\n",
              "            '<a target=\"_blank\" href=https://colab.research.google.com/notebooks/data_table.ipynb>data table notebook</a>'\n",
              "            + ' to learn more about interactive tables.';\n",
              "          element.innerHTML = '';\n",
              "          dataTable['output_type'] = 'display_data';\n",
              "          await google.colab.output.renderOutput(dataTable, element);\n",
              "          const docLink = document.createElement('div');\n",
              "          docLink.innerHTML = docLinkHtml;\n",
              "          element.appendChild(docLink);\n",
              "        }\n",
              "      </script>\n",
              "    </div>\n",
              "  </div>\n",
              "  "
            ]
          },
          "metadata": {}
        }
      ]
    },
    {
      "cell_type": "markdown",
      "source": [
        "# Compute PRICE_VOLUME\n",
        "##AVG_PRICE = (High +low + Close)/3\n",
        "##PRICE_VOLUME = AVG_PRICE*VOLUME\n",
        "  fx_volume[\"AVG_PRICE\"] = (fx_volume['<HIGH>']+fx_volume['<LOW>']+fx_volume['<CLOSE>'])/3\n",
        "  fx_volume[\"PV\"]=fx_volume['<AVG_PRICE>']*fx_volume['<VOL>']\n",
        "  display(fx_volume.head())\n",
        "  fx_volume.info()  \n",
        "\n"
      ],
      "metadata": {
        "id": "OvkNkHLgbatL"
      },
      "id": "OvkNkHLgbatL"
    },
    {
      "cell_type": "markdown",
      "source": [
        "# Compute PRICE_VOLUME\n",
        "##AVG_PRICE = (High +low + Close)/3\n",
        "##PRICE_VOLUME = AVG_PRICE*VOLUME\n",
        "  fx_volume[\"AVG_PRICE\"] = (fx_volume['<HIGH>']+fx_volume['<LOW>']+fx_volume['<CLOSE>'])/3\n",
        "  fx_volume[\"PV\"]=fx_volume['<AVG_PRICE>']*fx_volume['<VOL>']\n",
        "  display(fx_volume.head())\n",
        "  fx_volume.info()  \n",
        "\n"
      ],
      "metadata": {
        "id": "OrvisYLVbQPC"
      },
      "id": "OrvisYLVbQPC"
    },
    {
      "cell_type": "code",
      "execution_count": 14,
      "id": "107620e0-89ee-4f53-ac2e-dd0d03b15b66",
      "metadata": {
        "colab": {
          "base_uri": "https://localhost:8080/"
        },
        "id": "107620e0-89ee-4f53-ac2e-dd0d03b15b66",
        "outputId": "e6a7d3cb-ba3b-4f93-97ba-5bb3aa1c7c09"
      },
      "outputs": [
        {
          "output_type": "execute_result",
          "data": {
            "text/plain": [
              "<TICKER>        0\n",
              "<DTYYYYMMDD>    0\n",
              "<TIME>          0\n",
              "<OPEN>          0\n",
              "<HIGH>          0\n",
              "<LOW>           0\n",
              "<CLOSE>         0\n",
              "<VOL>           0\n",
              "dtype: int64"
            ]
          },
          "metadata": {},
          "execution_count": 14
        }
      ],
      "source": [
        "fx_volume.isna().sum()"
      ]
    },
    {
      "cell_type": "markdown",
      "id": "f3200837-3b0e-42f5-aac2-c2dc6dec3fd0",
      "metadata": {
        "id": "f3200837-3b0e-42f5-aac2-c2dc6dec3fd0"
      },
      "source": [
        "## Data cleaning and EDA\n",
        "\n",
        "We can now explore our data. We leave this exercise to the reader. For now, we can observe that there are a few NA values which will likely need imputation. We'll wait for this step so that we can put it within our training loop. For now, we'll just drop all of the sex NAs out of the dataframe."
      ]
    },
    {
      "cell_type": "code",
      "execution_count": 15,
      "id": "ae42a8db-457d-4532-934b-b4be3e6ce33b",
      "metadata": {
        "colab": {
          "base_uri": "https://localhost:8080/",
          "height": 337
        },
        "id": "ae42a8db-457d-4532-934b-b4be3e6ce33b",
        "outputId": "b3a74d46-f9d1-44bc-9b55-e3ed19b0870a"
      },
      "outputs": [
        {
          "output_type": "error",
          "ename": "KeyError",
          "evalue": "ignored",
          "traceback": [
            "\u001b[0;31m---------------------------------------------------------------------------\u001b[0m",
            "\u001b[0;31mKeyError\u001b[0m                                  Traceback (most recent call last)",
            "\u001b[0;32m<ipython-input-15-c8f1bfc14206>\u001b[0m in \u001b[0;36m<module>\u001b[0;34m\u001b[0m\n\u001b[0;32m----> 1\u001b[0;31m \u001b[0mfx_volume\u001b[0m \u001b[0;34m=\u001b[0m \u001b[0mfx_volume\u001b[0m\u001b[0;34m.\u001b[0m\u001b[0mdropna\u001b[0m\u001b[0;34m(\u001b[0m\u001b[0msubset\u001b[0m\u001b[0;34m=\u001b[0m\u001b[0;34m[\u001b[0m\u001b[0;34m'volume'\u001b[0m\u001b[0;34m]\u001b[0m\u001b[0;34m)\u001b[0m\u001b[0;34m\u001b[0m\u001b[0;34m\u001b[0m\u001b[0m\n\u001b[0m\u001b[1;32m      2\u001b[0m \u001b[0mfx_volume\u001b[0m\u001b[0;34m.\u001b[0m\u001b[0mshape\u001b[0m\u001b[0;34m\u001b[0m\u001b[0;34m\u001b[0m\u001b[0m\n",
            "\u001b[0;32m/usr/local/lib/python3.8/dist-packages/pandas/util/_decorators.py\u001b[0m in \u001b[0;36mwrapper\u001b[0;34m(*args, **kwargs)\u001b[0m\n\u001b[1;32m    309\u001b[0m                     \u001b[0mstacklevel\u001b[0m\u001b[0;34m=\u001b[0m\u001b[0mstacklevel\u001b[0m\u001b[0;34m,\u001b[0m\u001b[0;34m\u001b[0m\u001b[0;34m\u001b[0m\u001b[0m\n\u001b[1;32m    310\u001b[0m                 )\n\u001b[0;32m--> 311\u001b[0;31m             \u001b[0;32mreturn\u001b[0m \u001b[0mfunc\u001b[0m\u001b[0;34m(\u001b[0m\u001b[0;34m*\u001b[0m\u001b[0margs\u001b[0m\u001b[0;34m,\u001b[0m \u001b[0;34m**\u001b[0m\u001b[0mkwargs\u001b[0m\u001b[0;34m)\u001b[0m\u001b[0;34m\u001b[0m\u001b[0;34m\u001b[0m\u001b[0m\n\u001b[0m\u001b[1;32m    312\u001b[0m \u001b[0;34m\u001b[0m\u001b[0m\n\u001b[1;32m    313\u001b[0m         \u001b[0;32mreturn\u001b[0m \u001b[0mwrapper\u001b[0m\u001b[0;34m\u001b[0m\u001b[0;34m\u001b[0m\u001b[0m\n",
            "\u001b[0;32m/usr/local/lib/python3.8/dist-packages/pandas/core/frame.py\u001b[0m in \u001b[0;36mdropna\u001b[0;34m(self, axis, how, thresh, subset, inplace)\u001b[0m\n\u001b[1;32m   5951\u001b[0m             \u001b[0mcheck\u001b[0m \u001b[0;34m=\u001b[0m \u001b[0mindices\u001b[0m \u001b[0;34m==\u001b[0m \u001b[0;34m-\u001b[0m\u001b[0;36m1\u001b[0m\u001b[0;34m\u001b[0m\u001b[0;34m\u001b[0m\u001b[0m\n\u001b[1;32m   5952\u001b[0m             \u001b[0;32mif\u001b[0m \u001b[0mcheck\u001b[0m\u001b[0;34m.\u001b[0m\u001b[0many\u001b[0m\u001b[0;34m(\u001b[0m\u001b[0;34m)\u001b[0m\u001b[0;34m:\u001b[0m\u001b[0;34m\u001b[0m\u001b[0;34m\u001b[0m\u001b[0m\n\u001b[0;32m-> 5953\u001b[0;31m                 \u001b[0;32mraise\u001b[0m \u001b[0mKeyError\u001b[0m\u001b[0;34m(\u001b[0m\u001b[0mlist\u001b[0m\u001b[0;34m(\u001b[0m\u001b[0mnp\u001b[0m\u001b[0;34m.\u001b[0m\u001b[0mcompress\u001b[0m\u001b[0;34m(\u001b[0m\u001b[0mcheck\u001b[0m\u001b[0;34m,\u001b[0m \u001b[0msubset\u001b[0m\u001b[0;34m)\u001b[0m\u001b[0;34m)\u001b[0m\u001b[0;34m)\u001b[0m\u001b[0;34m\u001b[0m\u001b[0;34m\u001b[0m\u001b[0m\n\u001b[0m\u001b[1;32m   5954\u001b[0m             \u001b[0magg_obj\u001b[0m \u001b[0;34m=\u001b[0m \u001b[0mself\u001b[0m\u001b[0;34m.\u001b[0m\u001b[0mtake\u001b[0m\u001b[0;34m(\u001b[0m\u001b[0mindices\u001b[0m\u001b[0;34m,\u001b[0m \u001b[0maxis\u001b[0m\u001b[0;34m=\u001b[0m\u001b[0magg_axis\u001b[0m\u001b[0;34m)\u001b[0m\u001b[0;34m\u001b[0m\u001b[0;34m\u001b[0m\u001b[0m\n\u001b[1;32m   5955\u001b[0m \u001b[0;34m\u001b[0m\u001b[0m\n",
            "\u001b[0;31mKeyError\u001b[0m: ['volume']"
          ]
        }
      ],
      "source": [
        "fx_volume = fx_volume.dropna(subset=['volume'])\n",
        "fx_volume.shape"
      ]
    },
    {
      "cell_type": "code",
      "execution_count": null,
      "id": "02c5bb25-8c26-47b0-b53c-f352babdb717",
      "metadata": {
        "id": "02c5bb25-8c26-47b0-b53c-f352babdb717"
      },
      "outputs": [],
      "source": [
        "class_column = 'london_date'\n",
        "random_seed = 2435\n",
        "\n",
        "X_train, X_test, y_train, y_test = train_test_split(fx_volume.drop(columns=class_column), penguins[class_column],\n",
        "                                                   test_size=0.25, random_state=random_seed, stratify=penguins[class_column])"
      ]
    },
    {
      "cell_type": "markdown",
      "id": "9774a06c-3c40-48c0-8834-2570785a918f",
      "metadata": {
        "id": "9774a06c-3c40-48c0-8834-2570785a918f"
      },
      "source": [
        "Quick sanity check to make sure that everything seems correct:"
      ]
    },
    {
      "cell_type": "code",
      "execution_count": null,
      "id": "2c32bbd1-5392-4281-a1a4-a38ed6dd6390",
      "metadata": {
        "id": "2c32bbd1-5392-4281-a1a4-a38ed6dd6390"
      },
      "outputs": [],
      "source": [
        "# X Train\n",
        "print('On X train: ')\n",
        "print('X train dimensions: ', X_train.shape)\n",
        "display(X_train.head())\n",
        "\n",
        "# X test\n",
        "print('\\nOn X test: ')\n",
        "print('X test dimensions: ', X_test.shape)\n",
        "display(X_test.head())"
      ]
    },
    {
      "cell_type": "code",
      "execution_count": null,
      "id": "113d1ab3-739a-4e42-8500-92b6332b2475",
      "metadata": {
        "id": "113d1ab3-739a-4e42-8500-92b6332b2475"
      },
      "outputs": [],
      "source": [
        "# X Train\n",
        "print('On y train: ')\n",
        "print('y train dimensions: ', y_train.shape)\n",
        "display(y_train.head())\n",
        "\n",
        "# X test\n",
        "print('\\nOn y test: ')\n",
        "print('y test dimensions: ', y_test.shape)\n",
        "display(y_test.head())"
      ]
    },
    {
      "cell_type": "markdown",
      "id": "6a76f5d1-05a4-4f81-8608-099b3b20abef",
      "metadata": {
        "id": "6a76f5d1-05a4-4f81-8608-099b3b20abef"
      },
      "source": [
        "## Establish the training pipeline\n",
        "\n",
        "We can now establish the training pipeline for our models. Since this is a process we would need to repeat several times, it's good to essentially functionalize the process so we do not need to re-write redundant code. Here, we can impute some values that were missing, and encode any categorical values. Note that these pipelines will change according to the model and methodology you choose - additionally, the pipelines will also change depending on the data types of the columns in your dataset. "
      ]
    },
    {
      "cell_type": "code",
      "execution_count": null,
      "id": "9ed44830-4039-4564-bde0-2b6661d672c5",
      "metadata": {
        "id": "9ed44830-4039-4564-bde0-2b6661d672c5"
      },
      "outputs": [],
      "source": [
        "#individual pipelines for differing datatypes\n",
        "cat_pipeline = Pipeline(steps=[('cat_impute', SimpleImputer(missing_values=np.nan, strategy='most_frequent')),\n",
        "                               ('onehot_cat', OneHotEncoder(drop='if_binary'))])\n",
        "num_pipeline = Pipeline(steps=[('impute_num', SimpleImputer(missing_values=np.nan, strategy='mean')),\n",
        "                               ('scale_num', StandardScaler())])"
      ]
    },
    {
      "cell_type": "code",
      "execution_count": null,
      "id": "242c958a-894d-4259-9dfd-387ddf541144",
      "metadata": {
        "id": "242c958a-894d-4259-9dfd-387ddf541144"
      },
      "outputs": [],
      "source": [
        "#establish preprocessing pipeline by columns\n",
        "preproc = ColumnTransformer([('cat_pipe', cat_pipeline, make_column_selector(dtype_include=object)),\n",
        "                             ('num_pipe', num_pipeline, make_column_selector(dtype_include=np.number))],\n",
        "                             remainder='passthrough')"
      ]
    },
    {
      "cell_type": "code",
      "execution_count": null,
      "id": "917a7dae-35ff-43b2-8186-dbe731d0f08d",
      "metadata": {
        "id": "917a7dae-35ff-43b2-8186-dbe731d0f08d"
      },
      "outputs": [],
      "source": [
        "#generate the whole modeling pipeline with preprocessing\n",
        "pipe = Pipeline(steps=[('preproc', preproc),\n",
        "                       ('mdl', LogisticRegression(penalty='elasticnet', solver='saga', tol=0.01))])\n",
        "\n",
        "#visualization for steps\n",
        "with config_context(display='diagram'):\n",
        "    display(pipe)"
      ]
    },
    {
      "cell_type": "markdown",
      "id": "32517c21-62d6-4d8c-81ad-aa08a3199ff3",
      "metadata": {
        "id": "32517c21-62d6-4d8c-81ad-aa08a3199ff3"
      },
      "source": [
        "## Cross-validation with hyperparameter tuning\n",
        "\n",
        "Now that we have our pipelines, we can now use this as part of cross validation and hyperparameter tuning."
      ]
    },
    {
      "cell_type": "code",
      "execution_count": null,
      "id": "f94e90d0-7785-48f4-a0cd-ff37090a92d9",
      "metadata": {
        "id": "f94e90d0-7785-48f4-a0cd-ff37090a92d9"
      },
      "outputs": [],
      "source": [
        "tuning_grid = {'mdl__l1_ratio' : np.linspace(0,1,5),\n",
        "               'mdl__C': np.logspace(-1, 6, 3) }\n",
        "grid_search = GridSearchCV(pipe, param_grid = tuning_grid, cv = 5, return_train_score=True)"
      ]
    },
    {
      "cell_type": "code",
      "execution_count": null,
      "id": "4b612b9e-e561-47c9-9ecb-8ea5ec62cda9",
      "metadata": {
        "id": "4b612b9e-e561-47c9-9ecb-8ea5ec62cda9"
      },
      "outputs": [],
      "source": [
        "tuning_grid"
      ]
    },
    {
      "cell_type": "code",
      "execution_count": null,
      "id": "e8f2cb02-c5eb-4fd4-9331-050191081014",
      "metadata": {
        "id": "e8f2cb02-c5eb-4fd4-9331-050191081014"
      },
      "outputs": [],
      "source": [
        "grid_search.fit(X_train, y_train)"
      ]
    },
    {
      "cell_type": "code",
      "execution_count": null,
      "id": "69f4874e-0de3-462f-95ef-d01ba648f7a4",
      "metadata": {
        "id": "69f4874e-0de3-462f-95ef-d01ba648f7a4"
      },
      "outputs": [],
      "source": [
        "print(grid_search.best_score_)\n",
        "grid_search.best_params_"
      ]
    },
    {
      "cell_type": "code",
      "execution_count": null,
      "id": "f9529343-553b-417d-9347-fec243edd4d2",
      "metadata": {
        "id": "f9529343-553b-417d-9347-fec243edd4d2"
      },
      "outputs": [],
      "source": [
        "pd.DataFrame(grid_search.cv_results_)"
      ]
    },
    {
      "cell_type": "markdown",
      "id": "289be208-bf90-4699-951e-b09a0289aa9d",
      "metadata": {
        "id": "289be208-bf90-4699-951e-b09a0289aa9d"
      },
      "source": [
        "## Final fit\n",
        "\n",
        "The final fit here is already present in the generated model due to the way we set our parameters in the grid search. If we want to look at the performance, we can do so. Here is a non-helpful description of the best model:"
      ]
    },
    {
      "cell_type": "code",
      "execution_count": null,
      "id": "9a0c404f-514c-4f2c-98c9-506ca8ca1c46",
      "metadata": {
        "id": "9a0c404f-514c-4f2c-98c9-506ca8ca1c46"
      },
      "outputs": [],
      "source": [
        "grid_search.best_estimator_"
      ]
    },
    {
      "cell_type": "markdown",
      "id": "3feb06cf-bf30-4383-9449-4153c0fa996e",
      "metadata": {
        "id": "3feb06cf-bf30-4383-9449-4153c0fa996e"
      },
      "source": [
        "## Variable importance\n",
        "\n",
        "Now we assess the importance in the selected model to reveal any potential insights."
      ]
    },
    {
      "cell_type": "code",
      "execution_count": null,
      "id": "45f8b024-9842-41e3-bbbb-2642cd4af47a",
      "metadata": {
        "id": "45f8b024-9842-41e3-bbbb-2642cd4af47a"
      },
      "outputs": [],
      "source": [
        "grid_search.classes_"
      ]
    },
    {
      "cell_type": "code",
      "execution_count": null,
      "id": "e1832990-1f9d-46ee-9cf1-3c1288f7c47a",
      "metadata": {
        "id": "e1832990-1f9d-46ee-9cf1-3c1288f7c47a"
      },
      "outputs": [],
      "source": [
        "vip = grid_search.best_estimator_['mdl'].coef_[0]\n",
        "vip"
      ]
    },
    {
      "cell_type": "code",
      "execution_count": null,
      "id": "7ebdc166-bdb7-4863-b46f-165f1aec7a7d",
      "metadata": {
        "id": "7ebdc166-bdb7-4863-b46f-165f1aec7a7d"
      },
      "outputs": [],
      "source": [
        "#get names in correct preproc order\n",
        "cat_names = grid_search.best_estimator_.named_steps['preproc'].transformers_[0][1].named_steps['onehot_cat'].get_feature_names()\n",
        "num_names = grid_search.best_estimator_.named_steps['preproc'].transformers_[1][2]\n",
        "\n",
        "#create df with vip info\n",
        "coef_info = pd.DataFrame({'feat_names':np.hstack([cat_names, num_names]), 'vip': vip})\n",
        "\n",
        "#get sign and magnitude information\n",
        "coef_info = coef_info.assign(coef_mag = abs(coef_info['vip']),\n",
        "                             coef_sign = np.sign(coef_info['vip']))\n",
        "\n",
        "#sort and plot\n",
        "coef_info = coef_info.set_index('feat_names').sort_values(by='coef_mag', ascending=False)\n",
        "sns.barplot(y=coef_info.index, x='coef_mag', hue='coef_sign', data=coef_info, orient='h', dodge=False);"
      ]
    },
    {
      "cell_type": "markdown",
      "id": "aa95eb91-77ec-4d33-a039-b2f9f95097fb",
      "metadata": {
        "id": "aa95eb91-77ec-4d33-a039-b2f9f95097fb"
      },
      "source": [
        "## Performance metrics on test data\n",
        "\n",
        "\n",
        "Here, we can see the performance of the model, which is pretty nice! We can also look into different scores specifically for more insight into the performance."
      ]
    },
    {
      "cell_type": "code",
      "execution_count": null,
      "id": "19f6f347-e01c-496a-ac3a-7e603361997f",
      "metadata": {
        "tags": [],
        "id": "19f6f347-e01c-496a-ac3a-7e603361997f"
      },
      "outputs": [],
      "source": [
        "print(classification_report(y_test, grid_search.best_estimator_.predict(X_test)))"
      ]
    },
    {
      "cell_type": "code",
      "execution_count": null,
      "id": "594638a2-fe7e-4295-ac53-edca4db92565",
      "metadata": {
        "id": "594638a2-fe7e-4295-ac53-edca4db92565"
      },
      "outputs": [],
      "source": [
        "cm = confusion_matrix(y_test, grid_search.best_estimator_.predict(X_test))\n",
        "disp = ConfusionMatrixDisplay(confusion_matrix=cm,\n",
        "                               display_labels=grid_search.classes_)\n",
        "disp.plot()\n",
        "\n",
        "plt.show()"
      ]
    },
    {
      "cell_type": "markdown",
      "id": "8aa24577-b182-4b54-a539-f498f93db4dc",
      "metadata": {
        "id": "8aa24577-b182-4b54-a539-f498f93db4dc"
      },
      "source": [
        "## Try it yourself!\n",
        "\n",
        "Now that we've seen the power of pipelines in sklearn, let's now try implementing our own pipelines."
      ]
    },
    {
      "cell_type": "code",
      "execution_count": null,
      "id": "05e5894f-4f8c-4f42-9b3d-63621cf18f4c",
      "metadata": {
        "id": "05e5894f-4f8c-4f42-9b3d-63621cf18f4c"
      },
      "outputs": [],
      "source": [
        "# Try implementing a pipeline where we use median imputation for numeric columns instead of mean imputation.\n",
        "\n",
        "#individual pipelines for differing datatypes\n",
        "cat_pipeline = Pipeline(steps=[('cat_impute', SimpleImputer(missing_values=np.nan, strategy='most_frequent')),\n",
        "                               ('onehot_cat', OneHotEncoder(drop='if_binary'))])\n",
        "num_pipeline = Pipeline(steps=[('impute_num', SimpleImputer(missing_values=np.nan, strategy='median')),\n",
        "                               ('scale_num', StandardScaler())])\n",
        "\n",
        "#establish preprocessing pipeline by columns\n",
        "preproc = ColumnTransformer([('cat_pipe', cat_pipeline, make_column_selector(dtype_include=object)),\n",
        "                             ('num_pipe', num_pipeline, make_column_selector(dtype_include=np.number))],\n",
        "                             remainder='passthrough')"
      ]
    },
    {
      "cell_type": "markdown",
      "id": "632436b2-0167-4874-b129-28d83e45b0af",
      "metadata": {
        "id": "632436b2-0167-4874-b129-28d83e45b0af"
      },
      "source": [
        "With this new pipeline, now train a Random Forest model. Refer to the documentation for the parameters for the random forest classifier here: https://scikit-learn.org/stable/modules/generated/sklearn.ensemble.RandomForestClassifier.html\n",
        "\n",
        "Is the performance better? "
      ]
    },
    {
      "cell_type": "code",
      "execution_count": null,
      "id": "c9101ce8-4fbb-4058-b147-67919ff46f6d",
      "metadata": {
        "id": "c9101ce8-4fbb-4058-b147-67919ff46f6d"
      },
      "outputs": [],
      "source": [
        "#generate the whole modeling pipeline with preprocessing\n",
        "pipe = Pipeline(steps=[('preproc', preproc),\n",
        "                       ('mdl', RandomForestClassifier())])\n",
        "\n",
        "#visualization for steps\n",
        "with config_context(display='diagram'):\n",
        "    display(pipe)"
      ]
    },
    {
      "cell_type": "markdown",
      "id": "728d169a-0505-40cd-b773-0205cac0f81f",
      "metadata": {
        "id": "728d169a-0505-40cd-b773-0205cac0f81f"
      },
      "source": [
        "Now perform cross validation and modify the n_estimators parameter to values of [100, 200,500] and max_depth parameter to values of [10,15,50] for the random forest classifier for hyperparameter tuning."
      ]
    },
    {
      "cell_type": "code",
      "execution_count": null,
      "id": "370c38c4-a091-43f4-a095-509c8b2b4f9a",
      "metadata": {
        "id": "370c38c4-a091-43f4-a095-509c8b2b4f9a"
      },
      "outputs": [],
      "source": [
        "tuning_grid = {'mdl__n_estimators' : [100, 200 ,500],\n",
        "               'mdl__max_depth': [10, 15, 20] }\n",
        "grid_search = GridSearchCV(pipe, param_grid = tuning_grid, cv = 5, return_train_score=True)"
      ]
    },
    {
      "cell_type": "code",
      "execution_count": null,
      "id": "be1cecb5-0aa8-42a7-96d3-1be721acc4d5",
      "metadata": {
        "id": "be1cecb5-0aa8-42a7-96d3-1be721acc4d5"
      },
      "outputs": [],
      "source": [
        "tuning_grid"
      ]
    },
    {
      "cell_type": "code",
      "execution_count": null,
      "id": "bac7bee7-2136-4bcd-b57d-cc4e1f1e39bf",
      "metadata": {
        "id": "bac7bee7-2136-4bcd-b57d-cc4e1f1e39bf"
      },
      "outputs": [],
      "source": [
        "grid_search.fit(X_train, y_train)"
      ]
    },
    {
      "cell_type": "code",
      "execution_count": null,
      "id": "fe4a4c7f-3806-4e8d-a642-34ddd0488755",
      "metadata": {
        "id": "fe4a4c7f-3806-4e8d-a642-34ddd0488755"
      },
      "outputs": [],
      "source": [
        "print(grid_search.best_score_)\n",
        "grid_search.best_params_"
      ]
    },
    {
      "cell_type": "code",
      "execution_count": null,
      "id": "44b01658-ec11-45fa-aaf7-9df5dc3d398e",
      "metadata": {
        "id": "44b01658-ec11-45fa-aaf7-9df5dc3d398e"
      },
      "outputs": [],
      "source": [
        "pd.DataFrame(grid_search.cv_results_)"
      ]
    },
    {
      "cell_type": "code",
      "execution_count": null,
      "id": "c13ddef8-9fe5-48c3-892b-514cae0ff0cb",
      "metadata": {
        "id": "c13ddef8-9fe5-48c3-892b-514cae0ff0cb"
      },
      "outputs": [],
      "source": [
        "grid_search.best_estimator_"
      ]
    },
    {
      "cell_type": "code",
      "execution_count": null,
      "id": "686c502f-7bd9-4bb6-8477-b055767db77d",
      "metadata": {
        "id": "686c502f-7bd9-4bb6-8477-b055767db77d"
      },
      "outputs": [],
      "source": [
        "grid_search.classes_"
      ]
    },
    {
      "cell_type": "code",
      "execution_count": null,
      "id": "91d03e13-ce53-4396-953b-93b6ee991634",
      "metadata": {
        "id": "91d03e13-ce53-4396-953b-93b6ee991634"
      },
      "outputs": [],
      "source": [
        "vip = grid_search.best_estimator_['mdl'].feature_importances_\n",
        "vip"
      ]
    },
    {
      "cell_type": "code",
      "execution_count": null,
      "id": "f467cf24-1f0a-4967-8552-929843bfa5d3",
      "metadata": {
        "id": "f467cf24-1f0a-4967-8552-929843bfa5d3"
      },
      "outputs": [],
      "source": [
        "#get names in correct preproc order\n",
        "cat_names = grid_search.best_estimator_.named_steps['preproc'].transformers_[0][1].named_steps['onehot_cat'].get_feature_names()\n",
        "num_names = grid_search.best_estimator_.named_steps['preproc'].transformers_[1][2]\n",
        "\n",
        "#create df with vip info\n",
        "coef_info = pd.DataFrame({'feat_names':np.hstack([cat_names, num_names]), 'vip': vip})\n",
        "\n",
        "#get sign and magnitude information\n",
        "coef_info = coef_info.assign(coef_mag = abs(coef_info['vip']),\n",
        "                             coef_sign = np.sign(coef_info['vip']))\n",
        "\n",
        "#sort and plot\n",
        "coef_info = coef_info.set_index('feat_names').sort_values(by='coef_mag', ascending=False)\n",
        "sns.barplot(y=coef_info.index, x='coef_mag', hue='coef_sign', data=coef_info, orient='h', dodge=False);"
      ]
    },
    {
      "cell_type": "code",
      "execution_count": null,
      "id": "c8492e28-8801-49ac-90d8-d23aa654d98b",
      "metadata": {
        "id": "c8492e28-8801-49ac-90d8-d23aa654d98b"
      },
      "outputs": [],
      "source": [
        "print(classification_report(y_test, grid_search.best_estimator_.predict(X_test)))"
      ]
    },
    {
      "cell_type": "code",
      "execution_count": null,
      "id": "9465fbec-8727-41f0-a242-ca804a752948",
      "metadata": {
        "id": "9465fbec-8727-41f0-a242-ca804a752948"
      },
      "outputs": [],
      "source": [
        "cm = confusion_matrix(y_test, grid_search.best_estimator_.predict(X_test))\n",
        "disp = ConfusionMatrixDisplay(confusion_matrix=cm,\n",
        "                               display_labels=grid_search.classes_)\n",
        "disp.plot()\n",
        "\n",
        "plt.show()"
      ]
    },
    {
      "cell_type": "code",
      "execution_count": null,
      "id": "b883d7f1-d90c-4119-9653-fc0d27f90cb1",
      "metadata": {
        "id": "b883d7f1-d90c-4119-9653-fc0d27f90cb1"
      },
      "outputs": [],
      "source": []
    }
  ],
  "metadata": {
    "kernelspec": {
      "display_name": "Python 3 (ipykernel)",
      "language": "python",
      "name": "python3"
    },
    "language_info": {
      "codemirror_mode": {
        "name": "ipython",
        "version": 3
      },
      "file_extension": ".py",
      "mimetype": "text/x-python",
      "name": "python",
      "nbconvert_exporter": "python",
      "pygments_lexer": "ipython3",
      "version": "3.8.8"
    },
    "colab": {
      "provenance": []
    }
  },
  "nbformat": 4,
  "nbformat_minor": 5
}