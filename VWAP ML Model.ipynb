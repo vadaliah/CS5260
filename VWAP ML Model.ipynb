{
  "nbformat": 4,
  "nbformat_minor": 0,
  "metadata": {
    "colab": {
      "provenance": [],
      "authorship_tag": "ABX9TyNgf9Hb/2M6WVgl93+bBw+X",
      "include_colab_link": true
    },
    "kernelspec": {
      "name": "python3",
      "display_name": "Python 3"
    },
    "language_info": {
      "name": "python"
    }
  },
  "cells": [
    {
      "cell_type": "markdown",
      "metadata": {
        "id": "view-in-github",
        "colab_type": "text"
      },
      "source": [
        "<a href=\"https://colab.research.google.com/github/vadaliah/CS5260/blob/master/VWAP%20ML%20Model.ipynb\" target=\"_parent\"><img src=\"https://colab.research.google.com/assets/colab-badge.svg\" alt=\"Open In Colab\"/></a>"
      ]
    },
    {
      "cell_type": "code",
      "execution_count": null,
      "metadata": {
        "id": "E7qUWeleJWjg"
      },
      "outputs": [],
      "source": []
    },
    {
      "cell_type": "markdown",
      "source": [
        "**Forex VWAP(Volume Weighted Average Price) ML Solution using scikit-learn**\n",
        "\n",
        "This notebook demonstrates Machine Learning solution to predict VWAP direction for given currency pair based on historical volume dataset\n",
        "\n",
        "**Problem Formulation**\n",
        "\n",
        "In this example, we will use Historical Currencypair price volume dataset provided from FOREX Tester APP, available here: https://forextester.com/data/datasources.\n",
        "\n",
        "The dataset contains Hourly pricing data of 6 currency pair (EURUSD, GBPUSD, AUDUSD, NZSUSD, USDJPY and USDCHF) for April 2018."
      ],
      "metadata": {
        "id": "lfddLp7fJX5T"
      }
    },
    {
      "cell_type": "markdown",
      "source": [
        "EDA Validation:\n",
        "1. Ensure data is complete, verify presence of  data for all 6 currency pair is present in the volume dataset\n",
        "2.  Verify count of data by currencypair, businessdate combination.\n",
        "  Any currencypair with insufficient data will skew VWAP results and result in inaccurate model outcome\n",
        "3. Verify Trading dataset is complete, contains currency pair and business dates in scope\n",
        "4. Esnure Join between CurrencyPair volume and Trading dataset is successful and there is matching attributes in both the datasets\n"
      ],
      "metadata": {
        "id": "mYxqwQ_nKbY3"
      }
    },
    {
      "cell_type": "code",
      "source": [
        "  import pandas as pd\n",
        "  import numpy as np\n",
        "  import seaborn as sns\n",
        "  import matplotlib.pyplot as plt\n",
        "  from sklearn.model_selection import train_test_split, GridSearchCV\n",
        "  from sklearn.linear_model import LogisticRegression\n",
        "  from sklearn.ensemble import RandomForestClassifier\n",
        "  from sklearn.pipeline import Pipeline\n",
        "  from sklearn.compose import ColumnTransformer, make_column_selector\n",
        "  from sklearn.impute import SimpleImputer\n",
        "  from sklearn.preprocessing import OneHotEncoder, LabelBinarizer, StandardScaler\n",
        "  from sklearn import config_context\n",
        "  from sklearn.metrics import classification_report, confusion_matrix, ConfusionMatrixDisplay\n",
        "  from google.colab import files\n",
        "\n",
        "  fx_volume_file = 'https://raw.githubusercontent.com/vadaliah/CS5260/master/currencypair_volume_datset.csv'\n",
        "  fx_volume_df = pd.read_csv(fx_volume_file)\n",
        "  fx_volume_df.sample(5)\n",
        "  print(fx_volume_df.shape)\n",
        "  print(fx_volume_df.size)\n",
        "  fx_volume_df.head().values\n",
        "\n",
        "  fx_trade_file = 'https://raw.githubusercontent.com/vadaliah/CS5260/master/trade_dataset.csv'\n",
        "  fx_trade_df = pd.read_csv(fx_trade_file)\n",
        "  print(fx_trade_df.shape)\n",
        "  print(fx_trade_df.size)\n",
        "  fx_trade_df.head().values"
      ],
      "metadata": {
        "id": "sKCzYP1cPDzg",
        "colab": {
          "base_uri": "https://localhost:8080/"
        },
        "outputId": "0ec131d3-32f2-477e-e2cc-f183ceab763b"
      },
      "execution_count": null,
      "outputs": [
        {
          "output_type": "stream",
          "name": "stdout",
          "text": [
            "(3042, 8)\n",
            "24336\n",
            "(14327, 5)\n",
            "71635\n"
          ]
        },
        {
          "output_type": "execute_result",
          "data": {
            "text/plain": [
              "array([['USDJPY', 20180401, '21:00', 2101, 106.167],\n",
              "       ['USDJPY', 20180401, '21:00', 2102, 106.189],\n",
              "       ['USDJPY', 20180401, '21:00', 2105, 106.221],\n",
              "       ['USDJPY', 20180401, '21:00', 2106, 106.219],\n",
              "       ['USDJPY', 20180401, '21:00', 2107, 106.222]], dtype=object)"
            ]
          },
          "metadata": {},
          "execution_count": 9
        }
      ]
    },
    {
      "cell_type": "code",
      "source": [
        "fx_volume_df.info()\n",
        "fx_volume_df.columns\n",
        "fx_volume_df['Ticker'].value_counts()\n",
        "fx_volume_df[['Ticker','BusinessDate']].value_counts()"
      ],
      "metadata": {
        "colab": {
          "base_uri": "https://localhost:8080/"
        },
        "id": "PYz2kBSOMD3p",
        "outputId": "a4792fc0-7da8-4d14-ba4a-8a1a60dbfb33"
      },
      "execution_count": null,
      "outputs": [
        {
          "output_type": "stream",
          "name": "stdout",
          "text": [
            "<class 'pandas.core.frame.DataFrame'>\n",
            "RangeIndex: 3042 entries, 0 to 3041\n",
            "Data columns (total 8 columns):\n",
            " #   Column        Non-Null Count  Dtype  \n",
            "---  ------        --------------  -----  \n",
            " 0   Ticker        3042 non-null   object \n",
            " 1   BusinessDate  3042 non-null   int64  \n",
            " 2   TimeBucket    3042 non-null   object \n",
            " 3   Open          3042 non-null   float64\n",
            " 4   High          3042 non-null   float64\n",
            " 5   Low           3042 non-null   float64\n",
            " 6   Close         3042 non-null   float64\n",
            " 7   Volume        3042 non-null   int64  \n",
            "dtypes: float64(4), int64(2), object(2)\n",
            "memory usage: 190.2+ KB\n"
          ]
        },
        {
          "output_type": "execute_result",
          "data": {
            "text/plain": [
              "Ticker  BusinessDate\n",
              "GBPUSD  20180430        24\n",
              "USDCHF  20180405        24\n",
              "        20180403        24\n",
              "        20180402        24\n",
              "NZDUSD  20180430        24\n",
              "                        ..\n",
              "USDCHF  20180422         3\n",
              "GBPUSD  20180429         3\n",
              "AUDUSD  20180422         3\n",
              "USDCHF  20180429         3\n",
              "*       20180426         1\n",
              "Length: 157, dtype: int64"
            ]
          },
          "metadata": {},
          "execution_count": 16
        }
      ]
    },
    {
      "cell_type": "code",
      "source": [
        "fx_trade_df.info()\n",
        "fx_trade_df.columns"
      ],
      "metadata": {
        "colab": {
          "base_uri": "https://localhost:8080/"
        },
        "id": "FZ8NrL5aOOrD",
        "outputId": "c3c0dc9d-df1c-43be-9b2a-6ed7746f7d28"
      },
      "execution_count": null,
      "outputs": [
        {
          "output_type": "stream",
          "name": "stdout",
          "text": [
            "<class 'pandas.core.frame.DataFrame'>\n",
            "RangeIndex: 14327 entries, 0 to 14326\n",
            "Data columns (total 5 columns):\n",
            " #   Column        Non-Null Count  Dtype  \n",
            "---  ------        --------------  -----  \n",
            " 0   TICKER        14327 non-null  object \n",
            " 1   BusinessDate  14327 non-null  int64  \n",
            " 2   Time_Bucket   14327 non-null  object \n",
            " 3   TradeTime     14327 non-null  int64  \n",
            " 4   TradePrice    14327 non-null  float64\n",
            "dtypes: float64(1), int64(2), object(2)\n",
            "memory usage: 559.8+ KB\n"
          ]
        },
        {
          "output_type": "execute_result",
          "data": {
            "text/plain": [
              "Index(['TICKER', 'BusinessDate', 'Time_Bucket', 'TradeTime', 'TradePrice'], dtype='object')"
            ]
          },
          "metadata": {},
          "execution_count": 11
        }
      ]
    }
  ]
}