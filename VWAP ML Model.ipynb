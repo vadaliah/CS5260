{
  "nbformat": 4,
  "nbformat_minor": 0,
  "metadata": {
    "colab": {
      "provenance": [],
      "authorship_tag": "ABX9TyNWnD4zPwsML4S9VWMVyWSe",
      "include_colab_link": true
    },
    "kernelspec": {
      "name": "python3",
      "display_name": "Python 3"
    },
    "language_info": {
      "name": "python"
    }
  },
  "cells": [
    {
      "cell_type": "markdown",
      "metadata": {
        "id": "view-in-github",
        "colab_type": "text"
      },
      "source": [
        "<a href=\"https://colab.research.google.com/github/vadaliah/CS5260/blob/master/VWAP%20ML%20Model.ipynb\" target=\"_parent\"><img src=\"https://colab.research.google.com/assets/colab-badge.svg\" alt=\"Open In Colab\"/></a>"
      ]
    },
    {
      "cell_type": "code",
      "execution_count": null,
      "metadata": {
        "id": "E7qUWeleJWjg"
      },
      "outputs": [],
      "source": []
    },
    {
      "cell_type": "markdown",
      "source": [
        "**Forex VWAP(Volume Weighted Average Price) ML Solution using scikit-learn**\n",
        "\n",
        "This notebook demonstrates Machine Learning solution to predict VWAP direction for given currency pair based on historical volume dataset\n",
        "\n",
        "**Problem Formulation**\n",
        "\n",
        "In this example, we will use Historical Currencypair price volume dataset provided from FOREX Tester APP, available here: https://forextester.com/data/datasources.\n",
        "\n",
        "The dataset contains Hourly pricing data of 6 currency pair (EURUSD, GBPUSD, AUDUSD, NZSUSD, USDJPY and USDCHF) for April 2018."
      ],
      "metadata": {
        "id": "lfddLp7fJX5T"
      }
    },
    {
      "cell_type": "markdown",
      "source": [
        "EDA Validation:\n",
        "1. Ensure data is complete, verify presence of  data for all 6 currency pair is present in the volume dataset\n",
        "2.  Verify count of data by currencypair, businessdate combination.\n",
        "  Any currencypair with insufficient data will skew VWAP results and result in inaccurate model outcome\n",
        "3. Verify Trading dataset is complete, contains currency pair and business dates in scope\n",
        "4. Esnure Join between CurrencyPair volume and Trading dataset is successful and there is matching attributes in both the datasets\n"
      ],
      "metadata": {
        "id": "mYxqwQ_nKbY3"
      }
    }
  ]
}