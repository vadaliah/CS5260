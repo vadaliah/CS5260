{
  "nbformat": 4,
  "nbformat_minor": 0,
  "metadata": {
    "colab": {
      "provenance": [],
      "authorship_tag": "ABX9TyMn39fkW+JiIfc39jbImR8s",
      "include_colab_link": true
    },
    "kernelspec": {
      "name": "python3",
      "display_name": "Python 3"
    },
    "language_info": {
      "name": "python"
    }
  },
  "cells": [
    {
      "cell_type": "markdown",
      "metadata": {
        "id": "view-in-github",
        "colab_type": "text"
      },
      "source": [
        "<a href=\"https://colab.research.google.com/github/vadaliah/CS5260/blob/master/census_income_classification.ipynb\" target=\"_parent\"><img src=\"https://colab.research.google.com/assets/colab-badge.svg\" alt=\"Open In Colab\"/></a>"
      ]
    },
    {
      "cell_type": "code",
      "execution_count": null,
      "metadata": {
        "id": "Oqbkb0rxx21b"
      },
      "outputs": [],
      "source": []
    },
    {
      "cell_type": "markdown",
      "source": [
        "# **Censuse Income Classification Machine Learning Project**"
      ],
      "metadata": {
        "id": "-aQcHut2x_lR"
      }
    },
    {
      "cell_type": "markdown",
      "source": [
        "This notebook demonstrates the usage of binary regression model  for Machine Learning in Python."
      ],
      "metadata": {
        "id": "oDGjoQHHYEwb"
      }
    },
    {
      "cell_type": "markdown",
      "source": [
        "Problem Formulation\n",
        "In this example,This Income data set across US population was extracted from the census bureau database. There are 48842 instances of data set, mix of continuous and discrete values.\n",
        "The data set has 15 attribute which include age, sex, education level and other relevant details of a person. The data set will be used in Exploratory Data Analysis towards implementing Binary Classification Models to predict whether a person's income will be greater or less than 50K.\n"
      ],
      "metadata": {
        "id": "dC_Juug_Yheh"
      }
    }
  ]
}