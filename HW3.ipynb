{
  "nbformat": 4,
  "nbformat_minor": 0,
  "metadata": {
    "colab": {
      "provenance": [],
      "authorship_tag": "ABX9TyMW8l/QqaKX6lP3wk5iywT0",
      "include_colab_link": true
    },
    "kernelspec": {
      "name": "python3",
      "display_name": "Python 3"
    },
    "language_info": {
      "name": "python"
    },
    "gpuClass": "standard"
  },
  "cells": [
    {
      "cell_type": "markdown",
      "metadata": {
        "id": "view-in-github",
        "colab_type": "text"
      },
      "source": [
        "<a href=\"https://colab.research.google.com/github/vadaliah/CS5260/blob/master/HW3.ipynb\" target=\"_parent\"><img src=\"https://colab.research.google.com/assets/colab-badge.svg\" alt=\"Open In Colab\"/></a>"
      ]
    },
    {
      "cell_type": "code",
      "execution_count": 1,
      "metadata": {
        "colab": {
          "base_uri": "https://localhost:8080/"
        },
        "id": "QNWYeqdKnhVO",
        "outputId": "e9b8b53c-b145-4d31-9b18-541c4d2c6974"
      },
      "outputs": [
        {
          "output_type": "stream",
          "name": "stdout",
          "text": [
            "Mounted at /content/gdrive\n"
          ]
        }
      ],
      "source": [
        "from google.colab import drive\n",
        "drive.mount('/content/gdrive')"
      ]
    },
    {
      "cell_type": "code",
      "source": [
        "%cd gdrive/MyDrive/Colab\\ Notebooks/HW3_Full"
      ],
      "metadata": {
        "colab": {
          "base_uri": "https://localhost:8080/"
        },
        "id": "pDJGDTrhn-yQ",
        "outputId": "4ef22170-b3db-4373-b6c8-6c758921076e"
      },
      "execution_count": 2,
      "outputs": [
        {
          "output_type": "stream",
          "name": "stdout",
          "text": [
            "/content/gdrive/MyDrive/Colab Notebooks/HW3_Full\n"
          ]
        }
      ]
    },
    {
      "cell_type": "code",
      "source": [
        "! pip install torch_utils"
      ],
      "metadata": {
        "colab": {
          "base_uri": "https://localhost:8080/"
        },
        "id": "BfLDM6X4p8MA",
        "outputId": "495e1e8f-e4da-4a6c-98ea-d7392bd5044c"
      },
      "execution_count": 3,
      "outputs": [
        {
          "output_type": "stream",
          "name": "stdout",
          "text": [
            "Looking in indexes: https://pypi.org/simple, https://us-python.pkg.dev/colab-wheels/public/simple/\n",
            "Collecting torch_utils\n",
            "  Downloading torch-utils-0.1.2.tar.gz (4.9 kB)\n",
            "  Preparing metadata (setup.py) ... \u001b[?25l\u001b[?25hdone\n",
            "Requirement already satisfied: torch in /usr/local/lib/python3.9/dist-packages (from torch_utils) (2.0.0+cu118)\n",
            "Requirement already satisfied: jinja2 in /usr/local/lib/python3.9/dist-packages (from torch->torch_utils) (3.1.2)\n",
            "Requirement already satisfied: sympy in /usr/local/lib/python3.9/dist-packages (from torch->torch_utils) (1.11.1)\n",
            "Requirement already satisfied: triton==2.0.0 in /usr/local/lib/python3.9/dist-packages (from torch->torch_utils) (2.0.0)\n",
            "Requirement already satisfied: filelock in /usr/local/lib/python3.9/dist-packages (from torch->torch_utils) (3.10.7)\n",
            "Requirement already satisfied: typing-extensions in /usr/local/lib/python3.9/dist-packages (from torch->torch_utils) (4.5.0)\n",
            "Requirement already satisfied: networkx in /usr/local/lib/python3.9/dist-packages (from torch->torch_utils) (3.0)\n",
            "Requirement already satisfied: lit in /usr/local/lib/python3.9/dist-packages (from triton==2.0.0->torch->torch_utils) (16.0.0)\n",
            "Requirement already satisfied: cmake in /usr/local/lib/python3.9/dist-packages (from triton==2.0.0->torch->torch_utils) (3.25.2)\n",
            "Requirement already satisfied: MarkupSafe>=2.0 in /usr/local/lib/python3.9/dist-packages (from jinja2->torch->torch_utils) (2.1.2)\n",
            "Requirement already satisfied: mpmath>=0.19 in /usr/local/lib/python3.9/dist-packages (from sympy->torch->torch_utils) (1.3.0)\n",
            "Building wheels for collected packages: torch_utils\n",
            "  Building wheel for torch_utils (setup.py) ... \u001b[?25l\u001b[?25hdone\n",
            "  Created wheel for torch_utils: filename=torch_utils-0.1.2-py3-none-any.whl size=6202 sha256=46b0ae81d4750fead54bdd028e63f2504e883fb061064c3266f6306be8ad3114\n",
            "  Stored in directory: /root/.cache/pip/wheels/b9/ae/b4/56ed29da706ea5e0f79157a9b158aad24bfabd045ef42eed75\n",
            "Successfully built torch_utils\n",
            "Installing collected packages: torch_utils\n",
            "Successfully installed torch_utils-0.1.2\n"
          ]
        }
      ]
    },
    {
      "cell_type": "code",
      "source": [
        "from IPython.core.interactiveshell import InteractiveShell\n",
        "InteractiveShell.ast_node_interactivity = \"all\"\n",
        "\n",
        "# import modules\n",
        "import pandas as pd\n",
        "import numpy as np\n",
        "import matplotlib.pyplot as plt\n",
        "import torch\n",
        "from torch import cuda\n",
        "import torch.nn as nn\n",
        "from torch.utils.data import TensorDataset, DataLoader, sampler\n",
        "import torch.nn.functional as F\n",
        "from torch_utils import AverageMeter\n",
        "import math\n",
        "import matplotlib.pyplot as plt\n",
        "from sklearn.metrics import mean_squared_error\n",
        "from numpy import inf\n",
        "\n",
        "\n",
        "from sklearn.model_selection import train_test_split\n",
        "import os\n",
        "from glob import glob\n",
        "from torchvision import transforms\n",
        "from torchvision import datasets\n",
        "from torchvision import models\n",
        "from torch import optim, cuda, Tensor\n",
        "import tqdm\n",
        "from torch.utils.data import Dataset, DataLoader\n",
        "\n",
        "# Data science tools\n",
        "import numpy as np\n",
        "\n",
        "import os\n",
        "\n",
        "# Image manipulations\n",
        "from PIL import Image\n",
        "from timeit import default_timer as timer\n",
        "\n",
        "# Visualizations\n",
        "import matplotlib.pyplot as plt\n",
        "#plt.rcParams['font.size'] = 14\n",
        "\n",
        "import warnings\n",
        "warnings.filterwarnings('ignore', category=FutureWarning)"
      ],
      "metadata": {
        "id": "Eqi18g4gqOCp"
      },
      "execution_count": 4,
      "outputs": []
    },
    {
      "cell_type": "code",
      "source": [
        "\n",
        "# Creating our dataset class\n",
        "class Build_Data(Dataset):\n",
        "    # Constructor\n",
        "    def __init__(self, train=True):\n",
        "        self.x = torch.arange(-3, 3, 0.1).view(-1, 1)\n",
        "        self.func = -5 * self.x + 1\n",
        "        self.y = self.func + 0.4 * torch.randn(self.x.size())\n",
        "        self.len = self.x.shape[0]\n",
        "        # adding some outliers\n",
        "        if train == True:\n",
        "            self.y[10:12] = 0\n",
        "            self.y[30:35] = 25\n",
        "        else:\n",
        "            pass\n",
        "    # Getting the data\n",
        "    def __getitem__(self, index):\n",
        "        return self.x[index], self.y[index]\n",
        "    # Getting length of the data\n",
        "    def __len__(self):\n",
        "        return self.len\n",
        " \n",
        "train_set = Build_Data()\n",
        "val_set = Build_Data(train=False)\n",
        " \n",
        "criterion = torch.nn.MSELoss()\n",
        "trainloader = DataLoader(dataset=train_set, batch_size=1)\n",
        " \n",
        "learning_rates = [0.1, 0.01, 0.001, 0.0001]\n",
        "train_err = torch.zeros(len(learning_rates))\n",
        "val_err = torch.zeros(len(learning_rates))\n",
        "Models = []\n",
        " \n",
        "epochs = 20\n",
        " \n",
        "# iterate through the list of various learning rates \n",
        "for i, learning_rate in enumerate(learning_rates):\n",
        "    model = torch.nn.Linear(1, 1)\n",
        "    optimizer = torch.optim.SGD(model.parameters(), lr = learning_rate)\n",
        "    for epoch in range(epochs):\n",
        "        for x, y in trainloader:\n",
        "            y_hat = model(x)\n",
        "            loss = criterion(y_hat, y)\n",
        "            optimizer.zero_grad()\n",
        "            loss.backward()\n",
        "            optimizer.step()\n",
        " \n",
        "    # training data\n",
        "    Y_hat = model(train_set.x)\n",
        "    train_loss = criterion(Y_hat, train_set.y)\n",
        "    train_err[i] = train_loss.item()\n",
        " \n",
        "    # validation data\n",
        "    Y_hat = model(val_set.x)\n",
        "    val_loss = criterion(Y_hat, val_set.y)\n",
        "    val_err[i] = val_loss.item()\n",
        "    Models.append(model)\n",
        " \n",
        "plt.semilogx(np.array(learning_rates), train_err.numpy(), label = 'total training loss')\n",
        "plt.semilogx(np.array(learning_rates), val_err.numpy(), label = 'total validation loss')\n",
        "plt.ylabel('Total Loss')\n",
        "plt.xlabel('learning rate')\n",
        "plt.legend()\n",
        "plt.show()\n",
        " \n",
        "# plotting the predictions on validation data\n",
        "for model, learning_rate in zip(Models, learning_rates):\n",
        "    yhat = model(val_set.x)\n",
        "    plt.plot(val_set.x.numpy(), yhat.detach().numpy(), label = 'learning rate:' + str(learning_rate))\n",
        "plt.plot(val_set.x.numpy(), val_set.func.numpy(), 'or', label = 'validation data')\n",
        "plt.xlabel('x')\n",
        "plt.ylabel('y')\n",
        "plt.legend()\n",
        "plt.show()"
      ],
      "metadata": {
        "colab": {
          "base_uri": "https://localhost:8080/",
          "height": 974
        },
        "id": "Dt2M4vb3kDlp",
        "outputId": "9c553f01-b37e-45b3-fec1-1ee8ad77bfe6"
      },
      "execution_count": 13,
      "outputs": [
        {
          "output_type": "execute_result",
          "data": {
            "text/plain": [
              "[<matplotlib.lines.Line2D at 0x7f3bd140e970>]"
            ]
          },
          "metadata": {},
          "execution_count": 13
        },
        {
          "output_type": "execute_result",
          "data": {
            "text/plain": [
              "[<matplotlib.lines.Line2D at 0x7f3bd140ed00>]"
            ]
          },
          "metadata": {},
          "execution_count": 13
        },
        {
          "output_type": "execute_result",
          "data": {
            "text/plain": [
              "Text(0, 0.5, 'Total Loss')"
            ]
          },
          "metadata": {},
          "execution_count": 13
        },
        {
          "output_type": "execute_result",
          "data": {
            "text/plain": [
              "Text(0.5, 0, 'learning rate')"
            ]
          },
          "metadata": {},
          "execution_count": 13
        },
        {
          "output_type": "execute_result",
          "data": {
            "text/plain": [
              "<matplotlib.legend.Legend at 0x7f3bd33ddaf0>"
            ]
          },
          "metadata": {},
          "execution_count": 13
        },
        {
          "output_type": "display_data",
          "data": {
            "text/plain": [
              "<Figure size 640x480 with 1 Axes>"
            ],
            "image/png": "[encoded data removed]"
          },
          "metadata": {}
        },
        {
          "output_type": "execute_result",
          "data": {
            "text/plain": [
              "[<matplotlib.lines.Line2D at 0x7f3bce952130>]"
            ]
          },
          "metadata": {},
          "execution_count": 13
        },
        {
          "output_type": "execute_result",
          "data": {
            "text/plain": [
              "[<matplotlib.lines.Line2D at 0x7f3bce952400>]"
            ]
          },
          "metadata": {},
          "execution_count": 13
        },
        {
          "output_type": "execute_result",
          "data": {
            "text/plain": [
              "[<matplotlib.lines.Line2D at 0x7f3bce9525b0>]"
            ]
          },
          "metadata": {},
          "execution_count": 13
        },
        {
          "output_type": "execute_result",
          "data": {
            "text/plain": [
              "[<matplotlib.lines.Line2D at 0x7f3bce952940>]"
            ]
          },
          "metadata": {},
          "execution_count": 13
        },
        {
          "output_type": "execute_result",
          "data": {
            "text/plain": [
              "[<matplotlib.lines.Line2D at 0x7f3bce952790>]"
            ]
          },
          "metadata": {},
          "execution_count": 13
        },
        {
          "output_type": "execute_result",
          "data": {
            "text/plain": [
              "Text(0.5, 0, 'x')"
            ]
          },
          "metadata": {},
          "execution_count": 13
        },
        {
          "output_type": "execute_result",
          "data": {
            "text/plain": [
              "Text(0, 0.5, 'y')"
            ]
          },
          "metadata": {},
          "execution_count": 13
        },
        {
          "output_type": "execute_result",
          "data": {
            "text/plain": [
              "<matplotlib.legend.Legend at 0x7f3bd150d370>"
            ]
          },
          "metadata": {},
          "execution_count": 13
        },
        {
          "output_type": "display_data",
          "data": {
            "text/plain": [
              "<Figure size 640x480 with 1 Axes>"
            ],
            "image/png": "[encoded data removed]"
          },
          "metadata": {}
        }
      ]
    },
    {
      "cell_type": "code",
      "source": [
        "# define model\n",
        "class bmodel(nn.Module):\n",
        "    def __init__(self, input_d, hidden_d, output_d, train=True):\n",
        "        super().__init__()\n",
        "        # Define all the layers that you need in your network\n",
        "        # You can use nn.Linear() to define the linear layer\n",
        "        # You can use nn.Dropout() to define the dropout layer\n",
        "        # You can use F.relu() to define your ReLu layer\n",
        "       # Weights and biases can be create using nn.Parameter, which has requires_grad\n",
        "       \n",
        "        self.w00 = nn.Parameter(torch.randn(1), requires_grad=True)\n",
        "        self.b00 = nn.Parameter(torch.randn(1), requires_grad=True)\n",
        "        # num of ws = num of inputs\n",
        "        # num of bs = 1 for each neuron\n",
        "        self.w01 = nn.Parameter(torch.randn(1), requires_grad=True)\n",
        "        self.b01 = nn.Parameter(torch.randn(1), requires_grad=True)\n",
        "                \n",
        "        self.w10 = nn.Parameter(torch.randn(1), requires_grad=True)\n",
        "        self.w11 = nn.Parameter(torch.randn(1), requires_grad=True)\n",
        "        self.b10 = nn.Parameter(torch.randn(1), requires_grad=True)\n",
        "\n",
        "    def forward(self, x):\n",
        "        # Design your network structure here\n",
        "          h00 = x * self.w00 + self.b00\n",
        "          h00_out = F.relu(h00)\n",
        "   \n",
        "          h01 = x * self.w01 + self.b01\n",
        "          h01_out = F.relu(h01)\n",
        "          h1 = h00_out * self.w10 + h01_out * self.w11 + self.b10\n",
        "   \n",
        "   # Since the model is binary classification, we apply sigmoid\n",
        "          output = torch.sigmoid(h1)\n",
        "   \n",
        "          return output\n"
      ],
      "metadata": {
        "id": "lp5BBLAOq_TP"
      },
      "execution_count": 5,
      "outputs": []
    },
    {
      "cell_type": "code",
      "source": [
        "# Create a small net and some toy data to check your implementations.\n",
        "# Note that we set the random seed for repeatable experiments.\n",
        "\n",
        "input_size = 4\n",
        "hidden_size = 10\n",
        "num_classes = 3\n",
        "num_inputs = 5\n",
        "\n",
        "def init_toy_model():\n",
        "    np.random.seed(0)\n",
        "    return bmodel(input_size, hidden_size, num_classes)\n",
        "\n",
        "# Creating toy dataset class\n",
        "class init_Toy_Data(Dataset):\n",
        "    # Constructor\n",
        "    def __init__(self, train=True):\n",
        "      np.random.seed(1)\n",
        "    # self.x = torch.arange(-3, 3, 0.1).view(-1, 1)\n",
        "    # self.func = -5 * self.x + 1\n",
        "    # self.y = self.func + 0.4 * torch.randn(self.x.size())\n",
        "    # self.len = self.x.shape[0]\n",
        "    #     # adding some outliers\n",
        "    # if train == True:\n",
        "    #     self.y[10:12] = 0\n",
        "    #     self.y[30:35] = 25\n",
        "    # else:\n",
        "    #     pass\n",
        "      if train == True:\n",
        "        self.X = 10 * np.random.randn(num_inputs, input_size)\n",
        "        self.y = np.array([0, 1, 2, 2, 1])\n",
        "      else:\n",
        "        self.X = 20 * np.random.randn(num_inputs, input_size)\n",
        "        self.y = np.array([1, 1, 0, 0, 2])\n",
        "      self.len = self.X.shape[0]\n",
        "      # Getting the data\n",
        "    def __getitem__(self, index):\n",
        "        return self.X[index], self.y[index]\n",
        "    # Getting length of the data\n",
        "    def __len__(self):\n",
        "        return self.len\n",
        "\n",
        "toy_model = init_toy_model()\n",
        "train_set = init_Toy_Data()\n",
        "val_set = init_Toy_Data(train=False)\n",
        "# train_X, train_Y = init_toy_data()\n",
        "# validation_X, validation_Y = init_toy_data(train=False)\n",
        "criterion = torch.nn.MSELoss()\n",
        "trainloader = DataLoader(dataset=train_set, batch_size=1)\n",
        " \n",
        "#learning_rates = [0.1, 0.01, 0.001, 0.0001,0.5, 0.05, 0.005, 0.0005]\n",
        "learning_rates = [0.1, 0.01, 0.001, 0.0001]\n",
        "train_err = torch.zeros(len(learning_rates))\n",
        "val_err = torch.zeros(len(learning_rates))\n",
        "Models = []\n",
        " \n",
        "epochs = 20\n",
        " \n",
        "# iterate through the list of various learning rates \n",
        "for i, learning_rate in enumerate(learning_rates):\n",
        "    model = torch.nn.Linear(1, 1)\n",
        "    model = init_toy_model()\n",
        "    optimizer = torch.optim.SGD(model.parameters(), lr = learning_rate)\n",
        "    for epoch in range(epochs):\n",
        "        for X, y in trainloader:\n",
        "            y_hat = model(X)\n",
        "            loss = criterion(y_hat, y)\n",
        "            loss.backward()\n",
        "            optimizer.step()\n",
        " \n",
        "    # training data\n",
        "    Y_hat = model(train_set.x)\n",
        "    train_loss = criterion(Y_hat, train_set.y)\n",
        "    train_err[i] = train_loss.item()\n",
        " \n",
        "    # validation data\n",
        "    Y_hat = model(val_set.x)\n",
        "    val_loss = criterion(Y_hat, val_set.y)\n",
        "    val_err[i] = val_loss.item()\n",
        "    Models.append(model)\n",
        " \n",
        "plt.semilogx(np.array(learning_rates), train_err.numpy(), label = 'total training loss')\n",
        "plt.semilogx(np.array(learning_rates), val_err.numpy(), label = 'total validation loss')\n",
        "plt.ylabel('Total Loss')\n",
        "plt.xlabel('learning rate')\n",
        "plt.legend()\n",
        "plt.show()\n",
        " \n",
        "# plotting the predictions on validation data\n",
        "for model, learning_rate in zip(Models, learning_rates):\n",
        "    yhat = model(val_set.x)\n",
        "    plt.plot(val_set.x.numpy(), yhat.detach().numpy(), label = 'learning rate:' + str(learning_rate))\n",
        "plt.plot(val_set.x.numpy(), val_set.func.numpy(), 'or', label = 'validation data')\n",
        "plt.xlabel('x')\n",
        "plt.ylabel('y')\n",
        "plt.legend()\n",
        "plt.show()"
      ],
      "metadata": {
        "colab": {
          "base_uri": "https://localhost:8080/",
          "height": 459
        },
        "id": "4oGc0V_G6x3E",
        "outputId": "f186c706-c0ce-4193-cd6b-d5967898ea17"
      },
      "execution_count": 17,
      "outputs": [
        {
          "output_type": "stream",
          "name": "stderr",
          "text": [
            "/usr/local/lib/python3.9/dist-packages/torch/nn/modules/loss.py:536: UserWarning: Using a target size (torch.Size([1])) that is different to the input size (torch.Size([1, 4])). This will likely lead to incorrect results due to broadcasting. Please ensure they have the same size.\n",
            "  return F.mse_loss(input, target, reduction=self.reduction)\n"
          ]
        },
        {
          "output_type": "error",
          "ename": "RuntimeError",
          "evalue": "ignored",
          "traceback": [
            "\u001b[0;31m---------------------------------------------------------------------------\u001b[0m",
            "\u001b[0;31mRuntimeError\u001b[0m                              Traceback (most recent call last)",
            "\u001b[0;32m<ipython-input-17-8187316e46a3>\u001b[0m in \u001b[0;36m<cell line: 59>\u001b[0;34m()\u001b[0m\n\u001b[1;32m     65\u001b[0m             \u001b[0my_hat\u001b[0m \u001b[0;34m=\u001b[0m \u001b[0mmodel\u001b[0m\u001b[0;34m(\u001b[0m\u001b[0mX\u001b[0m\u001b[0;34m)\u001b[0m\u001b[0;34m\u001b[0m\u001b[0;34m\u001b[0m\u001b[0m\n\u001b[1;32m     66\u001b[0m             \u001b[0mloss\u001b[0m \u001b[0;34m=\u001b[0m \u001b[0mcriterion\u001b[0m\u001b[0;34m(\u001b[0m\u001b[0my_hat\u001b[0m\u001b[0;34m,\u001b[0m \u001b[0my\u001b[0m\u001b[0;34m)\u001b[0m\u001b[0;34m\u001b[0m\u001b[0;34m\u001b[0m\u001b[0m\n\u001b[0;32m---> 67\u001b[0;31m             \u001b[0mloss\u001b[0m\u001b[0;34m.\u001b[0m\u001b[0mbackward\u001b[0m\u001b[0;34m(\u001b[0m\u001b[0;34m)\u001b[0m\u001b[0;34m\u001b[0m\u001b[0;34m\u001b[0m\u001b[0m\n\u001b[0m\u001b[1;32m     68\u001b[0m             \u001b[0moptimizer\u001b[0m\u001b[0;34m.\u001b[0m\u001b[0mstep\u001b[0m\u001b[0;34m(\u001b[0m\u001b[0;34m)\u001b[0m\u001b[0;34m\u001b[0m\u001b[0;34m\u001b[0m\u001b[0m\n\u001b[1;32m     69\u001b[0m \u001b[0;34m\u001b[0m\u001b[0m\n",
            "\u001b[0;32m/usr/local/lib/python3.9/dist-packages/torch/_tensor.py\u001b[0m in \u001b[0;36mbackward\u001b[0;34m(self, gradient, retain_graph, create_graph, inputs)\u001b[0m\n\u001b[1;32m    485\u001b[0m                 \u001b[0minputs\u001b[0m\u001b[0;34m=\u001b[0m\u001b[0minputs\u001b[0m\u001b[0;34m,\u001b[0m\u001b[0;34m\u001b[0m\u001b[0;34m\u001b[0m\u001b[0m\n\u001b[1;32m    486\u001b[0m             )\n\u001b[0;32m--> 487\u001b[0;31m         torch.autograd.backward(\n\u001b[0m\u001b[1;32m    488\u001b[0m             \u001b[0mself\u001b[0m\u001b[0;34m,\u001b[0m \u001b[0mgradient\u001b[0m\u001b[0;34m,\u001b[0m \u001b[0mretain_graph\u001b[0m\u001b[0;34m,\u001b[0m \u001b[0mcreate_graph\u001b[0m\u001b[0;34m,\u001b[0m \u001b[0minputs\u001b[0m\u001b[0;34m=\u001b[0m\u001b[0minputs\u001b[0m\u001b[0;34m\u001b[0m\u001b[0;34m\u001b[0m\u001b[0m\n\u001b[1;32m    489\u001b[0m         )\n",
            "\u001b[0;32m/usr/local/lib/python3.9/dist-packages/torch/autograd/__init__.py\u001b[0m in \u001b[0;36mbackward\u001b[0;34m(tensors, grad_tensors, retain_graph, create_graph, grad_variables, inputs)\u001b[0m\n\u001b[1;32m    198\u001b[0m     \u001b[0;31m# some Python versions print out the first line of a multi-line function\u001b[0m\u001b[0;34m\u001b[0m\u001b[0;34m\u001b[0m\u001b[0m\n\u001b[1;32m    199\u001b[0m     \u001b[0;31m# calls in the traceback and some print out the last line\u001b[0m\u001b[0;34m\u001b[0m\u001b[0;34m\u001b[0m\u001b[0m\n\u001b[0;32m--> 200\u001b[0;31m     Variable._execution_engine.run_backward(  # Calls into the C++ engine to run the backward pass\n\u001b[0m\u001b[1;32m    201\u001b[0m         \u001b[0mtensors\u001b[0m\u001b[0;34m,\u001b[0m \u001b[0mgrad_tensors_\u001b[0m\u001b[0;34m,\u001b[0m \u001b[0mretain_graph\u001b[0m\u001b[0;34m,\u001b[0m \u001b[0mcreate_graph\u001b[0m\u001b[0;34m,\u001b[0m \u001b[0minputs\u001b[0m\u001b[0;34m,\u001b[0m\u001b[0;34m\u001b[0m\u001b[0;34m\u001b[0m\u001b[0m\n\u001b[1;32m    202\u001b[0m         allow_unreachable=True, accumulate_grad=True)  # Calls into the C++ engine to run the backward pass\n",
            "\u001b[0;31mRuntimeError\u001b[0m: Found dtype Long but expected Double"
          ]
        }
      ]
    },
    {
      "cell_type": "code",
      "source": [
        "np.random.randn(3, 3)"
      ],
      "metadata": {
        "colab": {
          "base_uri": "https://localhost:8080/"
        },
        "id": "DMIdXufpEHu4",
        "outputId": "44059bfb-680c-49c5-9163-401d3f1f838b"
      },
      "execution_count": 3,
      "outputs": [
        {
          "output_type": "execute_result",
          "data": {
            "text/plain": [
              "array([[-1.08642600e+00,  8.59755906e-02, -8.37879657e-01],\n",
              "       [ 5.27844588e-01, -9.01896691e-01, -4.69155000e-04],\n",
              "       [-5.16243140e-01, -7.38483177e-01, -8.60462589e-02]])"
            ]
          },
          "metadata": {},
          "execution_count": 3
        }
      ]
    },
    {
      "cell_type": "code",
      "source": [
        "# Check whether there is a gpu for cuda\n",
        "import torch\n",
        "train_on_gpu = torch.cuda.is_available()\n",
        "print(f'Train on gpu: {train_on_gpu}')\n",
        "\n",
        "# Number of gpus\n",
        "if train_on_gpu:\n",
        "    gpu_count = torch.cuda.device_count()\n",
        "    print(f'{gpu_count} gpus detected.')\n",
        "    if gpu_count > 1:\n",
        "        multi_gpu = True\n",
        "    else:\n",
        "        multi_gpu = False\n",
        "else:\n",
        "    multi_gpu = False\n",
        "print(train_on_gpu,multi_gpu)"
      ],
      "metadata": {
        "colab": {
          "base_uri": "https://localhost:8080/"
        },
        "id": "m1gmvpdB7dod",
        "outputId": "e0f283f4-a45e-49d6-d291-c9ebd3121a87"
      },
      "execution_count": 5,
      "outputs": [
        {
          "output_type": "stream",
          "name": "stdout",
          "text": [
            "Train on gpu: True\n",
            "1 gpus detected.\n",
            "True False\n"
          ]
        }
      ]
    },
    {
      "cell_type": "code",
      "source": [
        "import torch\n",
        "# torch.linspace() creates the sequence of numbers between start and end, inclusively\n",
        "toy_inputs = torch.linspace(start=100000, end=500000, steps=10) # same # of inputs\n",
        "# [100000, 150000, ... 500000]\n",
        "toy_labels = torch.tensor([0., 0., 0., 1., 1., 0., 1., 1., 1., 1.]) # same # of outputs\n",
        "\n",
        "\n",
        "################################################################################################################ \n",
        "# TODO: Uncomment code below to see the effect of feature scaling!\n",
        "# X_mean = torch.mean(toy_inputs, dim=0) # Compute the mean of each feature across all samples\n",
        "# X_std = torch.std(toy_inputs, dim=0) # Compute the standard deviation of each feature across all samples\n",
        "\n",
        "# # Normalize the inputs using the mean and standard deviation\n",
        "# toy_inputs = (toy_inputs - X_mean) / X_std\n",
        "################################################################################################################ \n",
        "\n",
        "\n",
        "# create the ToyModel\n",
        "model = ToyModel()\n",
        "\n",
        "optimizer = SGD(model.parameters(), lr=0.05)\n",
        "criterion = nn.BCEWithLogitsLoss()\n",
        "\n",
        "previous_total_loss = 0\n",
        "for epoch in range(100):\n",
        "\n",
        "    total_loss = 0\n",
        "    \n",
        "    # going through my inputs\n",
        "    for iteration in range(len(toy_inputs)):\n",
        "        \n",
        "        input_i = toy_inputs[iteration]  # x\n",
        "        label_i = toy_inputs[iteration]  # y\n",
        "        \n",
        "        # 1 - forward pass\n",
        "        output_i = model(input_i) ## calculate the neural network output for one input\n",
        "        \n",
        "        # 2 - compute loss\n",
        "        loss = criterion(output_i.squeeze(), label_i)\n",
        "\n",
        "        # 3 - backprop\n",
        "        loss.backward() # calculates the gradient for a single value and adds it to the previous one\n",
        "        \n",
        "        total_loss += float(loss.item()) # add the total loss for this epoch.\n",
        "        \n",
        "    # early stopping\n",
        "    if (total_loss < 0.5):\n",
        "        print(\"Epoch #\" + str(epoch))\n",
        "        break\n",
        "      \n",
        "    optimizer.step() # update the parameters\n",
        "    optimizer.zero_grad() # zero out the previous gradient\n",
        "    \n",
        "\n",
        "    print(\"Total loss: \" + str(total_loss))"
      ],
      "metadata": {
        "colab": {
          "base_uri": "https://localhost:8080/",
          "height": 238
        },
        "id": "pPRUG4WeMwYG",
        "outputId": "be878374-3233-4460-ce88-64b20d51c4cc"
      },
      "execution_count": 2,
      "outputs": [
        {
          "output_type": "error",
          "ename": "NameError",
          "evalue": "ignored",
          "traceback": [
            "\u001b[0;31m---------------------------------------------------------------------------\u001b[0m",
            "\u001b[0;31mNameError\u001b[0m                                 Traceback (most recent call last)",
            "\u001b[0;32m<ipython-input-2-0daaf8fb1ecc>\u001b[0m in \u001b[0;36m<cell line: 19>\u001b[0;34m()\u001b[0m\n\u001b[1;32m     17\u001b[0m \u001b[0;34m\u001b[0m\u001b[0m\n\u001b[1;32m     18\u001b[0m \u001b[0;31m# create the ToyModel\u001b[0m\u001b[0;34m\u001b[0m\u001b[0;34m\u001b[0m\u001b[0m\n\u001b[0;32m---> 19\u001b[0;31m \u001b[0mmodel\u001b[0m \u001b[0;34m=\u001b[0m \u001b[0mToyModel\u001b[0m\u001b[0;34m(\u001b[0m\u001b[0;34m)\u001b[0m\u001b[0;34m\u001b[0m\u001b[0;34m\u001b[0m\u001b[0m\n\u001b[0m\u001b[1;32m     20\u001b[0m \u001b[0;34m\u001b[0m\u001b[0m\n\u001b[1;32m     21\u001b[0m \u001b[0moptimizer\u001b[0m \u001b[0;34m=\u001b[0m \u001b[0mSGD\u001b[0m\u001b[0;34m(\u001b[0m\u001b[0mmodel\u001b[0m\u001b[0;34m.\u001b[0m\u001b[0mparameters\u001b[0m\u001b[0;34m(\u001b[0m\u001b[0;34m)\u001b[0m\u001b[0;34m,\u001b[0m \u001b[0mlr\u001b[0m\u001b[0;34m=\u001b[0m\u001b[0;36m0.05\u001b[0m\u001b[0;34m)\u001b[0m\u001b[0;34m\u001b[0m\u001b[0;34m\u001b[0m\u001b[0m\n",
            "\u001b[0;31mNameError\u001b[0m: name 'ToyModel' is not defined"
          ]
        }
      ]
    },
    {
      "cell_type": "code",
      "source": [
        "# Datasets organization\n",
        "batch_size = 1\n",
        "\n",
        "# Transfer the data from numpy to tensor\n",
        "data = {\n",
        "    'train':\n",
        "    TensorDataset(torch.from_numpy(train_X), torch.from_numpy(train_Y).float()),\n",
        "    'valid':\n",
        "    # please define your validation dataset\n",
        "    ######################\n",
        "    ### YOUR CODE HERE ###\n",
        "    ######################\n",
        "    \n",
        "    #####################\n",
        "    ### YOUR CODE END ###\n",
        "    #####################\n",
        "\n",
        "}\n"
      ],
      "metadata": {
        "id": "28QP34jw-F8N"
      },
      "execution_count": null,
      "outputs": []
    }
  ]
}