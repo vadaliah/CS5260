{
  "nbformat": 4,
  "nbformat_minor": 0,
  "metadata": {
    "colab": {
      "provenance": [],
      "authorship_tag": "ABX9TyN8Q8hUuUJsa6R42fBHOBpA",
      "include_colab_link": true
    },
    "kernelspec": {
      "name": "python3",
      "display_name": "Python 3"
    },
    "language_info": {
      "name": "python"
    }
  },
  "cells": [
    {
      "cell_type": "markdown",
      "metadata": {
        "id": "view-in-github",
        "colab_type": "text"
      },
      "source": [
        "<a href=\"https://colab.research.google.com/github/vadaliah/CS5260/blob/master/Assignment8.ipynb\" target=\"_parent\"><img src=\"https://colab.research.google.com/assets/colab-badge.svg\" alt=\"Open In Colab\"/></a>"
      ]
    },
    {
      "cell_type": "code",
      "execution_count": null,
      "metadata": {
        "id": "MsWX5Dfc7NZi"
      },
      "outputs": [],
      "source": []
    },
    {
      "cell_type": "code",
      "source": [
        "from google.colab import drive\n",
        "drive.mount('/content/gdrive')"
      ],
      "metadata": {
        "colab": {
          "base_uri": "https://localhost:8080/"
        },
        "id": "mugdk2NC7al1",
        "outputId": "ed487781-50c6-4e69-b8e2-cd6a1568e313"
      },
      "execution_count": 2,
      "outputs": [
        {
          "output_type": "stream",
          "name": "stdout",
          "text": [
            "Mounted at /content/gdrive\n"
          ]
        }
      ]
    },
    {
      "cell_type": "code",
      "source": [
        "%cd gdrive/My\\ Drive/Colab\\ Notebooks/hw1"
      ],
      "metadata": {
        "colab": {
          "base_uri": "https://localhost:8080/"
        },
        "id": "tSTLIzIk7mop",
        "outputId": "64125800-34e9-4982-a388-65592e056c97"
      },
      "execution_count": 3,
      "outputs": [
        {
          "output_type": "stream",
          "name": "stdout",
          "text": [
            "/content/gdrive/My Drive/Colab Notebooks/hw1\n"
          ]
        }
      ]
    },
    {
      "cell_type": "code",
      "source": [
        "#imports\n",
        "import pandas as pd\n",
        "import numpy as np\n",
        "import matplotlib.pyplot as plt"
      ],
      "metadata": {
        "id": "e2z1OSTR7ryQ"
      },
      "execution_count": 4,
      "outputs": []
    },
    {
      "cell_type": "code",
      "source": [
        "food_truck_regr_data = np.loadtxt('/content/gdrive/My Drive/Colab Notebooks/hw1/food_truck_data.txt',delimiter=',')"
      ],
      "metadata": {
        "id": "wkqjKbC89pmB"
      },
      "execution_count": 5,
      "outputs": []
    },
    {
      "cell_type": "code",
      "source": [
        "# make up some initial thetas\n",
        "theta_0 = 0.22\n",
        "theta_1 = 0.86"
      ],
      "metadata": {
        "id": "pJbm5lF88rS9"
      },
      "execution_count": 6,
      "outputs": []
    },
    {
      "cell_type": "code",
      "source": [
        "# get example 0\n",
        "x1, y = food_truck_regr_data[0]\n",
        "x1, y"
      ],
      "metadata": {
        "colab": {
          "base_uri": "https://localhost:8080/"
        },
        "id": "Zk7S4YOoT63t",
        "outputId": "02344c2e-eb2e-4d71-f173-3a10e45c9a0f"
      },
      "execution_count": 7,
      "outputs": [
        {
          "output_type": "execute_result",
          "data": {
            "text/plain": [
              "(6.1101, 17.592)"
            ]
          },
          "metadata": {},
          "execution_count": 7
        }
      ]
    },
    {
      "cell_type": "code",
      "source": [
        "# use formula for linear regression to get output\n",
        "y_hat = theta_0 + theta_1 * x1"
      ],
      "metadata": {
        "id": "8OL6HlYmUG1N"
      },
      "execution_count": 8,
      "outputs": []
    },
    {
      "cell_type": "code",
      "source": [
        "# calculate basic error\n",
        "error = y_hat - y\n",
        "error"
      ],
      "metadata": {
        "colab": {
          "base_uri": "https://localhost:8080/"
        },
        "id": "vo1pNgaoUQNW",
        "outputId": "ceb6169d-ad34-4ed6-f8b7-ec137ecbc304"
      },
      "execution_count": 9,
      "outputs": [
        {
          "output_type": "execute_result",
          "data": {
            "text/plain": [
              "-12.117313999999999"
            ]
          },
          "metadata": {},
          "execution_count": 9
        }
      ]
    },
    {
      "cell_type": "code",
      "source": [
        "# calculate cost\n",
        "cost = 0.5 * (error ** 2)\n",
        "cost"
      ],
      "metadata": {
        "colab": {
          "base_uri": "https://localhost:8080/"
        },
        "id": "OS54yHAtUbwM",
        "outputId": "aa078a51-3f59-455e-ed6b-8401aad73919"
      },
      "execution_count": 10,
      "outputs": [
        {
          "output_type": "execute_result",
          "data": {
            "text/plain": [
              "73.41464928729798"
            ]
          },
          "metadata": {},
          "execution_count": 10
        }
      ]
    },
    {
      "cell_type": "code",
      "source": [
        "# new parameter - learning rate\n",
        "alpha = 5e-3\n",
        "alpha"
      ],
      "metadata": {
        "colab": {
          "base_uri": "https://localhost:8080/"
        },
        "id": "XZaz2BFrv50t",
        "outputId": "a541ae01-32b5-4715-a208-78de0f0289c4"
      },
      "execution_count": 11,
      "outputs": [
        {
          "output_type": "execute_result",
          "data": {
            "text/plain": [
              "0.005"
            ]
          },
          "metadata": {},
          "execution_count": 11
        }
      ]
    },
    {
      "cell_type": "code",
      "source": [
        "# calculate update for theta 0\n",
        "theta_0_new = theta_0 - alpha * (error) * 1\n",
        "theta_0_new"
      ],
      "metadata": {
        "colab": {
          "base_uri": "https://localhost:8080/"
        },
        "id": "k102mxFzwCt_",
        "outputId": "66b5640e-cf94-4d9d-c7a3-81fdc9774740"
      },
      "execution_count": 16,
      "outputs": [
        {
          "output_type": "execute_result",
          "data": {
            "text/plain": [
              "0.28058657"
            ]
          },
          "metadata": {},
          "execution_count": 16
        }
      ]
    },
    {
      "cell_type": "code",
      "source": [
        "# calculate update for theta 1\n",
        "theta_1_new = theta_1 - alpha * (error) * x1\n",
        "theta_1_new"
      ],
      "metadata": {
        "colab": {
          "base_uri": "https://localhost:8080/"
        },
        "id": "SCos0hmGxx2y",
        "outputId": "0f641dca-aed0-4687-d897-c35672ca9159"
      },
      "execution_count": 15,
      "outputs": [
        {
          "output_type": "execute_result",
          "data": {
            "text/plain": [
              "1.230190001357"
            ]
          },
          "metadata": {},
          "execution_count": 15
        }
      ]
    },
    {
      "cell_type": "code",
      "source": [
        "# do the update\n",
        "theta_0 = theta_0_new\n",
        "theta_1 = theta_1_new"
      ],
      "metadata": {
        "id": "Omk1XnDExqw3"
      },
      "execution_count": 17,
      "outputs": []
    },
    {
      "cell_type": "code",
      "source": [
        "def calculate_single_forward(thetas, train_ex):\n",
        "    '''\n",
        "        thetas: theta0, theta1, ..., thetaj\n",
        "        train_ex: (x, y)\n",
        "        \n",
        "        returns: gradients based on a single training example\n",
        "    '''\n",
        "\n",
        "    # parse model parameters\n",
        "    theta_0 = thetas[0]\n",
        "    theta_1 = thetas[1]\n",
        "\n",
        "    # parse data inputs\n",
        "    x0 = 1\n",
        "    x1 = train_ex[0]\n",
        "    y = train_ex[1]\n",
        "\n",
        "    # do one forward pass with a single training example\n",
        "    # to calculate error and gradient\n",
        "    y_hat = theta_0 + theta_1 * x1\n",
        "    error = y_hat - y\n",
        "\n",
        "    # for each theta, we need the gradient for an update\n",
        "    gradients = np.array([error * x0, error * x1])\n",
        "\n",
        "    # Question: what would you do differently for GD or mini-batch GD?\n",
        "\n",
        "    return gradients"
      ],
      "metadata": {
        "id": "Cyg-Cxo2yXDI"
      },
      "execution_count": 19,
      "outputs": []
    },
    {
      "cell_type": "code",
      "source": [
        "def gradient_descent(training_data, thetas, alpha=5e-3):\n",
        "    '''\n",
        "    training_data: training dataset\n",
        "    thetas: theta0, theta1, ..., thetaj\n",
        "    alpha: learning rate, default to 0.0005\n",
        "    \n",
        "    returns: \n",
        "            - thetas: the updated thetas\n",
        "            - total_error: total error (note, not loss) from this iterat\n",
        "    '''\n",
        "    \n",
        "    total_error = 0\n",
        "    overall_gradients = np.zeros(2)\n",
        "\n",
        "    # compute the summation of gradients across all training examples\n",
        "    for ex in training_data:\n",
        "        gradients = calculate_single_forward(thetas, ex)\n",
        "        # gradients[0] is the error term (gradients[0] = error * x0 = er\n",
        "        total_error += gradients[0]\n",
        "        overall_gradients = overall_gradients + gradients\n",
        "\n",
        "    # update thetas\n",
        "    theta_0, theta_1 = thetas\n",
        "    thetas[0] = theta_0 - alpha * overall_gradients[0]\n",
        "    thetas[1] = theta_1 - alpha * overall_gradients[1]\n",
        "\n",
        "    return thetas, total_error"
      ],
      "metadata": {
        "id": "y1vu0qTCy1GS"
      },
      "execution_count": 18,
      "outputs": []
    },
    {
      "cell_type": "code",
      "source": [
        "# set initial parameters\n",
        "thetas = [3.44, 2.13]\n",
        "old_thetas = thetas.copy()\n",
        "alpha = 5e-3\n",
        "\n",
        "# prepare training\n",
        "total_epochs = 100\n",
        "error_traj = [0] * total_epochs\n",
        "\n",
        "# perform training\n",
        "for epoch in range(total_epochs):\n",
        "    thetas, epoch_error = gradient_descent(food_truck_regr_data, thetas, alpha)\n",
        "    # store a history of errors\n",
        "    error_traj[epoch] = epoch_error"
      ],
      "metadata": {
        "id": "m8kkJZUVzGKo"
      },
      "execution_count": 20,
      "outputs": []
    },
    {
      "cell_type": "code",
      "source": [
        "# Let's do an exploratory plot\n",
        "plt.plot(error_traj)\n",
        "plt.xlabel('Epoch')\n",
        "plt.ylabel('Error')\n",
        "plt.title('Training of Demo Regression model');"
      ],
      "metadata": {
        "colab": {
          "base_uri": "https://localhost:8080/",
          "height": 295
        },
        "id": "jar-HFG5zack",
        "outputId": "b9657bfa-8c44-446b-ee75-5ef1a4514dd3"
      },
      "execution_count": 21,
      "outputs": [
        {
          "output_type": "display_data",
          "data": {
            "text/plain": [
              "<Figure size 432x288 with 1 Axes>"
            ],
            "image/png": "[encoded data removed]"
          },
          "metadata": {
            "needs_background": "light"
          }
        }
      ]
    }
  ]
}