{
  "cells": [
    {
      "cell_type": "markdown",
      "metadata": {
        "id": "view-in-github",
        "colab_type": "text"
      },
      "source": [
        "<a href=\"https://colab.research.google.com/github/vadaliah/CS5260Assignment/blob/master/sklearn_FOREX_VWAP_solutions.ipynb\" target=\"_parent\"><img src=\"https://colab.research.google.com/assets/colab-badge.svg\" alt=\"Open In Colab\"/></a>"
      ]
    },
    {
      "cell_type": "markdown",
      "id": "82ba5cb0-b81e-43ea-acfa-e661fff2572c",
      "metadata": {
        "id": "82ba5cb0-b81e-43ea-acfa-e661fff2572c"
      },
      "source": [
        "# **Machine Learning Forex VWAP(Volume Weighted Average Price) Solution using scikit-learn**"
      ]
    },
    {
      "cell_type": "markdown",
      "id": "3a251b12-73f7-4007-8f91-a866b8539ded",
      "metadata": {
        "id": "3a251b12-73f7-4007-8f91-a866b8539ded"
      },
      "source": [
        "This notebook demonstrates Machine Learning solution to predict VWAP direction for given currency pair based on historical prices\n",
        "\n",
        "## Problem Formulation\n",
        "\n",
        "In this example, we will use Historical Currency price dataset provided from FOREX Tester APP, available here: https:https://forextester.com/data/datasources.\n",
        "\n",
        "The dataset contains Hourly pricing data on EURUSD Currency Pair daily for 201804. Initial development and proof of concept is done using EURUSD curreny data but plan to extend across all major G10 Currenvy pairs."
      ]
    },
    {
      "cell_type": "code",
      "execution_count": 2,
      "id": "5d51761d-af0e-411f-9375-54bcd91a62db",
      "metadata": {
        "id": "5d51761d-af0e-411f-9375-54bcd91a62db"
      },
      "outputs": [],
      "source": [
        "#tables and visualizations\n",
        "import pandas as pd\n",
        "import numpy as np\n",
        "import seaborn as sns\n",
        "import matplotlib.pyplot as plt\n",
        "\n",
        "#machine learning\n",
        "from sklearn.model_selection import train_test_split, GridSearchCV\n",
        "from sklearn.linear_model import LogisticRegression\n",
        "from sklearn.ensemble import RandomForestClassifier\n",
        "from sklearn.pipeline import Pipeline \n",
        "from sklearn.compose import ColumnTransformer, make_column_selector\n",
        "from sklearn.impute import SimpleImputer\n",
        "from sklearn.preprocessing import OneHotEncoder, LabelBinarizer, StandardScaler\n",
        "from sklearn import config_context\n",
        "from sklearn.metrics import classification_report, confusion_matrix, ConfusionMatrixDisplay"
      ]
    },
    {
      "cell_type": "code",
      "source": [
        "%ls /eurusd.csv\n"
      ],
      "metadata": {
        "colab": {
          "base_uri": "https://localhost:8080/"
        },
        "id": "eJni6qvAIzWJ",
        "outputId": "491e9174-5cb7-4d35-c1e7-9f0f6fc8e08f"
      },
      "id": "eJni6qvAIzWJ",
      "execution_count": 3,
      "outputs": [
        {
          "output_type": "stream",
          "name": "stdout",
          "text": [
            "/eurusd.csv\n"
          ]
        }
      ]
    },
    {
      "cell_type": "markdown",
      "id": "87e69be8-1415-482e-adc2-4d71a697535b",
      "metadata": {
        "id": "87e69be8-1415-482e-adc2-4d71a697535b"
      },
      "source": [
        "## Load Data\n",
        "\n",
        "Here we first load the data into python using pandas and read it in as a pandas dataframe which is the format which we will use throughout the example.\n",
        "fx_volume data consist of Pricing data for the hourly interval\n",
        "*   CurrencyPair Ticker\n",
        "*   BUSINESSDATE AS DTYYYYMMDD\n",
        "*   HOUR as TIME\n",
        "*   OPEN PRICE\n",
        "*   HIGH PRICE\n",
        "*   LOW PRICE\n",
        "*   CLOSING PRICE\n",
        "*   VOLUME\n"
      ]
    },
    {
      "cell_type": "code",
      "execution_count": 4,
      "id": "6b347d70-2e7b-4cdc-a290-ace614045711",
      "metadata": {
        "colab": {
          "base_uri": "https://localhost:8080/",
          "height": 475
        },
        "id": "6b347d70-2e7b-4cdc-a290-ace614045711",
        "outputId": "c40d8607-94ae-45e7-86e7-d77da07c462a"
      },
      "outputs": [
        {
          "output_type": "display_data",
          "data": {
            "text/plain": [
              "  <TICKER>  <DTYYYYMMDD> <TIME>   <OPEN>   <HIGH>    <LOW>  <CLOSE>  \\\n",
              "0   EURUSD      20180401  21:00  1.23199  1.23230  1.23165  1.23204   \n",
              "1   EURUSD      20180401  22:00  1.23204  1.23217  1.23132  1.23172   \n",
              "2   EURUSD      20180401  23:00  1.23172  1.23206  1.23124  1.23125   \n",
              "3   EURUSD      20180402  00:00  1.23127  1.23217  1.23107  1.23217   \n",
              "4   EURUSD      20180402  01:00  1.23219  1.23282  1.23214  1.23263   \n",
              "\n",
              "        <VOL>  \n",
              "0   469600000  \n",
              "1  4095050000  \n",
              "2  3291760001  \n",
              "3  5418240002  \n",
              "4  4164520003  "
            ],
            "text/html": [
              "\n",
              "  <div id=\"df-024c875e-cbad-4565-80b9-cc6f1d9b0a32\">\n",
              "    <div class=\"colab-df-container\">\n",
              "      <div>\n",
              "<style scoped>\n",
              "    .dataframe tbody tr th:only-of-type {\n",
              "        vertical-align: middle;\n",
              "    }\n",
              "\n",
              "    .dataframe tbody tr th {\n",
              "        vertical-align: top;\n",
              "    }\n",
              "\n",
              "    .dataframe thead th {\n",
              "        text-align: right;\n",
              "    }\n",
              "</style>\n",
              "<table border=\"1\" class=\"dataframe\">\n",
              "  <thead>\n",
              "    <tr style=\"text-align: right;\">\n",
              "      <th></th>\n",
              "      <th>&lt;TICKER&gt;</th>\n",
              "      <th>&lt;DTYYYYMMDD&gt;</th>\n",
              "      <th>&lt;TIME&gt;</th>\n",
              "      <th>&lt;OPEN&gt;</th>\n",
              "      <th>&lt;HIGH&gt;</th>\n",
              "      <th>&lt;LOW&gt;</th>\n",
              "      <th>&lt;CLOSE&gt;</th>\n",
              "      <th>&lt;VOL&gt;</th>\n",
              "    </tr>\n",
              "  </thead>\n",
              "  <tbody>\n",
              "    <tr>\n",
              "      <th>0</th>\n",
              "      <td>EURUSD</td>\n",
              "      <td>20180401</td>\n",
              "      <td>21:00</td>\n",
              "      <td>1.23199</td>\n",
              "      <td>1.23230</td>\n",
              "      <td>1.23165</td>\n",
              "      <td>1.23204</td>\n",
              "      <td>469600000</td>\n",
              "    </tr>\n",
              "    <tr>\n",
              "      <th>1</th>\n",
              "      <td>EURUSD</td>\n",
              "      <td>20180401</td>\n",
              "      <td>22:00</td>\n",
              "      <td>1.23204</td>\n",
              "      <td>1.23217</td>\n",
              "      <td>1.23132</td>\n",
              "      <td>1.23172</td>\n",
              "      <td>4095050000</td>\n",
              "    </tr>\n",
              "    <tr>\n",
              "      <th>2</th>\n",
              "      <td>EURUSD</td>\n",
              "      <td>20180401</td>\n",
              "      <td>23:00</td>\n",
              "      <td>1.23172</td>\n",
              "      <td>1.23206</td>\n",
              "      <td>1.23124</td>\n",
              "      <td>1.23125</td>\n",
              "      <td>3291760001</td>\n",
              "    </tr>\n",
              "    <tr>\n",
              "      <th>3</th>\n",
              "      <td>EURUSD</td>\n",
              "      <td>20180402</td>\n",
              "      <td>00:00</td>\n",
              "      <td>1.23127</td>\n",
              "      <td>1.23217</td>\n",
              "      <td>1.23107</td>\n",
              "      <td>1.23217</td>\n",
              "      <td>5418240002</td>\n",
              "    </tr>\n",
              "    <tr>\n",
              "      <th>4</th>\n",
              "      <td>EURUSD</td>\n",
              "      <td>20180402</td>\n",
              "      <td>01:00</td>\n",
              "      <td>1.23219</td>\n",
              "      <td>1.23282</td>\n",
              "      <td>1.23214</td>\n",
              "      <td>1.23263</td>\n",
              "      <td>4164520003</td>\n",
              "    </tr>\n",
              "  </tbody>\n",
              "</table>\n",
              "</div>\n",
              "      <button class=\"colab-df-convert\" onclick=\"convertToInteractive('df-024c875e-cbad-4565-80b9-cc6f1d9b0a32')\"\n",
              "              title=\"Convert this dataframe to an interactive table.\"\n",
              "              style=\"display:none;\">\n",
              "        \n",
              "  <svg xmlns=\"http://www.w3.org/2000/svg\" height=\"24px\"viewBox=\"0 0 24 24\"\n",
              "       width=\"24px\">\n",
              "    <path d=\"M0 0h24v24H0V0z\" fill=\"none\"/>\n",
              "    <path d=\"M18.56 5.44l.94 2.06.94-2.06 2.06-.94-2.06-.94-.94-2.06-.94 2.06-2.06.94zm-11 1L8.5 8.5l.94-2.06 2.06-.94-2.06-.94L8.5 2.5l-.94 2.06-2.06.94zm10 10l.94 2.06.94-2.06 2.06-.94-2.06-.94-.94-2.06-.94 2.06-2.06.94z\"/><path d=\"M17.41 7.96l-1.37-1.37c-.4-.4-.92-.59-1.43-.59-.52 0-1.04.2-1.43.59L10.3 9.45l-7.72 7.72c-.78.78-.78 2.05 0 2.83L4 21.41c.39.39.9.59 1.41.59.51 0 1.02-.2 1.41-.59l7.78-7.78 2.81-2.81c.8-.78.8-2.07 0-2.86zM5.41 20L4 18.59l7.72-7.72 1.47 1.35L5.41 20z\"/>\n",
              "  </svg>\n",
              "      </button>\n",
              "      \n",
              "  <style>\n",
              "    .colab-df-container {\n",
              "      display:flex;\n",
              "      flex-wrap:wrap;\n",
              "      gap: 12px;\n",
              "    }\n",
              "\n",
              "    .colab-df-convert {\n",
              "      background-color: #E8F0FE;\n",
              "      border: none;\n",
              "      border-radius: 50%;\n",
              "      cursor: pointer;\n",
              "      display: none;\n",
              "      fill: #1967D2;\n",
              "      height: 32px;\n",
              "      padding: 0 0 0 0;\n",
              "      width: 32px;\n",
              "    }\n",
              "\n",
              "    .colab-df-convert:hover {\n",
              "      background-color: #E2EBFA;\n",
              "      box-shadow: 0px 1px 2px rgba(60, 64, 67, 0.3), 0px 1px 3px 1px rgba(60, 64, 67, 0.15);\n",
              "      fill: #174EA6;\n",
              "    }\n",
              "\n",
              "    [theme=dark] .colab-df-convert {\n",
              "      background-color: #3B4455;\n",
              "      fill: #D2E3FC;\n",
              "    }\n",
              "\n",
              "    [theme=dark] .colab-df-convert:hover {\n",
              "      background-color: #434B5C;\n",
              "      box-shadow: 0px 1px 3px 1px rgba(0, 0, 0, 0.15);\n",
              "      filter: drop-shadow(0px 1px 2px rgba(0, 0, 0, 0.3));\n",
              "      fill: #FFFFFF;\n",
              "    }\n",
              "  </style>\n",
              "\n",
              "      <script>\n",
              "        const buttonEl =\n",
              "          document.querySelector('#df-024c875e-cbad-4565-80b9-cc6f1d9b0a32 button.colab-df-convert');\n",
              "        buttonEl.style.display =\n",
              "          google.colab.kernel.accessAllowed ? 'block' : 'none';\n",
              "\n",
              "        async function convertToInteractive(key) {\n",
              "          const element = document.querySelector('#df-024c875e-cbad-4565-80b9-cc6f1d9b0a32');\n",
              "          const dataTable =\n",
              "            await google.colab.kernel.invokeFunction('convertToInteractive',\n",
              "                                                     [key], {});\n",
              "          if (!dataTable) return;\n",
              "\n",
              "          const docLinkHtml = 'Like what you see? Visit the ' +\n",
              "            '<a target=\"_blank\" href=https://colab.research.google.com/notebooks/data_table.ipynb>data table notebook</a>'\n",
              "            + ' to learn more about interactive tables.';\n",
              "          element.innerHTML = '';\n",
              "          dataTable['output_type'] = 'display_data';\n",
              "          await google.colab.output.renderOutput(dataTable, element);\n",
              "          const docLink = document.createElement('div');\n",
              "          docLink.innerHTML = docLinkHtml;\n",
              "          element.appendChild(docLink);\n",
              "        }\n",
              "      </script>\n",
              "    </div>\n",
              "  </div>\n",
              "  "
            ]
          },
          "metadata": {}
        },
        {
          "output_type": "stream",
          "name": "stdout",
          "text": [
            "<class 'pandas.core.frame.DataFrame'>\n",
            "RangeIndex: 507 entries, 0 to 506\n",
            "Data columns (total 8 columns):\n",
            " #   Column        Non-Null Count  Dtype  \n",
            "---  ------        --------------  -----  \n",
            " 0   <TICKER>      507 non-null    object \n",
            " 1   <DTYYYYMMDD>  507 non-null    int64  \n",
            " 2   <TIME>        507 non-null    object \n",
            " 3   <OPEN>        507 non-null    float64\n",
            " 4   <HIGH>        507 non-null    float64\n",
            " 5   <LOW>         507 non-null    float64\n",
            " 6   <CLOSE>       507 non-null    float64\n",
            " 7   <VOL>         507 non-null    int64  \n",
            "dtypes: float64(4), int64(2), object(2)\n",
            "memory usage: 31.8+ KB\n"
          ]
        }
      ],
      "source": [
        "fx_volume = pd.read_csv(\"/eurusd.csv\")\n",
        "display(fx_volume.head())\n",
        "fx_volume.info()"
      ]
    },
    {
      "cell_type": "markdown",
      "source": [
        "VWAP represents Volume Weighted Average Price\n",
        "Computation entails:\n",
        " \n",
        "1.   avg_price as average of High,Low,Open and Close by currencypair\n",
        "2.   PV as avg_price*volume\n",
        "\n",
        "\n"
      ],
      "metadata": {
        "id": "Nz-ZBbkh7FTM"
      },
      "id": "Nz-ZBbkh7FTM"
    },
    {
      "cell_type": "code",
      "source": [
        "fx_volume['<AVG_PRICE>'] = (fx_volume['<HIGH>'] + fx_volume['<LOW>'] + fx_volume['<CLOSE>'] + fx_volume['<OPEN>'])/4 \n",
        "fx_volume['<PV>'] = fx_volume['<VOL>'] * fx_volume['<AVG_PRICE>'] \n",
        "display(fx_volume.head())\n",
        "fx_volume.info()"
      ],
      "metadata": {
        "colab": {
          "base_uri": "https://localhost:8080/",
          "height": 511
        },
        "id": "U_1DOm5cbeJy",
        "outputId": "f69e449a-a72e-4f35-c06c-0a07657e784e"
      },
      "id": "U_1DOm5cbeJy",
      "execution_count": 5,
      "outputs": [
        {
          "output_type": "display_data",
          "data": {
            "text/plain": [
              "  <TICKER>  <DTYYYYMMDD> <TIME>   <OPEN>   <HIGH>    <LOW>  <CLOSE>  \\\n",
              "0   EURUSD      20180401  21:00  1.23199  1.23230  1.23165  1.23204   \n",
              "1   EURUSD      20180401  22:00  1.23204  1.23217  1.23132  1.23172   \n",
              "2   EURUSD      20180401  23:00  1.23172  1.23206  1.23124  1.23125   \n",
              "3   EURUSD      20180402  00:00  1.23127  1.23217  1.23107  1.23217   \n",
              "4   EURUSD      20180402  01:00  1.23219  1.23282  1.23214  1.23263   \n",
              "\n",
              "        <VOL>  <AVG_PRICE>          <PV>  \n",
              "0   469600000     1.231995  5.785449e+08  \n",
              "1  4095050000     1.231813  5.044334e+09  \n",
              "2  3291760001     1.231567  4.054025e+09  \n",
              "3  5418240002     1.231670  6.673484e+09  \n",
              "4  4164520003     1.232445  5.132542e+09  "
            ],
            "text/html": [
              "\n",
              "  <div id=\"df-258c879a-1d6a-4627-a98d-c4d94e5d8851\">\n",
              "    <div class=\"colab-df-container\">\n",
              "      <div>\n",
              "<style scoped>\n",
              "    .dataframe tbody tr th:only-of-type {\n",
              "        vertical-align: middle;\n",
              "    }\n",
              "\n",
              "    .dataframe tbody tr th {\n",
              "        vertical-align: top;\n",
              "    }\n",
              "\n",
              "    .dataframe thead th {\n",
              "        text-align: right;\n",
              "    }\n",
              "</style>\n",
              "<table border=\"1\" class=\"dataframe\">\n",
              "  <thead>\n",
              "    <tr style=\"text-align: right;\">\n",
              "      <th></th>\n",
              "      <th>&lt;TICKER&gt;</th>\n",
              "      <th>&lt;DTYYYYMMDD&gt;</th>\n",
              "      <th>&lt;TIME&gt;</th>\n",
              "      <th>&lt;OPEN&gt;</th>\n",
              "      <th>&lt;HIGH&gt;</th>\n",
              "      <th>&lt;LOW&gt;</th>\n",
              "      <th>&lt;CLOSE&gt;</th>\n",
              "      <th>&lt;VOL&gt;</th>\n",
              "      <th>&lt;AVG_PRICE&gt;</th>\n",
              "      <th>&lt;PV&gt;</th>\n",
              "    </tr>\n",
              "  </thead>\n",
              "  <tbody>\n",
              "    <tr>\n",
              "      <th>0</th>\n",
              "      <td>EURUSD</td>\n",
              "      <td>20180401</td>\n",
              "      <td>21:00</td>\n",
              "      <td>1.23199</td>\n",
              "      <td>1.23230</td>\n",
              "      <td>1.23165</td>\n",
              "      <td>1.23204</td>\n",
              "      <td>469600000</td>\n",
              "      <td>1.231995</td>\n",
              "      <td>5.785449e+08</td>\n",
              "    </tr>\n",
              "    <tr>\n",
              "      <th>1</th>\n",
              "      <td>EURUSD</td>\n",
              "      <td>20180401</td>\n",
              "      <td>22:00</td>\n",
              "      <td>1.23204</td>\n",
              "      <td>1.23217</td>\n",
              "      <td>1.23132</td>\n",
              "      <td>1.23172</td>\n",
              "      <td>4095050000</td>\n",
              "      <td>1.231813</td>\n",
              "      <td>5.044334e+09</td>\n",
              "    </tr>\n",
              "    <tr>\n",
              "      <th>2</th>\n",
              "      <td>EURUSD</td>\n",
              "      <td>20180401</td>\n",
              "      <td>23:00</td>\n",
              "      <td>1.23172</td>\n",
              "      <td>1.23206</td>\n",
              "      <td>1.23124</td>\n",
              "      <td>1.23125</td>\n",
              "      <td>3291760001</td>\n",
              "      <td>1.231567</td>\n",
              "      <td>4.054025e+09</td>\n",
              "    </tr>\n",
              "    <tr>\n",
              "      <th>3</th>\n",
              "      <td>EURUSD</td>\n",
              "      <td>20180402</td>\n",
              "      <td>00:00</td>\n",
              "      <td>1.23127</td>\n",
              "      <td>1.23217</td>\n",
              "      <td>1.23107</td>\n",
              "      <td>1.23217</td>\n",
              "      <td>5418240002</td>\n",
              "      <td>1.231670</td>\n",
              "      <td>6.673484e+09</td>\n",
              "    </tr>\n",
              "    <tr>\n",
              "      <th>4</th>\n",
              "      <td>EURUSD</td>\n",
              "      <td>20180402</td>\n",
              "      <td>01:00</td>\n",
              "      <td>1.23219</td>\n",
              "      <td>1.23282</td>\n",
              "      <td>1.23214</td>\n",
              "      <td>1.23263</td>\n",
              "      <td>4164520003</td>\n",
              "      <td>1.232445</td>\n",
              "      <td>5.132542e+09</td>\n",
              "    </tr>\n",
              "  </tbody>\n",
              "</table>\n",
              "</div>\n",
              "      <button class=\"colab-df-convert\" onclick=\"convertToInteractive('df-258c879a-1d6a-4627-a98d-c4d94e5d8851')\"\n",
              "              title=\"Convert this dataframe to an interactive table.\"\n",
              "              style=\"display:none;\">\n",
              "        \n",
              "  <svg xmlns=\"http://www.w3.org/2000/svg\" height=\"24px\"viewBox=\"0 0 24 24\"\n",
              "       width=\"24px\">\n",
              "    <path d=\"M0 0h24v24H0V0z\" fill=\"none\"/>\n",
              "    <path d=\"M18.56 5.44l.94 2.06.94-2.06 2.06-.94-2.06-.94-.94-2.06-.94 2.06-2.06.94zm-11 1L8.5 8.5l.94-2.06 2.06-.94-2.06-.94L8.5 2.5l-.94 2.06-2.06.94zm10 10l.94 2.06.94-2.06 2.06-.94-2.06-.94-.94-2.06-.94 2.06-2.06.94z\"/><path d=\"M17.41 7.96l-1.37-1.37c-.4-.4-.92-.59-1.43-.59-.52 0-1.04.2-1.43.59L10.3 9.45l-7.72 7.72c-.78.78-.78 2.05 0 2.83L4 21.41c.39.39.9.59 1.41.59.51 0 1.02-.2 1.41-.59l7.78-7.78 2.81-2.81c.8-.78.8-2.07 0-2.86zM5.41 20L4 18.59l7.72-7.72 1.47 1.35L5.41 20z\"/>\n",
              "  </svg>\n",
              "      </button>\n",
              "      \n",
              "  <style>\n",
              "    .colab-df-container {\n",
              "      display:flex;\n",
              "      flex-wrap:wrap;\n",
              "      gap: 12px;\n",
              "    }\n",
              "\n",
              "    .colab-df-convert {\n",
              "      background-color: #E8F0FE;\n",
              "      border: none;\n",
              "      border-radius: 50%;\n",
              "      cursor: pointer;\n",
              "      display: none;\n",
              "      fill: #1967D2;\n",
              "      height: 32px;\n",
              "      padding: 0 0 0 0;\n",
              "      width: 32px;\n",
              "    }\n",
              "\n",
              "    .colab-df-convert:hover {\n",
              "      background-color: #E2EBFA;\n",
              "      box-shadow: 0px 1px 2px rgba(60, 64, 67, 0.3), 0px 1px 3px 1px rgba(60, 64, 67, 0.15);\n",
              "      fill: #174EA6;\n",
              "    }\n",
              "\n",
              "    [theme=dark] .colab-df-convert {\n",
              "      background-color: #3B4455;\n",
              "      fill: #D2E3FC;\n",
              "    }\n",
              "\n",
              "    [theme=dark] .colab-df-convert:hover {\n",
              "      background-color: #434B5C;\n",
              "      box-shadow: 0px 1px 3px 1px rgba(0, 0, 0, 0.15);\n",
              "      filter: drop-shadow(0px 1px 2px rgba(0, 0, 0, 0.3));\n",
              "      fill: #FFFFFF;\n",
              "    }\n",
              "  </style>\n",
              "\n",
              "      <script>\n",
              "        const buttonEl =\n",
              "          document.querySelector('#df-258c879a-1d6a-4627-a98d-c4d94e5d8851 button.colab-df-convert');\n",
              "        buttonEl.style.display =\n",
              "          google.colab.kernel.accessAllowed ? 'block' : 'none';\n",
              "\n",
              "        async function convertToInteractive(key) {\n",
              "          const element = document.querySelector('#df-258c879a-1d6a-4627-a98d-c4d94e5d8851');\n",
              "          const dataTable =\n",
              "            await google.colab.kernel.invokeFunction('convertToInteractive',\n",
              "                                                     [key], {});\n",
              "          if (!dataTable) return;\n",
              "\n",
              "          const docLinkHtml = 'Like what you see? Visit the ' +\n",
              "            '<a target=\"_blank\" href=https://colab.research.google.com/notebooks/data_table.ipynb>data table notebook</a>'\n",
              "            + ' to learn more about interactive tables.';\n",
              "          element.innerHTML = '';\n",
              "          dataTable['output_type'] = 'display_data';\n",
              "          await google.colab.output.renderOutput(dataTable, element);\n",
              "          const docLink = document.createElement('div');\n",
              "          docLink.innerHTML = docLinkHtml;\n",
              "          element.appendChild(docLink);\n",
              "        }\n",
              "      </script>\n",
              "    </div>\n",
              "  </div>\n",
              "  "
            ]
          },
          "metadata": {}
        },
        {
          "output_type": "stream",
          "name": "stdout",
          "text": [
            "<class 'pandas.core.frame.DataFrame'>\n",
            "RangeIndex: 507 entries, 0 to 506\n",
            "Data columns (total 10 columns):\n",
            " #   Column        Non-Null Count  Dtype  \n",
            "---  ------        --------------  -----  \n",
            " 0   <TICKER>      507 non-null    object \n",
            " 1   <DTYYYYMMDD>  507 non-null    int64  \n",
            " 2   <TIME>        507 non-null    object \n",
            " 3   <OPEN>        507 non-null    float64\n",
            " 4   <HIGH>        507 non-null    float64\n",
            " 5   <LOW>         507 non-null    float64\n",
            " 6   <CLOSE>       507 non-null    float64\n",
            " 7   <VOL>         507 non-null    int64  \n",
            " 8   <AVG_PRICE>   507 non-null    float64\n",
            " 9   <PV>          507 non-null    float64\n",
            "dtypes: float64(6), int64(2), object(2)\n",
            "memory usage: 39.7+ KB\n"
          ]
        }
      ]
    },
    {
      "cell_type": "markdown",
      "source": [
        "Model computation entails \n",
        "1. cumulative PV as sum of PV across currency pair\n",
        "2. Count of number of records\n",
        "VWAP price can be computed as cumulative_PV/count\n",
        "VWAP direction can be computed by comparing current price against VWAP \n"
      ],
      "metadata": {
        "id": "Ip4B1Tn68e02"
      },
      "id": "Ip4B1Tn68e02"
    },
    {
      "cell_type": "code",
      "source": [
        "grouped = fx_volume['<PV>'].groupby(fx_volume['<TICKER>']).agg(['sum','count'])\n",
        "display(grouped.head())"
      ],
      "metadata": {
        "colab": {
          "base_uri": "https://localhost:8080/",
          "height": 112
        },
        "id": "4nQ2ADTCbMJY",
        "outputId": "ca5593b1-31b6-4ded-b459-4dc9f4a9fbbd"
      },
      "id": "4nQ2ADTCbMJY",
      "execution_count": 6,
      "outputs": [
        {
          "output_type": "display_data",
          "data": {
            "text/plain": [
              "                   sum  count\n",
              "<TICKER>                     \n",
              "EURUSD    5.967096e+12    507"
            ],
            "text/html": [
              "\n",
              "  <div id=\"df-03909748-322e-4676-987d-f9d91c8728b2\">\n",
              "    <div class=\"colab-df-container\">\n",
              "      <div>\n",
              "<style scoped>\n",
              "    .dataframe tbody tr th:only-of-type {\n",
              "        vertical-align: middle;\n",
              "    }\n",
              "\n",
              "    .dataframe tbody tr th {\n",
              "        vertical-align: top;\n",
              "    }\n",
              "\n",
              "    .dataframe thead th {\n",
              "        text-align: right;\n",
              "    }\n",
              "</style>\n",
              "<table border=\"1\" class=\"dataframe\">\n",
              "  <thead>\n",
              "    <tr style=\"text-align: right;\">\n",
              "      <th></th>\n",
              "      <th>sum</th>\n",
              "      <th>count</th>\n",
              "    </tr>\n",
              "    <tr>\n",
              "      <th>&lt;TICKER&gt;</th>\n",
              "      <th></th>\n",
              "      <th></th>\n",
              "    </tr>\n",
              "  </thead>\n",
              "  <tbody>\n",
              "    <tr>\n",
              "      <th>EURUSD</th>\n",
              "      <td>5.967096e+12</td>\n",
              "      <td>507</td>\n",
              "    </tr>\n",
              "  </tbody>\n",
              "</table>\n",
              "</div>\n",
              "      <button class=\"colab-df-convert\" onclick=\"convertToInteractive('df-03909748-322e-4676-987d-f9d91c8728b2')\"\n",
              "              title=\"Convert this dataframe to an interactive table.\"\n",
              "              style=\"display:none;\">\n",
              "        \n",
              "  <svg xmlns=\"http://www.w3.org/2000/svg\" height=\"24px\"viewBox=\"0 0 24 24\"\n",
              "       width=\"24px\">\n",
              "    <path d=\"M0 0h24v24H0V0z\" fill=\"none\"/>\n",
              "    <path d=\"M18.56 5.44l.94 2.06.94-2.06 2.06-.94-2.06-.94-.94-2.06-.94 2.06-2.06.94zm-11 1L8.5 8.5l.94-2.06 2.06-.94-2.06-.94L8.5 2.5l-.94 2.06-2.06.94zm10 10l.94 2.06.94-2.06 2.06-.94-2.06-.94-.94-2.06-.94 2.06-2.06.94z\"/><path d=\"M17.41 7.96l-1.37-1.37c-.4-.4-.92-.59-1.43-.59-.52 0-1.04.2-1.43.59L10.3 9.45l-7.72 7.72c-.78.78-.78 2.05 0 2.83L4 21.41c.39.39.9.59 1.41.59.51 0 1.02-.2 1.41-.59l7.78-7.78 2.81-2.81c.8-.78.8-2.07 0-2.86zM5.41 20L4 18.59l7.72-7.72 1.47 1.35L5.41 20z\"/>\n",
              "  </svg>\n",
              "      </button>\n",
              "      \n",
              "  <style>\n",
              "    .colab-df-container {\n",
              "      display:flex;\n",
              "      flex-wrap:wrap;\n",
              "      gap: 12px;\n",
              "    }\n",
              "\n",
              "    .colab-df-convert {\n",
              "      background-color: #E8F0FE;\n",
              "      border: none;\n",
              "      border-radius: 50%;\n",
              "      cursor: pointer;\n",
              "      display: none;\n",
              "      fill: #1967D2;\n",
              "      height: 32px;\n",
              "      padding: 0 0 0 0;\n",
              "      width: 32px;\n",
              "    }\n",
              "\n",
              "    .colab-df-convert:hover {\n",
              "      background-color: #E2EBFA;\n",
              "      box-shadow: 0px 1px 2px rgba(60, 64, 67, 0.3), 0px 1px 3px 1px rgba(60, 64, 67, 0.15);\n",
              "      fill: #174EA6;\n",
              "    }\n",
              "\n",
              "    [theme=dark] .colab-df-convert {\n",
              "      background-color: #3B4455;\n",
              "      fill: #D2E3FC;\n",
              "    }\n",
              "\n",
              "    [theme=dark] .colab-df-convert:hover {\n",
              "      background-color: #434B5C;\n",
              "      box-shadow: 0px 1px 3px 1px rgba(0, 0, 0, 0.15);\n",
              "      filter: drop-shadow(0px 1px 2px rgba(0, 0, 0, 0.3));\n",
              "      fill: #FFFFFF;\n",
              "    }\n",
              "  </style>\n",
              "\n",
              "      <script>\n",
              "        const buttonEl =\n",
              "          document.querySelector('#df-03909748-322e-4676-987d-f9d91c8728b2 button.colab-df-convert');\n",
              "        buttonEl.style.display =\n",
              "          google.colab.kernel.accessAllowed ? 'block' : 'none';\n",
              "\n",
              "        async function convertToInteractive(key) {\n",
              "          const element = document.querySelector('#df-03909748-322e-4676-987d-f9d91c8728b2');\n",
              "          const dataTable =\n",
              "            await google.colab.kernel.invokeFunction('convertToInteractive',\n",
              "                                                     [key], {});\n",
              "          if (!dataTable) return;\n",
              "\n",
              "          const docLinkHtml = 'Like what you see? Visit the ' +\n",
              "            '<a target=\"_blank\" href=https://colab.research.google.com/notebooks/data_table.ipynb>data table notebook</a>'\n",
              "            + ' to learn more about interactive tables.';\n",
              "          element.innerHTML = '';\n",
              "          dataTable['output_type'] = 'display_data';\n",
              "          await google.colab.output.renderOutput(dataTable, element);\n",
              "          const docLink = document.createElement('div');\n",
              "          docLink.innerHTML = docLinkHtml;\n",
              "          element.appendChild(docLink);\n",
              "        }\n",
              "      </script>\n",
              "    </div>\n",
              "  </div>\n",
              "  "
            ]
          },
          "metadata": {}
        }
      ]
    },
    {
      "cell_type": "markdown",
      "source": [],
      "metadata": {
        "id": "Fph7kZCR8OIv"
      },
      "id": "Fph7kZCR8OIv"
    },
    {
      "cell_type": "code",
      "execution_count": null,
      "id": "107620e0-89ee-4f53-ac2e-dd0d03b15b66",
      "metadata": {
        "colab": {
          "base_uri": "https://localhost:8080/"
        },
        "id": "107620e0-89ee-4f53-ac2e-dd0d03b15b66",
        "outputId": "19fd3323-bb87-48b0-8268-141d9adf546b"
      },
      "outputs": [
        {
          "output_type": "execute_result",
          "data": {
            "text/plain": [
              "<TICKER>        0\n",
              "<DTYYYYMMDD>    0\n",
              "<TIME>          0\n",
              "<OPEN>          0\n",
              "<HIGH>          0\n",
              "<LOW>           0\n",
              "<CLOSE>         0\n",
              "<VOL>           0\n",
              "<AVG_PRICE>     0\n",
              "<PV>            0\n",
              "dtype: int64"
            ]
          },
          "metadata": {},
          "execution_count": 6
        }
      ],
      "source": [
        "fx_volume.isna().sum()"
      ]
    },
    {
      "cell_type": "markdown",
      "id": "f3200837-3b0e-42f5-aac2-c2dc6dec3fd0",
      "metadata": {
        "id": "f3200837-3b0e-42f5-aac2-c2dc6dec3fd0"
      },
      "source": [
        "## Data cleaning and EDA\n",
        "\n",
        "We can now explore our data. We leave this exercise to the reader. For now, we can observe that there are a few NA values which will likely need imputation. We'll wait for this step so that we can put it within our training loop. For now, we'll just drop all of the sex NAs out of the dataframe."
      ]
    },
    {
      "cell_type": "code",
      "execution_count": 7,
      "id": "ae42a8db-457d-4532-934b-b4be3e6ce33b",
      "metadata": {
        "colab": {
          "base_uri": "https://localhost:8080/"
        },
        "id": "ae42a8db-457d-4532-934b-b4be3e6ce33b",
        "outputId": "60977532-0c69-4138-fb91-aa134e64f9f3"
      },
      "outputs": [
        {
          "output_type": "execute_result",
          "data": {
            "text/plain": [
              "(507, 10)"
            ]
          },
          "metadata": {},
          "execution_count": 7
        }
      ],
      "source": [
        "fx_volume = fx_volume.dropna(subset=['<VOL>'])\n",
        "fx_volume.shape"
      ]
    },
    {
      "cell_type": "code",
      "execution_count": 8,
      "id": "02c5bb25-8c26-47b0-b53c-f352babdb717",
      "metadata": {
        "id": "02c5bb25-8c26-47b0-b53c-f352babdb717"
      },
      "outputs": [],
      "source": [
        "class_column = '<DTYYYYMMDD>'\n",
        "random_seed = 325\n",
        "\n",
        "X_train, X_test, y_train, y_test = train_test_split(fx_volume.drop(columns=class_column), fx_volume[class_column],\n",
        "                                                   test_size=0.25, random_state=random_seed, stratify=fx_volume[class_column])"
      ]
    },
    {
      "cell_type": "markdown",
      "id": "9774a06c-3c40-48c0-8834-2570785a918f",
      "metadata": {
        "id": "9774a06c-3c40-48c0-8834-2570785a918f"
      },
      "source": [
        "Quick sanity check to make sure that everything seems correct:"
      ]
    },
    {
      "cell_type": "code",
      "execution_count": 9,
      "id": "2c32bbd1-5392-4281-a1a4-a38ed6dd6390",
      "metadata": {
        "colab": {
          "base_uri": "https://localhost:8080/",
          "height": 484
        },
        "id": "2c32bbd1-5392-4281-a1a4-a38ed6dd6390",
        "outputId": "8fb7f612-f197-489d-a8b0-c17cfb4c4c3a"
      },
      "outputs": [
        {
          "output_type": "stream",
          "name": "stdout",
          "text": [
            "On X train: \n",
            "X train dimensions:  (380, 9)\n"
          ]
        },
        {
          "output_type": "display_data",
          "data": {
            "text/plain": [
              "    <TICKER> <TIME>   <OPEN>   <HIGH>    <LOW>  <CLOSE>        <VOL>  \\\n",
              "81    EURUSD  06:00  1.22751  1.22755  1.22586  1.22630  11351649998   \n",
              "495   EURUSD  12:00  1.20770  1.20896  1.20722  1.20872  14196780001   \n",
              "207   EURUSD  12:00  1.23209  1.23275  1.23120  1.23155  17497599999   \n",
              "181   EURUSD  10:00  1.23781  1.23845  1.23680  1.23750  11576440002   \n",
              "269   EURUSD  02:00  1.23807  1.23812  1.23757  1.23811   5157830001   \n",
              "\n",
              "     <AVG_PRICE>          <PV>  \n",
              "81      1.226805  1.392626e+10  \n",
              "495     1.208150  1.715184e+10  \n",
              "207     1.231898  2.155525e+10  \n",
              "181     1.237640  1.432747e+10  \n",
              "269     1.237967  6.385226e+09  "
            ],
            "text/html": [
              "\n",
              "  <div id=\"df-9353aa23-cda8-4208-8445-0f81e651cef3\">\n",
              "    <div class=\"colab-df-container\">\n",
              "      <div>\n",
              "<style scoped>\n",
              "    .dataframe tbody tr th:only-of-type {\n",
              "        vertical-align: middle;\n",
              "    }\n",
              "\n",
              "    .dataframe tbody tr th {\n",
              "        vertical-align: top;\n",
              "    }\n",
              "\n",
              "    .dataframe thead th {\n",
              "        text-align: right;\n",
              "    }\n",
              "</style>\n",
              "<table border=\"1\" class=\"dataframe\">\n",
              "  <thead>\n",
              "    <tr style=\"text-align: right;\">\n",
              "      <th></th>\n",
              "      <th>&lt;TICKER&gt;</th>\n",
              "      <th>&lt;TIME&gt;</th>\n",
              "      <th>&lt;OPEN&gt;</th>\n",
              "      <th>&lt;HIGH&gt;</th>\n",
              "      <th>&lt;LOW&gt;</th>\n",
              "      <th>&lt;CLOSE&gt;</th>\n",
              "      <th>&lt;VOL&gt;</th>\n",
              "      <th>&lt;AVG_PRICE&gt;</th>\n",
              "      <th>&lt;PV&gt;</th>\n",
              "    </tr>\n",
              "  </thead>\n",
              "  <tbody>\n",
              "    <tr>\n",
              "      <th>81</th>\n",
              "      <td>EURUSD</td>\n",
              "      <td>06:00</td>\n",
              "      <td>1.22751</td>\n",
              "      <td>1.22755</td>\n",
              "      <td>1.22586</td>\n",
              "      <td>1.22630</td>\n",
              "      <td>11351649998</td>\n",
              "      <td>1.226805</td>\n",
              "      <td>1.392626e+10</td>\n",
              "    </tr>\n",
              "    <tr>\n",
              "      <th>495</th>\n",
              "      <td>EURUSD</td>\n",
              "      <td>12:00</td>\n",
              "      <td>1.20770</td>\n",
              "      <td>1.20896</td>\n",
              "      <td>1.20722</td>\n",
              "      <td>1.20872</td>\n",
              "      <td>14196780001</td>\n",
              "      <td>1.208150</td>\n",
              "      <td>1.715184e+10</td>\n",
              "    </tr>\n",
              "    <tr>\n",
              "      <th>207</th>\n",
              "      <td>EURUSD</td>\n",
              "      <td>12:00</td>\n",
              "      <td>1.23209</td>\n",
              "      <td>1.23275</td>\n",
              "      <td>1.23120</td>\n",
              "      <td>1.23155</td>\n",
              "      <td>17497599999</td>\n",
              "      <td>1.231898</td>\n",
              "      <td>2.155525e+10</td>\n",
              "    </tr>\n",
              "    <tr>\n",
              "      <th>181</th>\n",
              "      <td>EURUSD</td>\n",
              "      <td>10:00</td>\n",
              "      <td>1.23781</td>\n",
              "      <td>1.23845</td>\n",
              "      <td>1.23680</td>\n",
              "      <td>1.23750</td>\n",
              "      <td>11576440002</td>\n",
              "      <td>1.237640</td>\n",
              "      <td>1.432747e+10</td>\n",
              "    </tr>\n",
              "    <tr>\n",
              "      <th>269</th>\n",
              "      <td>EURUSD</td>\n",
              "      <td>02:00</td>\n",
              "      <td>1.23807</td>\n",
              "      <td>1.23812</td>\n",
              "      <td>1.23757</td>\n",
              "      <td>1.23811</td>\n",
              "      <td>5157830001</td>\n",
              "      <td>1.237967</td>\n",
              "      <td>6.385226e+09</td>\n",
              "    </tr>\n",
              "  </tbody>\n",
              "</table>\n",
              "</div>\n",
              "      <button class=\"colab-df-convert\" onclick=\"convertToInteractive('df-9353aa23-cda8-4208-8445-0f81e651cef3')\"\n",
              "              title=\"Convert this dataframe to an interactive table.\"\n",
              "              style=\"display:none;\">\n",
              "        \n",
              "  <svg xmlns=\"http://www.w3.org/2000/svg\" height=\"24px\"viewBox=\"0 0 24 24\"\n",
              "       width=\"24px\">\n",
              "    <path d=\"M0 0h24v24H0V0z\" fill=\"none\"/>\n",
              "    <path d=\"M18.56 5.44l.94 2.06.94-2.06 2.06-.94-2.06-.94-.94-2.06-.94 2.06-2.06.94zm-11 1L8.5 8.5l.94-2.06 2.06-.94-2.06-.94L8.5 2.5l-.94 2.06-2.06.94zm10 10l.94 2.06.94-2.06 2.06-.94-2.06-.94-.94-2.06-.94 2.06-2.06.94z\"/><path d=\"M17.41 7.96l-1.37-1.37c-.4-.4-.92-.59-1.43-.59-.52 0-1.04.2-1.43.59L10.3 9.45l-7.72 7.72c-.78.78-.78 2.05 0 2.83L4 21.41c.39.39.9.59 1.41.59.51 0 1.02-.2 1.41-.59l7.78-7.78 2.81-2.81c.8-.78.8-2.07 0-2.86zM5.41 20L4 18.59l7.72-7.72 1.47 1.35L5.41 20z\"/>\n",
              "  </svg>\n",
              "      </button>\n",
              "      \n",
              "  <style>\n",
              "    .colab-df-container {\n",
              "      display:flex;\n",
              "      flex-wrap:wrap;\n",
              "      gap: 12px;\n",
              "    }\n",
              "\n",
              "    .colab-df-convert {\n",
              "      background-color: #E8F0FE;\n",
              "      border: none;\n",
              "      border-radius: 50%;\n",
              "      cursor: pointer;\n",
              "      display: none;\n",
              "      fill: #1967D2;\n",
              "      height: 32px;\n",
              "      padding: 0 0 0 0;\n",
              "      width: 32px;\n",
              "    }\n",
              "\n",
              "    .colab-df-convert:hover {\n",
              "      background-color: #E2EBFA;\n",
              "      box-shadow: 0px 1px 2px rgba(60, 64, 67, 0.3), 0px 1px 3px 1px rgba(60, 64, 67, 0.15);\n",
              "      fill: #174EA6;\n",
              "    }\n",
              "\n",
              "    [theme=dark] .colab-df-convert {\n",
              "      background-color: #3B4455;\n",
              "      fill: #D2E3FC;\n",
              "    }\n",
              "\n",
              "    [theme=dark] .colab-df-convert:hover {\n",
              "      background-color: #434B5C;\n",
              "      box-shadow: 0px 1px 3px 1px rgba(0, 0, 0, 0.15);\n",
              "      filter: drop-shadow(0px 1px 2px rgba(0, 0, 0, 0.3));\n",
              "      fill: #FFFFFF;\n",
              "    }\n",
              "  </style>\n",
              "\n",
              "      <script>\n",
              "        const buttonEl =\n",
              "          document.querySelector('#df-9353aa23-cda8-4208-8445-0f81e651cef3 button.colab-df-convert');\n",
              "        buttonEl.style.display =\n",
              "          google.colab.kernel.accessAllowed ? 'block' : 'none';\n",
              "\n",
              "        async function convertToInteractive(key) {\n",
              "          const element = document.querySelector('#df-9353aa23-cda8-4208-8445-0f81e651cef3');\n",
              "          const dataTable =\n",
              "            await google.colab.kernel.invokeFunction('convertToInteractive',\n",
              "                                                     [key], {});\n",
              "          if (!dataTable) return;\n",
              "\n",
              "          const docLinkHtml = 'Like what you see? Visit the ' +\n",
              "            '<a target=\"_blank\" href=https://colab.research.google.com/notebooks/data_table.ipynb>data table notebook</a>'\n",
              "            + ' to learn more about interactive tables.';\n",
              "          element.innerHTML = '';\n",
              "          dataTable['output_type'] = 'display_data';\n",
              "          await google.colab.output.renderOutput(dataTable, element);\n",
              "          const docLink = document.createElement('div');\n",
              "          docLink.innerHTML = docLinkHtml;\n",
              "          element.appendChild(docLink);\n",
              "        }\n",
              "      </script>\n",
              "    </div>\n",
              "  </div>\n",
              "  "
            ]
          },
          "metadata": {}
        },
        {
          "output_type": "stream",
          "name": "stdout",
          "text": [
            "\n",
            "On X test: \n",
            "X test dimensions:  (127, 9)\n"
          ]
        },
        {
          "output_type": "display_data",
          "data": {
            "text/plain": [
              "    <TICKER> <TIME>   <OPEN>   <HIGH>    <LOW>  <CLOSE>        <VOL>  \\\n",
              "439   EURUSD  04:00  1.21775  1.21804  1.21743  1.21755   4521290000   \n",
              "31    EURUSD  04:00  1.23055  1.23099  1.23045  1.23095   3073420000   \n",
              "354   EURUSD  15:00  1.22789  1.22884  1.22706  1.22816  13534470000   \n",
              "94    EURUSD  19:00  1.22367  1.22382  1.22333  1.22349   5892560002   \n",
              "282   EURUSD  15:00  1.23462  1.23492  1.23364  1.23447  14305280001   \n",
              "\n",
              "     <AVG_PRICE>          <PV>  \n",
              "439     1.217693  5.505541e+09  \n",
              "31      1.230735  3.782566e+09  \n",
              "354     1.227987  1.662016e+10  \n",
              "94      1.223577  7.210004e+09  \n",
              "282     1.234412  1.765862e+10  "
            ],
            "text/html": [
              "\n",
              "  <div id=\"df-0d0c69c5-fb81-4927-a6b4-eaf8fb9f6237\">\n",
              "    <div class=\"colab-df-container\">\n",
              "      <div>\n",
              "<style scoped>\n",
              "    .dataframe tbody tr th:only-of-type {\n",
              "        vertical-align: middle;\n",
              "    }\n",
              "\n",
              "    .dataframe tbody tr th {\n",
              "        vertical-align: top;\n",
              "    }\n",
              "\n",
              "    .dataframe thead th {\n",
              "        text-align: right;\n",
              "    }\n",
              "</style>\n",
              "<table border=\"1\" class=\"dataframe\">\n",
              "  <thead>\n",
              "    <tr style=\"text-align: right;\">\n",
              "      <th></th>\n",
              "      <th>&lt;TICKER&gt;</th>\n",
              "      <th>&lt;TIME&gt;</th>\n",
              "      <th>&lt;OPEN&gt;</th>\n",
              "      <th>&lt;HIGH&gt;</th>\n",
              "      <th>&lt;LOW&gt;</th>\n",
              "      <th>&lt;CLOSE&gt;</th>\n",
              "      <th>&lt;VOL&gt;</th>\n",
              "      <th>&lt;AVG_PRICE&gt;</th>\n",
              "      <th>&lt;PV&gt;</th>\n",
              "    </tr>\n",
              "  </thead>\n",
              "  <tbody>\n",
              "    <tr>\n",
              "      <th>439</th>\n",
              "      <td>EURUSD</td>\n",
              "      <td>04:00</td>\n",
              "      <td>1.21775</td>\n",
              "      <td>1.21804</td>\n",
              "      <td>1.21743</td>\n",
              "      <td>1.21755</td>\n",
              "      <td>4521290000</td>\n",
              "      <td>1.217693</td>\n",
              "      <td>5.505541e+09</td>\n",
              "    </tr>\n",
              "    <tr>\n",
              "      <th>31</th>\n",
              "      <td>EURUSD</td>\n",
              "      <td>04:00</td>\n",
              "      <td>1.23055</td>\n",
              "      <td>1.23099</td>\n",
              "      <td>1.23045</td>\n",
              "      <td>1.23095</td>\n",
              "      <td>3073420000</td>\n",
              "      <td>1.230735</td>\n",
              "      <td>3.782566e+09</td>\n",
              "    </tr>\n",
              "    <tr>\n",
              "      <th>354</th>\n",
              "      <td>EURUSD</td>\n",
              "      <td>15:00</td>\n",
              "      <td>1.22789</td>\n",
              "      <td>1.22884</td>\n",
              "      <td>1.22706</td>\n",
              "      <td>1.22816</td>\n",
              "      <td>13534470000</td>\n",
              "      <td>1.227987</td>\n",
              "      <td>1.662016e+10</td>\n",
              "    </tr>\n",
              "    <tr>\n",
              "      <th>94</th>\n",
              "      <td>EURUSD</td>\n",
              "      <td>19:00</td>\n",
              "      <td>1.22367</td>\n",
              "      <td>1.22382</td>\n",
              "      <td>1.22333</td>\n",
              "      <td>1.22349</td>\n",
              "      <td>5892560002</td>\n",
              "      <td>1.223577</td>\n",
              "      <td>7.210004e+09</td>\n",
              "    </tr>\n",
              "    <tr>\n",
              "      <th>282</th>\n",
              "      <td>EURUSD</td>\n",
              "      <td>15:00</td>\n",
              "      <td>1.23462</td>\n",
              "      <td>1.23492</td>\n",
              "      <td>1.23364</td>\n",
              "      <td>1.23447</td>\n",
              "      <td>14305280001</td>\n",
              "      <td>1.234412</td>\n",
              "      <td>1.765862e+10</td>\n",
              "    </tr>\n",
              "  </tbody>\n",
              "</table>\n",
              "</div>\n",
              "      <button class=\"colab-df-convert\" onclick=\"convertToInteractive('df-0d0c69c5-fb81-4927-a6b4-eaf8fb9f6237')\"\n",
              "              title=\"Convert this dataframe to an interactive table.\"\n",
              "              style=\"display:none;\">\n",
              "        \n",
              "  <svg xmlns=\"http://www.w3.org/2000/svg\" height=\"24px\"viewBox=\"0 0 24 24\"\n",
              "       width=\"24px\">\n",
              "    <path d=\"M0 0h24v24H0V0z\" fill=\"none\"/>\n",
              "    <path d=\"M18.56 5.44l.94 2.06.94-2.06 2.06-.94-2.06-.94-.94-2.06-.94 2.06-2.06.94zm-11 1L8.5 8.5l.94-2.06 2.06-.94-2.06-.94L8.5 2.5l-.94 2.06-2.06.94zm10 10l.94 2.06.94-2.06 2.06-.94-2.06-.94-.94-2.06-.94 2.06-2.06.94z\"/><path d=\"M17.41 7.96l-1.37-1.37c-.4-.4-.92-.59-1.43-.59-.52 0-1.04.2-1.43.59L10.3 9.45l-7.72 7.72c-.78.78-.78 2.05 0 2.83L4 21.41c.39.39.9.59 1.41.59.51 0 1.02-.2 1.41-.59l7.78-7.78 2.81-2.81c.8-.78.8-2.07 0-2.86zM5.41 20L4 18.59l7.72-7.72 1.47 1.35L5.41 20z\"/>\n",
              "  </svg>\n",
              "      </button>\n",
              "      \n",
              "  <style>\n",
              "    .colab-df-container {\n",
              "      display:flex;\n",
              "      flex-wrap:wrap;\n",
              "      gap: 12px;\n",
              "    }\n",
              "\n",
              "    .colab-df-convert {\n",
              "      background-color: #E8F0FE;\n",
              "      border: none;\n",
              "      border-radius: 50%;\n",
              "      cursor: pointer;\n",
              "      display: none;\n",
              "      fill: #1967D2;\n",
              "      height: 32px;\n",
              "      padding: 0 0 0 0;\n",
              "      width: 32px;\n",
              "    }\n",
              "\n",
              "    .colab-df-convert:hover {\n",
              "      background-color: #E2EBFA;\n",
              "      box-shadow: 0px 1px 2px rgba(60, 64, 67, 0.3), 0px 1px 3px 1px rgba(60, 64, 67, 0.15);\n",
              "      fill: #174EA6;\n",
              "    }\n",
              "\n",
              "    [theme=dark] .colab-df-convert {\n",
              "      background-color: #3B4455;\n",
              "      fill: #D2E3FC;\n",
              "    }\n",
              "\n",
              "    [theme=dark] .colab-df-convert:hover {\n",
              "      background-color: #434B5C;\n",
              "      box-shadow: 0px 1px 3px 1px rgba(0, 0, 0, 0.15);\n",
              "      filter: drop-shadow(0px 1px 2px rgba(0, 0, 0, 0.3));\n",
              "      fill: #FFFFFF;\n",
              "    }\n",
              "  </style>\n",
              "\n",
              "      <script>\n",
              "        const buttonEl =\n",
              "          document.querySelector('#df-0d0c69c5-fb81-4927-a6b4-eaf8fb9f6237 button.colab-df-convert');\n",
              "        buttonEl.style.display =\n",
              "          google.colab.kernel.accessAllowed ? 'block' : 'none';\n",
              "\n",
              "        async function convertToInteractive(key) {\n",
              "          const element = document.querySelector('#df-0d0c69c5-fb81-4927-a6b4-eaf8fb9f6237');\n",
              "          const dataTable =\n",
              "            await google.colab.kernel.invokeFunction('convertToInteractive',\n",
              "                                                     [key], {});\n",
              "          if (!dataTable) return;\n",
              "\n",
              "          const docLinkHtml = 'Like what you see? Visit the ' +\n",
              "            '<a target=\"_blank\" href=https://colab.research.google.com/notebooks/data_table.ipynb>data table notebook</a>'\n",
              "            + ' to learn more about interactive tables.';\n",
              "          element.innerHTML = '';\n",
              "          dataTable['output_type'] = 'display_data';\n",
              "          await google.colab.output.renderOutput(dataTable, element);\n",
              "          const docLink = document.createElement('div');\n",
              "          docLink.innerHTML = docLinkHtml;\n",
              "          element.appendChild(docLink);\n",
              "        }\n",
              "      </script>\n",
              "    </div>\n",
              "  </div>\n",
              "  "
            ]
          },
          "metadata": {}
        }
      ],
      "source": [
        "# X Train\n",
        "print('On X train: ')\n",
        "print('X train dimensions: ', X_train.shape)\n",
        "display(X_train.head())\n",
        "\n",
        "# X test\n",
        "print('\\nOn X test: ')\n",
        "print('X test dimensions: ', X_test.shape)\n",
        "display(X_test.head())"
      ]
    },
    {
      "cell_type": "code",
      "execution_count": null,
      "id": "113d1ab3-739a-4e42-8500-92b6332b2475",
      "metadata": {
        "id": "113d1ab3-739a-4e42-8500-92b6332b2475"
      },
      "outputs": [],
      "source": [
        "# X Train\n",
        "print('On y train: ')\n",
        "print('y train dimensions: ', y_train.shape)\n",
        "display(y_train.head())\n",
        "\n",
        "# X test\n",
        "print('\\nOn y test: ')\n",
        "print('y test dimensions: ', y_test.shape)\n",
        "display(y_test.head())"
      ]
    },
    {
      "cell_type": "markdown",
      "id": "6a76f5d1-05a4-4f81-8608-099b3b20abef",
      "metadata": {
        "id": "6a76f5d1-05a4-4f81-8608-099b3b20abef"
      },
      "source": [
        "## Establish the training pipeline\n",
        "\n",
        "We can now establish the training pipeline for our models. Since this is a process we would need to repeat several times, it's good to essentially functionalize the process so we do not need to re-write redundant code. Here, we can impute some values that were missing, and encode any categorical values. Note that these pipelines will change according to the model and methodology you choose - additionally, the pipelines will also change depending on the data types of the columns in your dataset. "
      ]
    },
    {
      "cell_type": "code",
      "execution_count": 11,
      "id": "9ed44830-4039-4564-bde0-2b6661d672c5",
      "metadata": {
        "id": "9ed44830-4039-4564-bde0-2b6661d672c5"
      },
      "outputs": [],
      "source": [
        "#individual pipelines for differing datatypes\n",
        "cat_pipeline = Pipeline(steps=[('cat_impute', SimpleImputer(missing_values=np.nan, strategy='most_frequent')),\n",
        "                               ('onehot_cat', OneHotEncoder(drop='if_binary'))])\n",
        "num_pipeline = Pipeline(steps=[('impute_num', SimpleImputer(missing_values=np.nan, strategy='mean')),\n",
        "                               ('scale_num', StandardScaler())])"
      ]
    },
    {
      "cell_type": "code",
      "execution_count": 12,
      "id": "242c958a-894d-4259-9dfd-387ddf541144",
      "metadata": {
        "id": "242c958a-894d-4259-9dfd-387ddf541144"
      },
      "outputs": [],
      "source": [
        "#establish preprocessing pipeline by columns\n",
        "preproc = ColumnTransformer([('cat_pipe', cat_pipeline, make_column_selector(dtype_include=object)),\n",
        "                             ('num_pipe', num_pipeline, make_column_selector(dtype_include=np.number))],\n",
        "                             remainder='passthrough')"
      ]
    },
    {
      "cell_type": "code",
      "execution_count": 13,
      "id": "917a7dae-35ff-43b2-8186-dbe731d0f08d",
      "metadata": {
        "colab": {
          "base_uri": "https://localhost:8080/",
          "height": 223
        },
        "id": "917a7dae-35ff-43b2-8186-dbe731d0f08d",
        "outputId": "2ea29f60-b02f-47f9-8d9e-e20cdd508224"
      },
      "outputs": [
        {
          "output_type": "display_data",
          "data": {
            "text/plain": [
              "Pipeline(steps=[('preproc',\n",
              "                 ColumnTransformer(remainder='passthrough',\n",
              "                                   transformers=[('cat_pipe',\n",
              "                                                  Pipeline(steps=[('cat_impute',\n",
              "                                                                   SimpleImputer(strategy='most_frequent')),\n",
              "                                                                  ('onehot_cat',\n",
              "                                                                   OneHotEncoder(drop='if_binary'))]),\n",
              "                                                  <sklearn.compose._column_transformer.make_column_selector object at 0x7fb38788b3a0>),\n",
              "                                                 ('num_pipe',\n",
              "                                                  Pipeline(steps=[('impute_num',\n",
              "                                                                   SimpleImputer()),\n",
              "                                                                  ('scale_num',\n",
              "                                                                   StandardScaler())]),\n",
              "                                                  <sklearn.compose._column_transformer.make_column_selector object at 0x7fb38788b130>)])),\n",
              "                ('mdl',\n",
              "                 LogisticRegression(penalty='elasticnet', solver='saga',\n",
              "                                    tol=0.01))])"
            ],
            "text/html": [
              "<style>#sk-929d0b09-5650-47d2-a2fc-8385bff839ea {color: black;background-color: white;}#sk-929d0b09-5650-47d2-a2fc-8385bff839ea pre{padding: 0;}#sk-929d0b09-5650-47d2-a2fc-8385bff839ea div.sk-toggleable {background-color: white;}#sk-929d0b09-5650-47d2-a2fc-8385bff839ea label.sk-toggleable__label {cursor: pointer;display: block;width: 100%;margin-bottom: 0;padding: 0.3em;box-sizing: border-box;text-align: center;}#sk-929d0b09-5650-47d2-a2fc-8385bff839ea label.sk-toggleable__label-arrow:before {content: \"▸\";float: left;margin-right: 0.25em;color: #696969;}#sk-929d0b09-5650-47d2-a2fc-8385bff839ea label.sk-toggleable__label-arrow:hover:before {color: black;}#sk-929d0b09-5650-47d2-a2fc-8385bff839ea div.sk-estimator:hover label.sk-toggleable__label-arrow:before {color: black;}#sk-929d0b09-5650-47d2-a2fc-8385bff839ea div.sk-toggleable__content {max-height: 0;max-width: 0;overflow: hidden;text-align: left;background-color: #f0f8ff;}#sk-929d0b09-5650-47d2-a2fc-8385bff839ea div.sk-toggleable__content pre {margin: 0.2em;color: black;border-radius: 0.25em;background-color: #f0f8ff;}#sk-929d0b09-5650-47d2-a2fc-8385bff839ea input.sk-toggleable__control:checked~div.sk-toggleable__content {max-height: 200px;max-width: 100%;overflow: auto;}#sk-929d0b09-5650-47d2-a2fc-8385bff839ea input.sk-toggleable__control:checked~label.sk-toggleable__label-arrow:before {content: \"▾\";}#sk-929d0b09-5650-47d2-a2fc-8385bff839ea div.sk-estimator input.sk-toggleable__control:checked~label.sk-toggleable__label {background-color: #d4ebff;}#sk-929d0b09-5650-47d2-a2fc-8385bff839ea div.sk-label input.sk-toggleable__control:checked~label.sk-toggleable__label {background-color: #d4ebff;}#sk-929d0b09-5650-47d2-a2fc-8385bff839ea input.sk-hidden--visually {border: 0;clip: rect(1px 1px 1px 1px);clip: rect(1px, 1px, 1px, 1px);height: 1px;margin: -1px;overflow: hidden;padding: 0;position: absolute;width: 1px;}#sk-929d0b09-5650-47d2-a2fc-8385bff839ea div.sk-estimator {font-family: monospace;background-color: #f0f8ff;border: 1px dotted black;border-radius: 0.25em;box-sizing: border-box;margin-bottom: 0.5em;}#sk-929d0b09-5650-47d2-a2fc-8385bff839ea div.sk-estimator:hover {background-color: #d4ebff;}#sk-929d0b09-5650-47d2-a2fc-8385bff839ea div.sk-parallel-item::after {content: \"\";width: 100%;border-bottom: 1px solid gray;flex-grow: 1;}#sk-929d0b09-5650-47d2-a2fc-8385bff839ea div.sk-label:hover label.sk-toggleable__label {background-color: #d4ebff;}#sk-929d0b09-5650-47d2-a2fc-8385bff839ea div.sk-serial::before {content: \"\";position: absolute;border-left: 1px solid gray;box-sizing: border-box;top: 2em;bottom: 0;left: 50%;}#sk-929d0b09-5650-47d2-a2fc-8385bff839ea div.sk-serial {display: flex;flex-direction: column;align-items: center;background-color: white;padding-right: 0.2em;padding-left: 0.2em;}#sk-929d0b09-5650-47d2-a2fc-8385bff839ea div.sk-item {z-index: 1;}#sk-929d0b09-5650-47d2-a2fc-8385bff839ea div.sk-parallel {display: flex;align-items: stretch;justify-content: center;background-color: white;}#sk-929d0b09-5650-47d2-a2fc-8385bff839ea div.sk-parallel::before {content: \"\";position: absolute;border-left: 1px solid gray;box-sizing: border-box;top: 2em;bottom: 0;left: 50%;}#sk-929d0b09-5650-47d2-a2fc-8385bff839ea div.sk-parallel-item {display: flex;flex-direction: column;position: relative;background-color: white;}#sk-929d0b09-5650-47d2-a2fc-8385bff839ea div.sk-parallel-item:first-child::after {align-self: flex-end;width: 50%;}#sk-929d0b09-5650-47d2-a2fc-8385bff839ea div.sk-parallel-item:last-child::after {align-self: flex-start;width: 50%;}#sk-929d0b09-5650-47d2-a2fc-8385bff839ea div.sk-parallel-item:only-child::after {width: 0;}#sk-929d0b09-5650-47d2-a2fc-8385bff839ea div.sk-dashed-wrapped {border: 1px dashed gray;margin: 0 0.4em 0.5em 0.4em;box-sizing: border-box;padding-bottom: 0.4em;background-color: white;position: relative;}#sk-929d0b09-5650-47d2-a2fc-8385bff839ea div.sk-label label {font-family: monospace;font-weight: bold;background-color: white;display: inline-block;line-height: 1.2em;}#sk-929d0b09-5650-47d2-a2fc-8385bff839ea div.sk-label-container {position: relative;z-index: 2;text-align: center;}#sk-929d0b09-5650-47d2-a2fc-8385bff839ea div.sk-container {/* jupyter's `normalize.less` sets `[hidden] { display: none; }` but bootstrap.min.css set `[hidden] { display: none !important; }` so we also need the `!important` here to be able to override the default hidden behavior on the sphinx rendered scikit-learn.org. See: https://github.com/scikit-learn/scikit-learn/issues/21755 */display: inline-block !important;position: relative;}#sk-929d0b09-5650-47d2-a2fc-8385bff839ea div.sk-text-repr-fallback {display: none;}</style><div id=\"sk-929d0b09-5650-47d2-a2fc-8385bff839ea\" class=\"sk-top-container\"><div class=\"sk-text-repr-fallback\"><pre>Pipeline(steps=[(&#x27;preproc&#x27;,\n",
              "                 ColumnTransformer(remainder=&#x27;passthrough&#x27;,\n",
              "                                   transformers=[(&#x27;cat_pipe&#x27;,\n",
              "                                                  Pipeline(steps=[(&#x27;cat_impute&#x27;,\n",
              "                                                                   SimpleImputer(strategy=&#x27;most_frequent&#x27;)),\n",
              "                                                                  (&#x27;onehot_cat&#x27;,\n",
              "                                                                   OneHotEncoder(drop=&#x27;if_binary&#x27;))]),\n",
              "                                                  &lt;sklearn.compose._column_transformer.make_column_selector object at 0x7fb38788b3a0&gt;),\n",
              "                                                 (&#x27;num_pipe&#x27;,\n",
              "                                                  Pipeline(steps=[(&#x27;impute_num&#x27;,\n",
              "                                                                   SimpleImputer()),\n",
              "                                                                  (&#x27;scale_num&#x27;,\n",
              "                                                                   StandardScaler())]),\n",
              "                                                  &lt;sklearn.compose._column_transformer.make_column_selector object at 0x7fb38788b130&gt;)])),\n",
              "                (&#x27;mdl&#x27;,\n",
              "                 LogisticRegression(penalty=&#x27;elasticnet&#x27;, solver=&#x27;saga&#x27;,\n",
              "                                    tol=0.01))])</pre><b>Please rerun this cell to show the HTML repr or trust the notebook.</b></div><div class=\"sk-container\" hidden><div class=\"sk-item sk-dashed-wrapped\"><div class=\"sk-label-container\"><div class=\"sk-label sk-toggleable\"><input class=\"sk-toggleable__control sk-hidden--visually\" id=\"6c0f337e-c6e1-4304-bf26-f285af6be761\" type=\"checkbox\" ><label for=\"6c0f337e-c6e1-4304-bf26-f285af6be761\" class=\"sk-toggleable__label sk-toggleable__label-arrow\">Pipeline</label><div class=\"sk-toggleable__content\"><pre>Pipeline(steps=[(&#x27;preproc&#x27;,\n",
              "                 ColumnTransformer(remainder=&#x27;passthrough&#x27;,\n",
              "                                   transformers=[(&#x27;cat_pipe&#x27;,\n",
              "                                                  Pipeline(steps=[(&#x27;cat_impute&#x27;,\n",
              "                                                                   SimpleImputer(strategy=&#x27;most_frequent&#x27;)),\n",
              "                                                                  (&#x27;onehot_cat&#x27;,\n",
              "                                                                   OneHotEncoder(drop=&#x27;if_binary&#x27;))]),\n",
              "                                                  &lt;sklearn.compose._column_transformer.make_column_selector object at 0x7fb38788b3a0&gt;),\n",
              "                                                 (&#x27;num_pipe&#x27;,\n",
              "                                                  Pipeline(steps=[(&#x27;impute_num&#x27;,\n",
              "                                                                   SimpleImputer()),\n",
              "                                                                  (&#x27;scale_num&#x27;,\n",
              "                                                                   StandardScaler())]),\n",
              "                                                  &lt;sklearn.compose._column_transformer.make_column_selector object at 0x7fb38788b130&gt;)])),\n",
              "                (&#x27;mdl&#x27;,\n",
              "                 LogisticRegression(penalty=&#x27;elasticnet&#x27;, solver=&#x27;saga&#x27;,\n",
              "                                    tol=0.01))])</pre></div></div></div><div class=\"sk-serial\"><div class=\"sk-item sk-dashed-wrapped\"><div class=\"sk-label-container\"><div class=\"sk-label sk-toggleable\"><input class=\"sk-toggleable__control sk-hidden--visually\" id=\"a7b348fe-d333-4ca9-8ea8-fb72c88e03cd\" type=\"checkbox\" ><label for=\"a7b348fe-d333-4ca9-8ea8-fb72c88e03cd\" class=\"sk-toggleable__label sk-toggleable__label-arrow\">preproc: ColumnTransformer</label><div class=\"sk-toggleable__content\"><pre>ColumnTransformer(remainder=&#x27;passthrough&#x27;,\n",
              "                  transformers=[(&#x27;cat_pipe&#x27;,\n",
              "                                 Pipeline(steps=[(&#x27;cat_impute&#x27;,\n",
              "                                                  SimpleImputer(strategy=&#x27;most_frequent&#x27;)),\n",
              "                                                 (&#x27;onehot_cat&#x27;,\n",
              "                                                  OneHotEncoder(drop=&#x27;if_binary&#x27;))]),\n",
              "                                 &lt;sklearn.compose._column_transformer.make_column_selector object at 0x7fb38788b3a0&gt;),\n",
              "                                (&#x27;num_pipe&#x27;,\n",
              "                                 Pipeline(steps=[(&#x27;impute_num&#x27;,\n",
              "                                                  SimpleImputer()),\n",
              "                                                 (&#x27;scale_num&#x27;,\n",
              "                                                  StandardScaler())]),\n",
              "                                 &lt;sklearn.compose._column_transformer.make_column_selector object at 0x7fb38788b130&gt;)])</pre></div></div></div><div class=\"sk-parallel\"><div class=\"sk-parallel-item\"><div class=\"sk-item\"><div class=\"sk-label-container\"><div class=\"sk-label sk-toggleable\"><input class=\"sk-toggleable__control sk-hidden--visually\" id=\"146473e8-7574-40f1-adc5-4bcb05752fcd\" type=\"checkbox\" ><label for=\"146473e8-7574-40f1-adc5-4bcb05752fcd\" class=\"sk-toggleable__label sk-toggleable__label-arrow\">cat_pipe</label><div class=\"sk-toggleable__content\"><pre>&lt;sklearn.compose._column_transformer.make_column_selector object at 0x7fb38788b3a0&gt;</pre></div></div></div><div class=\"sk-serial\"><div class=\"sk-item\"><div class=\"sk-serial\"><div class=\"sk-item\"><div class=\"sk-estimator sk-toggleable\"><input class=\"sk-toggleable__control sk-hidden--visually\" id=\"f0f3ccad-ca1a-4ac3-a93a-747fa365b8b2\" type=\"checkbox\" ><label for=\"f0f3ccad-ca1a-4ac3-a93a-747fa365b8b2\" class=\"sk-toggleable__label sk-toggleable__label-arrow\">SimpleImputer</label><div class=\"sk-toggleable__content\"><pre>SimpleImputer(strategy=&#x27;most_frequent&#x27;)</pre></div></div></div><div class=\"sk-item\"><div class=\"sk-estimator sk-toggleable\"><input class=\"sk-toggleable__control sk-hidden--visually\" id=\"7c4afe11-2476-43e9-a121-f7babcac5054\" type=\"checkbox\" ><label for=\"7c4afe11-2476-43e9-a121-f7babcac5054\" class=\"sk-toggleable__label sk-toggleable__label-arrow\">OneHotEncoder</label><div class=\"sk-toggleable__content\"><pre>OneHotEncoder(drop=&#x27;if_binary&#x27;)</pre></div></div></div></div></div></div></div></div><div class=\"sk-parallel-item\"><div class=\"sk-item\"><div class=\"sk-label-container\"><div class=\"sk-label sk-toggleable\"><input class=\"sk-toggleable__control sk-hidden--visually\" id=\"eeb0c06f-b0a6-4930-b748-808b55c3cfc6\" type=\"checkbox\" ><label for=\"eeb0c06f-b0a6-4930-b748-808b55c3cfc6\" class=\"sk-toggleable__label sk-toggleable__label-arrow\">num_pipe</label><div class=\"sk-toggleable__content\"><pre>&lt;sklearn.compose._column_transformer.make_column_selector object at 0x7fb38788b130&gt;</pre></div></div></div><div class=\"sk-serial\"><div class=\"sk-item\"><div class=\"sk-serial\"><div class=\"sk-item\"><div class=\"sk-estimator sk-toggleable\"><input class=\"sk-toggleable__control sk-hidden--visually\" id=\"88694f1a-e020-453b-bce8-31ff189ad773\" type=\"checkbox\" ><label for=\"88694f1a-e020-453b-bce8-31ff189ad773\" class=\"sk-toggleable__label sk-toggleable__label-arrow\">SimpleImputer</label><div class=\"sk-toggleable__content\"><pre>SimpleImputer()</pre></div></div></div><div class=\"sk-item\"><div class=\"sk-estimator sk-toggleable\"><input class=\"sk-toggleable__control sk-hidden--visually\" id=\"cd7d361e-72dd-406a-830b-6227d23830ac\" type=\"checkbox\" ><label for=\"cd7d361e-72dd-406a-830b-6227d23830ac\" class=\"sk-toggleable__label sk-toggleable__label-arrow\">StandardScaler</label><div class=\"sk-toggleable__content\"><pre>StandardScaler()</pre></div></div></div></div></div></div></div></div><div class=\"sk-parallel-item\"><div class=\"sk-item\"><div class=\"sk-label-container\"><div class=\"sk-label sk-toggleable\"><input class=\"sk-toggleable__control sk-hidden--visually\" id=\"6dda54e0-7210-4eea-8bb8-9b7e01bc9d5d\" type=\"checkbox\" ><label for=\"6dda54e0-7210-4eea-8bb8-9b7e01bc9d5d\" class=\"sk-toggleable__label sk-toggleable__label-arrow\">remainder</label><div class=\"sk-toggleable__content\"><pre></pre></div></div></div><div class=\"sk-serial\"><div class=\"sk-item\"><div class=\"sk-estimator sk-toggleable\"><input class=\"sk-toggleable__control sk-hidden--visually\" id=\"72c6b4e7-4a34-4c4a-8b6c-8c8d150b046f\" type=\"checkbox\" ><label for=\"72c6b4e7-4a34-4c4a-8b6c-8c8d150b046f\" class=\"sk-toggleable__label sk-toggleable__label-arrow\">passthrough</label><div class=\"sk-toggleable__content\"><pre>passthrough</pre></div></div></div></div></div></div></div></div><div class=\"sk-item\"><div class=\"sk-estimator sk-toggleable\"><input class=\"sk-toggleable__control sk-hidden--visually\" id=\"e37e8405-4ae0-46d1-bb78-70645b84eb57\" type=\"checkbox\" ><label for=\"e37e8405-4ae0-46d1-bb78-70645b84eb57\" class=\"sk-toggleable__label sk-toggleable__label-arrow\">LogisticRegression</label><div class=\"sk-toggleable__content\"><pre>LogisticRegression(penalty=&#x27;elasticnet&#x27;, solver=&#x27;saga&#x27;, tol=0.01)</pre></div></div></div></div></div></div></div>"
            ]
          },
          "metadata": {}
        }
      ],
      "source": [
        "#generate the whole modeling pipeline with preprocessing\n",
        "pipe = Pipeline(steps=[('preproc', preproc),\n",
        "                       ('mdl', LogisticRegression(penalty='elasticnet', solver='saga', tol=0.01))])\n",
        "\n",
        "#visualization for steps\n",
        "with config_context(display='diagram'):\n",
        "    display(pipe)"
      ]
    },
    {
      "cell_type": "markdown",
      "id": "32517c21-62d6-4d8c-81ad-aa08a3199ff3",
      "metadata": {
        "id": "32517c21-62d6-4d8c-81ad-aa08a3199ff3"
      },
      "source": [
        "## Cross-validation with hyperparameter tuning\n",
        "\n",
        "Now that we have our pipelines, we can now use this as part of cross validation and hyperparameter tuning."
      ]
    },
    {
      "cell_type": "code",
      "execution_count": 14,
      "id": "f94e90d0-7785-48f4-a0cd-ff37090a92d9",
      "metadata": {
        "id": "f94e90d0-7785-48f4-a0cd-ff37090a92d9"
      },
      "outputs": [],
      "source": [
        "tuning_grid = {'mdl__l1_ratio' : np.linspace(0,1,5),\n",
        "               'mdl__C': np.logspace(-1, 6, 3) }\n",
        "grid_search = GridSearchCV(pipe, param_grid = tuning_grid, cv = 5, return_train_score=True)"
      ]
    },
    {
      "cell_type": "code",
      "execution_count": 15,
      "id": "4b612b9e-e561-47c9-9ecb-8ea5ec62cda9",
      "metadata": {
        "colab": {
          "base_uri": "https://localhost:8080/"
        },
        "id": "4b612b9e-e561-47c9-9ecb-8ea5ec62cda9",
        "outputId": "ff128840-57f1-4e18-9a8d-4c591b4f37cc"
      },
      "outputs": [
        {
          "output_type": "execute_result",
          "data": {
            "text/plain": [
              "{'mdl__l1_ratio': array([0.  , 0.25, 0.5 , 0.75, 1.  ]),\n",
              " 'mdl__C': array([1.00000000e-01, 3.16227766e+02, 1.00000000e+06])}"
            ]
          },
          "metadata": {},
          "execution_count": 15
        }
      ],
      "source": [
        "tuning_grid"
      ]
    },
    {
      "cell_type": "code",
      "execution_count": 16,
      "id": "e8f2cb02-c5eb-4fd4-9331-050191081014",
      "metadata": {
        "colab": {
          "base_uri": "https://localhost:8080/"
        },
        "id": "e8f2cb02-c5eb-4fd4-9331-050191081014",
        "outputId": "8d1a2581-eae2-46c5-877f-fa765b305d76"
      },
      "outputs": [
        {
          "output_type": "stream",
          "name": "stderr",
          "text": [
            "/usr/local/lib/python3.8/dist-packages/sklearn/model_selection/_split.py:676: UserWarning: The least populated class in y has only 2 members, which is less than n_splits=5.\n",
            "  warnings.warn(\n"
          ]
        },
        {
          "output_type": "execute_result",
          "data": {
            "text/plain": [
              "GridSearchCV(cv=5,\n",
              "             estimator=Pipeline(steps=[('preproc',\n",
              "                                        ColumnTransformer(remainder='passthrough',\n",
              "                                                          transformers=[('cat_pipe',\n",
              "                                                                         Pipeline(steps=[('cat_impute',\n",
              "                                                                                          SimpleImputer(strategy='most_frequent')),\n",
              "                                                                                         ('onehot_cat',\n",
              "                                                                                          OneHotEncoder(drop='if_binary'))]),\n",
              "                                                                         <sklearn.compose._column_transformer.make_column_selector object at 0x7fb38788b3a0>),\n",
              "                                                                        ('num_pipe',\n",
              "                                                                         Pipeline(step...\n",
              "                                                                                          SimpleImputer()),\n",
              "                                                                                         ('scale_num',\n",
              "                                                                                          StandardScaler())]),\n",
              "                                                                         <sklearn.compose._column_transformer.make_column_selector object at 0x7fb38788b130>)])),\n",
              "                                       ('mdl',\n",
              "                                        LogisticRegression(penalty='elasticnet',\n",
              "                                                           solver='saga',\n",
              "                                                           tol=0.01))]),\n",
              "             param_grid={'mdl__C': array([1.00000000e-01, 3.16227766e+02, 1.00000000e+06]),\n",
              "                         'mdl__l1_ratio': array([0.  , 0.25, 0.5 , 0.75, 1.  ])},\n",
              "             return_train_score=True)"
            ]
          },
          "metadata": {},
          "execution_count": 16
        }
      ],
      "source": [
        "grid_search.fit(X_train, y_train)"
      ]
    },
    {
      "cell_type": "code",
      "execution_count": 17,
      "id": "69f4874e-0de3-462f-95ef-d01ba648f7a4",
      "metadata": {
        "id": "69f4874e-0de3-462f-95ef-d01ba648f7a4",
        "outputId": "33e1984d-2664-4e49-a599-477290069993",
        "colab": {
          "base_uri": "https://localhost:8080/"
        }
      },
      "outputs": [
        {
          "output_type": "stream",
          "name": "stdout",
          "text": [
            "0.12105263157894737\n"
          ]
        },
        {
          "output_type": "execute_result",
          "data": {
            "text/plain": [
              "{'mdl__C': 0.1, 'mdl__l1_ratio': 0.25}"
            ]
          },
          "metadata": {},
          "execution_count": 17
        }
      ],
      "source": [
        "print(grid_search.best_score_)\n",
        "grid_search.best_params_"
      ]
    },
    {
      "cell_type": "code",
      "execution_count": null,
      "id": "f9529343-553b-417d-9347-fec243edd4d2",
      "metadata": {
        "id": "f9529343-553b-417d-9347-fec243edd4d2",
        "outputId": "fc164532-33de-41f3-c655-528e35fece8b",
        "colab": {
          "base_uri": "https://localhost:8080/",
          "height": 960
        }
      },
      "outputs": [
        {
          "output_type": "execute_result",
          "data": {
            "text/plain": [
              "    mean_fit_time  std_fit_time  mean_score_time  std_score_time param_mdl__C  \\\n",
              "0        0.025831      0.003192         0.008550        0.001167          0.1   \n",
              "1        0.030723      0.004093         0.009311        0.001140          0.1   \n",
              "2        0.029672      0.003766         0.008785        0.001354          0.1   \n",
              "3        0.030083      0.005871         0.008321        0.000701          0.1   \n",
              "4        0.060195      0.011502         0.008156        0.000455          0.1   \n",
              "5        0.048783      0.003900         0.007982        0.000188   316.227766   \n",
              "6        0.115446      0.007018         0.008181        0.000751   316.227766   \n",
              "7        0.114208      0.007428         0.026124        0.035016   316.227766   \n",
              "8        0.113351      0.002274         0.009917        0.002313   316.227766   \n",
              "9        0.111167      0.004439         0.008041        0.000306   316.227766   \n",
              "10       0.049287      0.005515         0.008811        0.001647    1000000.0   \n",
              "11       0.117341      0.002576         0.008785        0.000524    1000000.0   \n",
              "12       0.121723      0.012001         0.008245        0.000619    1000000.0   \n",
              "13       0.121369      0.012356         0.008627        0.001369    1000000.0   \n",
              "14       0.112313      0.005138         0.008121        0.000169    1000000.0   \n",
              "\n",
              "   param_mdl__l1_ratio                                             params  \\\n",
              "0                  0.0              {'mdl__C': 0.1, 'mdl__l1_ratio': 0.0}   \n",
              "1                 0.25             {'mdl__C': 0.1, 'mdl__l1_ratio': 0.25}   \n",
              "2                  0.5              {'mdl__C': 0.1, 'mdl__l1_ratio': 0.5}   \n",
              "3                 0.75             {'mdl__C': 0.1, 'mdl__l1_ratio': 0.75}   \n",
              "4                  1.0              {'mdl__C': 0.1, 'mdl__l1_ratio': 1.0}   \n",
              "5                  0.0  {'mdl__C': 316.22776601683796, 'mdl__l1_ratio'...   \n",
              "6                 0.25  {'mdl__C': 316.22776601683796, 'mdl__l1_ratio'...   \n",
              "7                  0.5  {'mdl__C': 316.22776601683796, 'mdl__l1_ratio'...   \n",
              "8                 0.75  {'mdl__C': 316.22776601683796, 'mdl__l1_ratio'...   \n",
              "9                  1.0  {'mdl__C': 316.22776601683796, 'mdl__l1_ratio'...   \n",
              "10                 0.0        {'mdl__C': 1000000.0, 'mdl__l1_ratio': 0.0}   \n",
              "11                0.25       {'mdl__C': 1000000.0, 'mdl__l1_ratio': 0.25}   \n",
              "12                 0.5        {'mdl__C': 1000000.0, 'mdl__l1_ratio': 0.5}   \n",
              "13                0.75       {'mdl__C': 1000000.0, 'mdl__l1_ratio': 0.75}   \n",
              "14                 1.0        {'mdl__C': 1000000.0, 'mdl__l1_ratio': 1.0}   \n",
              "\n",
              "    split0_test_score  split1_test_score  split2_test_score  ...  \\\n",
              "0            0.118421           0.078947           0.092105  ...   \n",
              "1            0.131579           0.105263           0.118421  ...   \n",
              "2            0.092105           0.092105           0.118421  ...   \n",
              "3            0.105263           0.078947           0.092105  ...   \n",
              "4            0.092105           0.078947           0.105263  ...   \n",
              "5            0.013158           0.026316           0.026316  ...   \n",
              "6            0.013158           0.026316           0.026316  ...   \n",
              "7            0.013158           0.026316           0.026316  ...   \n",
              "8            0.013158           0.026316           0.026316  ...   \n",
              "9            0.013158           0.026316           0.026316  ...   \n",
              "10           0.013158           0.026316           0.026316  ...   \n",
              "11           0.013158           0.026316           0.026316  ...   \n",
              "12           0.013158           0.026316           0.026316  ...   \n",
              "13           0.013158           0.026316           0.026316  ...   \n",
              "14           0.013158           0.026316           0.026316  ...   \n",
              "\n",
              "    mean_test_score  std_test_score  rank_test_score  split0_train_score  \\\n",
              "0          0.092105        0.014414                5            0.217105   \n",
              "1          0.121053        0.009846                1            0.118421   \n",
              "2          0.107895        0.015345                2            0.105263   \n",
              "3          0.094737        0.009846                4            0.098684   \n",
              "4          0.100000        0.017848                3            0.101974   \n",
              "5          0.021053        0.006446                6            0.486842   \n",
              "6          0.021053        0.006446                6            0.490132   \n",
              "7          0.021053        0.006446                6            0.483553   \n",
              "8          0.021053        0.006446                6            0.503289   \n",
              "9          0.021053        0.006446                6            0.493421   \n",
              "10         0.021053        0.006446                6            0.490132   \n",
              "11         0.021053        0.006446                6            0.493421   \n",
              "12         0.021053        0.006446                6            0.493421   \n",
              "13         0.021053        0.006446                6            0.503289   \n",
              "14         0.021053        0.006446                6            0.493421   \n",
              "\n",
              "    split1_train_score  split2_train_score  split3_train_score  \\\n",
              "0             0.220395            0.200658            0.226974   \n",
              "1             0.144737            0.148026            0.118421   \n",
              "2             0.108553            0.141447            0.105263   \n",
              "3             0.108553            0.138158            0.108553   \n",
              "4             0.105263            0.138158            0.108553   \n",
              "5             0.470395            0.490132            0.483553   \n",
              "6             0.457237            0.493421            0.493421   \n",
              "7             0.460526            0.503289            0.490132   \n",
              "8             0.463816            0.506579            0.486842   \n",
              "9             0.463816            0.503289            0.493421   \n",
              "10            0.460526            0.500000            0.483553   \n",
              "11            0.467105            0.509868            0.490132   \n",
              "12            0.470395            0.503289            0.490132   \n",
              "13            0.470395            0.490132            0.480263   \n",
              "14            0.463816            0.503289            0.486842   \n",
              "\n",
              "    split4_train_score  mean_train_score  std_train_score  \n",
              "0             0.200658          0.213158         0.010690  \n",
              "1             0.131579          0.132237         0.012552  \n",
              "2             0.105263          0.113158         0.014202  \n",
              "3             0.098684          0.110526         0.014504  \n",
              "4             0.095395          0.109868         0.014799  \n",
              "5             0.493421          0.484868         0.007949  \n",
              "6             0.500000          0.486842         0.015146  \n",
              "7             0.503289          0.488158         0.015789  \n",
              "8             0.496711          0.491447         0.015373  \n",
              "9             0.496711          0.490132         0.013642  \n",
              "10            0.500000          0.486842         0.014563  \n",
              "11            0.493421          0.490789         0.013706  \n",
              "12            0.496711          0.490789         0.011087  \n",
              "13            0.496711          0.488158         0.011695  \n",
              "14            0.500000          0.489474         0.014018  \n",
              "\n",
              "[15 rows x 22 columns]"
            ],
            "text/html": [
              "\n",
              "  <div id=\"df-66e18629-25bb-47c1-827f-73864fc6d3b7\">\n",
              "    <div class=\"colab-df-container\">\n",
              "      <div>\n",
              "<style scoped>\n",
              "    .dataframe tbody tr th:only-of-type {\n",
              "        vertical-align: middle;\n",
              "    }\n",
              "\n",
              "    .dataframe tbody tr th {\n",
              "        vertical-align: top;\n",
              "    }\n",
              "\n",
              "    .dataframe thead th {\n",
              "        text-align: right;\n",
              "    }\n",
              "</style>\n",
              "<table border=\"1\" class=\"dataframe\">\n",
              "  <thead>\n",
              "    <tr style=\"text-align: right;\">\n",
              "      <th></th>\n",
              "      <th>mean_fit_time</th>\n",
              "      <th>std_fit_time</th>\n",
              "      <th>mean_score_time</th>\n",
              "      <th>std_score_time</th>\n",
              "      <th>param_mdl__C</th>\n",
              "      <th>param_mdl__l1_ratio</th>\n",
              "      <th>params</th>\n",
              "      <th>split0_test_score</th>\n",
              "      <th>split1_test_score</th>\n",
              "      <th>split2_test_score</th>\n",
              "      <th>...</th>\n",
              "      <th>mean_test_score</th>\n",
              "      <th>std_test_score</th>\n",
              "      <th>rank_test_score</th>\n",
              "      <th>split0_train_score</th>\n",
              "      <th>split1_train_score</th>\n",
              "      <th>split2_train_score</th>\n",
              "      <th>split3_train_score</th>\n",
              "      <th>split4_train_score</th>\n",
              "      <th>mean_train_score</th>\n",
              "      <th>std_train_score</th>\n",
              "    </tr>\n",
              "  </thead>\n",
              "  <tbody>\n",
              "    <tr>\n",
              "      <th>0</th>\n",
              "      <td>0.025831</td>\n",
              "      <td>0.003192</td>\n",
              "      <td>0.008550</td>\n",
              "      <td>0.001167</td>\n",
              "      <td>0.1</td>\n",
              "      <td>0.0</td>\n",
              "      <td>{'mdl__C': 0.1, 'mdl__l1_ratio': 0.0}</td>\n",
              "      <td>0.118421</td>\n",
              "      <td>0.078947</td>\n",
              "      <td>0.092105</td>\n",
              "      <td>...</td>\n",
              "      <td>0.092105</td>\n",
              "      <td>0.014414</td>\n",
              "      <td>5</td>\n",
              "      <td>0.217105</td>\n",
              "      <td>0.220395</td>\n",
              "      <td>0.200658</td>\n",
              "      <td>0.226974</td>\n",
              "      <td>0.200658</td>\n",
              "      <td>0.213158</td>\n",
              "      <td>0.010690</td>\n",
              "    </tr>\n",
              "    <tr>\n",
              "      <th>1</th>\n",
              "      <td>0.030723</td>\n",
              "      <td>0.004093</td>\n",
              "      <td>0.009311</td>\n",
              "      <td>0.001140</td>\n",
              "      <td>0.1</td>\n",
              "      <td>0.25</td>\n",
              "      <td>{'mdl__C': 0.1, 'mdl__l1_ratio': 0.25}</td>\n",
              "      <td>0.131579</td>\n",
              "      <td>0.105263</td>\n",
              "      <td>0.118421</td>\n",
              "      <td>...</td>\n",
              "      <td>0.121053</td>\n",
              "      <td>0.009846</td>\n",
              "      <td>1</td>\n",
              "      <td>0.118421</td>\n",
              "      <td>0.144737</td>\n",
              "      <td>0.148026</td>\n",
              "      <td>0.118421</td>\n",
              "      <td>0.131579</td>\n",
              "      <td>0.132237</td>\n",
              "      <td>0.012552</td>\n",
              "    </tr>\n",
              "    <tr>\n",
              "      <th>2</th>\n",
              "      <td>0.029672</td>\n",
              "      <td>0.003766</td>\n",
              "      <td>0.008785</td>\n",
              "      <td>0.001354</td>\n",
              "      <td>0.1</td>\n",
              "      <td>0.5</td>\n",
              "      <td>{'mdl__C': 0.1, 'mdl__l1_ratio': 0.5}</td>\n",
              "      <td>0.092105</td>\n",
              "      <td>0.092105</td>\n",
              "      <td>0.118421</td>\n",
              "      <td>...</td>\n",
              "      <td>0.107895</td>\n",
              "      <td>0.015345</td>\n",
              "      <td>2</td>\n",
              "      <td>0.105263</td>\n",
              "      <td>0.108553</td>\n",
              "      <td>0.141447</td>\n",
              "      <td>0.105263</td>\n",
              "      <td>0.105263</td>\n",
              "      <td>0.113158</td>\n",
              "      <td>0.014202</td>\n",
              "    </tr>\n",
              "    <tr>\n",
              "      <th>3</th>\n",
              "      <td>0.030083</td>\n",
              "      <td>0.005871</td>\n",
              "      <td>0.008321</td>\n",
              "      <td>0.000701</td>\n",
              "      <td>0.1</td>\n",
              "      <td>0.75</td>\n",
              "      <td>{'mdl__C': 0.1, 'mdl__l1_ratio': 0.75}</td>\n",
              "      <td>0.105263</td>\n",
              "      <td>0.078947</td>\n",
              "      <td>0.092105</td>\n",
              "      <td>...</td>\n",
              "      <td>0.094737</td>\n",
              "      <td>0.009846</td>\n",
              "      <td>4</td>\n",
              "      <td>0.098684</td>\n",
              "      <td>0.108553</td>\n",
              "      <td>0.138158</td>\n",
              "      <td>0.108553</td>\n",
              "      <td>0.098684</td>\n",
              "      <td>0.110526</td>\n",
              "      <td>0.014504</td>\n",
              "    </tr>\n",
              "    <tr>\n",
              "      <th>4</th>\n",
              "      <td>0.060195</td>\n",
              "      <td>0.011502</td>\n",
              "      <td>0.008156</td>\n",
              "      <td>0.000455</td>\n",
              "      <td>0.1</td>\n",
              "      <td>1.0</td>\n",
              "      <td>{'mdl__C': 0.1, 'mdl__l1_ratio': 1.0}</td>\n",
              "      <td>0.092105</td>\n",
              "      <td>0.078947</td>\n",
              "      <td>0.105263</td>\n",
              "      <td>...</td>\n",
              "      <td>0.100000</td>\n",
              "      <td>0.017848</td>\n",
              "      <td>3</td>\n",
              "      <td>0.101974</td>\n",
              "      <td>0.105263</td>\n",
              "      <td>0.138158</td>\n",
              "      <td>0.108553</td>\n",
              "      <td>0.095395</td>\n",
              "      <td>0.109868</td>\n",
              "      <td>0.014799</td>\n",
              "    </tr>\n",
              "    <tr>\n",
              "      <th>5</th>\n",
              "      <td>0.048783</td>\n",
              "      <td>0.003900</td>\n",
              "      <td>0.007982</td>\n",
              "      <td>0.000188</td>\n",
              "      <td>316.227766</td>\n",
              "      <td>0.0</td>\n",
              "      <td>{'mdl__C': 316.22776601683796, 'mdl__l1_ratio'...</td>\n",
              "      <td>0.013158</td>\n",
              "      <td>0.026316</td>\n",
              "      <td>0.026316</td>\n",
              "      <td>...</td>\n",
              "      <td>0.021053</td>\n",
              "      <td>0.006446</td>\n",
              "      <td>6</td>\n",
              "      <td>0.486842</td>\n",
              "      <td>0.470395</td>\n",
              "      <td>0.490132</td>\n",
              "      <td>0.483553</td>\n",
              "      <td>0.493421</td>\n",
              "      <td>0.484868</td>\n",
              "      <td>0.007949</td>\n",
              "    </tr>\n",
              "    <tr>\n",
              "      <th>6</th>\n",
              "      <td>0.115446</td>\n",
              "      <td>0.007018</td>\n",
              "      <td>0.008181</td>\n",
              "      <td>0.000751</td>\n",
              "      <td>316.227766</td>\n",
              "      <td>0.25</td>\n",
              "      <td>{'mdl__C': 316.22776601683796, 'mdl__l1_ratio'...</td>\n",
              "      <td>0.013158</td>\n",
              "      <td>0.026316</td>\n",
              "      <td>0.026316</td>\n",
              "      <td>...</td>\n",
              "      <td>0.021053</td>\n",
              "      <td>0.006446</td>\n",
              "      <td>6</td>\n",
              "      <td>0.490132</td>\n",
              "      <td>0.457237</td>\n",
              "      <td>0.493421</td>\n",
              "      <td>0.493421</td>\n",
              "      <td>0.500000</td>\n",
              "      <td>0.486842</td>\n",
              "      <td>0.015146</td>\n",
              "    </tr>\n",
              "    <tr>\n",
              "      <th>7</th>\n",
              "      <td>0.114208</td>\n",
              "      <td>0.007428</td>\n",
              "      <td>0.026124</td>\n",
              "      <td>0.035016</td>\n",
              "      <td>316.227766</td>\n",
              "      <td>0.5</td>\n",
              "      <td>{'mdl__C': 316.22776601683796, 'mdl__l1_ratio'...</td>\n",
              "      <td>0.013158</td>\n",
              "      <td>0.026316</td>\n",
              "      <td>0.026316</td>\n",
              "      <td>...</td>\n",
              "      <td>0.021053</td>\n",
              "      <td>0.006446</td>\n",
              "      <td>6</td>\n",
              "      <td>0.483553</td>\n",
              "      <td>0.460526</td>\n",
              "      <td>0.503289</td>\n",
              "      <td>0.490132</td>\n",
              "      <td>0.503289</td>\n",
              "      <td>0.488158</td>\n",
              "      <td>0.015789</td>\n",
              "    </tr>\n",
              "    <tr>\n",
              "      <th>8</th>\n",
              "      <td>0.113351</td>\n",
              "      <td>0.002274</td>\n",
              "      <td>0.009917</td>\n",
              "      <td>0.002313</td>\n",
              "      <td>316.227766</td>\n",
              "      <td>0.75</td>\n",
              "      <td>{'mdl__C': 316.22776601683796, 'mdl__l1_ratio'...</td>\n",
              "      <td>0.013158</td>\n",
              "      <td>0.026316</td>\n",
              "      <td>0.026316</td>\n",
              "      <td>...</td>\n",
              "      <td>0.021053</td>\n",
              "      <td>0.006446</td>\n",
              "      <td>6</td>\n",
              "      <td>0.503289</td>\n",
              "      <td>0.463816</td>\n",
              "      <td>0.506579</td>\n",
              "      <td>0.486842</td>\n",
              "      <td>0.496711</td>\n",
              "      <td>0.491447</td>\n",
              "      <td>0.015373</td>\n",
              "    </tr>\n",
              "    <tr>\n",
              "      <th>9</th>\n",
              "      <td>0.111167</td>\n",
              "      <td>0.004439</td>\n",
              "      <td>0.008041</td>\n",
              "      <td>0.000306</td>\n",
              "      <td>316.227766</td>\n",
              "      <td>1.0</td>\n",
              "      <td>{'mdl__C': 316.22776601683796, 'mdl__l1_ratio'...</td>\n",
              "      <td>0.013158</td>\n",
              "      <td>0.026316</td>\n",
              "      <td>0.026316</td>\n",
              "      <td>...</td>\n",
              "      <td>0.021053</td>\n",
              "      <td>0.006446</td>\n",
              "      <td>6</td>\n",
              "      <td>0.493421</td>\n",
              "      <td>0.463816</td>\n",
              "      <td>0.503289</td>\n",
              "      <td>0.493421</td>\n",
              "      <td>0.496711</td>\n",
              "      <td>0.490132</td>\n",
              "      <td>0.013642</td>\n",
              "    </tr>\n",
              "    <tr>\n",
              "      <th>10</th>\n",
              "      <td>0.049287</td>\n",
              "      <td>0.005515</td>\n",
              "      <td>0.008811</td>\n",
              "      <td>0.001647</td>\n",
              "      <td>1000000.0</td>\n",
              "      <td>0.0</td>\n",
              "      <td>{'mdl__C': 1000000.0, 'mdl__l1_ratio': 0.0}</td>\n",
              "      <td>0.013158</td>\n",
              "      <td>0.026316</td>\n",
              "      <td>0.026316</td>\n",
              "      <td>...</td>\n",
              "      <td>0.021053</td>\n",
              "      <td>0.006446</td>\n",
              "      <td>6</td>\n",
              "      <td>0.490132</td>\n",
              "      <td>0.460526</td>\n",
              "      <td>0.500000</td>\n",
              "      <td>0.483553</td>\n",
              "      <td>0.500000</td>\n",
              "      <td>0.486842</td>\n",
              "      <td>0.014563</td>\n",
              "    </tr>\n",
              "    <tr>\n",
              "      <th>11</th>\n",
              "      <td>0.117341</td>\n",
              "      <td>0.002576</td>\n",
              "      <td>0.008785</td>\n",
              "      <td>0.000524</td>\n",
              "      <td>1000000.0</td>\n",
              "      <td>0.25</td>\n",
              "      <td>{'mdl__C': 1000000.0, 'mdl__l1_ratio': 0.25}</td>\n",
              "      <td>0.013158</td>\n",
              "      <td>0.026316</td>\n",
              "      <td>0.026316</td>\n",
              "      <td>...</td>\n",
              "      <td>0.021053</td>\n",
              "      <td>0.006446</td>\n",
              "      <td>6</td>\n",
              "      <td>0.493421</td>\n",
              "      <td>0.467105</td>\n",
              "      <td>0.509868</td>\n",
              "      <td>0.490132</td>\n",
              "      <td>0.493421</td>\n",
              "      <td>0.490789</td>\n",
              "      <td>0.013706</td>\n",
              "    </tr>\n",
              "    <tr>\n",
              "      <th>12</th>\n",
              "      <td>0.121723</td>\n",
              "      <td>0.012001</td>\n",
              "      <td>0.008245</td>\n",
              "      <td>0.000619</td>\n",
              "      <td>1000000.0</td>\n",
              "      <td>0.5</td>\n",
              "      <td>{'mdl__C': 1000000.0, 'mdl__l1_ratio': 0.5}</td>\n",
              "      <td>0.013158</td>\n",
              "      <td>0.026316</td>\n",
              "      <td>0.026316</td>\n",
              "      <td>...</td>\n",
              "      <td>0.021053</td>\n",
              "      <td>0.006446</td>\n",
              "      <td>6</td>\n",
              "      <td>0.493421</td>\n",
              "      <td>0.470395</td>\n",
              "      <td>0.503289</td>\n",
              "      <td>0.490132</td>\n",
              "      <td>0.496711</td>\n",
              "      <td>0.490789</td>\n",
              "      <td>0.011087</td>\n",
              "    </tr>\n",
              "    <tr>\n",
              "      <th>13</th>\n",
              "      <td>0.121369</td>\n",
              "      <td>0.012356</td>\n",
              "      <td>0.008627</td>\n",
              "      <td>0.001369</td>\n",
              "      <td>1000000.0</td>\n",
              "      <td>0.75</td>\n",
              "      <td>{'mdl__C': 1000000.0, 'mdl__l1_ratio': 0.75}</td>\n",
              "      <td>0.013158</td>\n",
              "      <td>0.026316</td>\n",
              "      <td>0.026316</td>\n",
              "      <td>...</td>\n",
              "      <td>0.021053</td>\n",
              "      <td>0.006446</td>\n",
              "      <td>6</td>\n",
              "      <td>0.503289</td>\n",
              "      <td>0.470395</td>\n",
              "      <td>0.490132</td>\n",
              "      <td>0.480263</td>\n",
              "      <td>0.496711</td>\n",
              "      <td>0.488158</td>\n",
              "      <td>0.011695</td>\n",
              "    </tr>\n",
              "    <tr>\n",
              "      <th>14</th>\n",
              "      <td>0.112313</td>\n",
              "      <td>0.005138</td>\n",
              "      <td>0.008121</td>\n",
              "      <td>0.000169</td>\n",
              "      <td>1000000.0</td>\n",
              "      <td>1.0</td>\n",
              "      <td>{'mdl__C': 1000000.0, 'mdl__l1_ratio': 1.0}</td>\n",
              "      <td>0.013158</td>\n",
              "      <td>0.026316</td>\n",
              "      <td>0.026316</td>\n",
              "      <td>...</td>\n",
              "      <td>0.021053</td>\n",
              "      <td>0.006446</td>\n",
              "      <td>6</td>\n",
              "      <td>0.493421</td>\n",
              "      <td>0.463816</td>\n",
              "      <td>0.503289</td>\n",
              "      <td>0.486842</td>\n",
              "      <td>0.500000</td>\n",
              "      <td>0.489474</td>\n",
              "      <td>0.014018</td>\n",
              "    </tr>\n",
              "  </tbody>\n",
              "</table>\n",
              "<p>15 rows × 22 columns</p>\n",
              "</div>\n",
              "      <button class=\"colab-df-convert\" onclick=\"convertToInteractive('df-66e18629-25bb-47c1-827f-73864fc6d3b7')\"\n",
              "              title=\"Convert this dataframe to an interactive table.\"\n",
              "              style=\"display:none;\">\n",
              "        \n",
              "  <svg xmlns=\"http://www.w3.org/2000/svg\" height=\"24px\"viewBox=\"0 0 24 24\"\n",
              "       width=\"24px\">\n",
              "    <path d=\"M0 0h24v24H0V0z\" fill=\"none\"/>\n",
              "    <path d=\"M18.56 5.44l.94 2.06.94-2.06 2.06-.94-2.06-.94-.94-2.06-.94 2.06-2.06.94zm-11 1L8.5 8.5l.94-2.06 2.06-.94-2.06-.94L8.5 2.5l-.94 2.06-2.06.94zm10 10l.94 2.06.94-2.06 2.06-.94-2.06-.94-.94-2.06-.94 2.06-2.06.94z\"/><path d=\"M17.41 7.96l-1.37-1.37c-.4-.4-.92-.59-1.43-.59-.52 0-1.04.2-1.43.59L10.3 9.45l-7.72 7.72c-.78.78-.78 2.05 0 2.83L4 21.41c.39.39.9.59 1.41.59.51 0 1.02-.2 1.41-.59l7.78-7.78 2.81-2.81c.8-.78.8-2.07 0-2.86zM5.41 20L4 18.59l7.72-7.72 1.47 1.35L5.41 20z\"/>\n",
              "  </svg>\n",
              "      </button>\n",
              "      \n",
              "  <style>\n",
              "    .colab-df-container {\n",
              "      display:flex;\n",
              "      flex-wrap:wrap;\n",
              "      gap: 12px;\n",
              "    }\n",
              "\n",
              "    .colab-df-convert {\n",
              "      background-color: #E8F0FE;\n",
              "      border: none;\n",
              "      border-radius: 50%;\n",
              "      cursor: pointer;\n",
              "      display: none;\n",
              "      fill: #1967D2;\n",
              "      height: 32px;\n",
              "      padding: 0 0 0 0;\n",
              "      width: 32px;\n",
              "    }\n",
              "\n",
              "    .colab-df-convert:hover {\n",
              "      background-color: #E2EBFA;\n",
              "      box-shadow: 0px 1px 2px rgba(60, 64, 67, 0.3), 0px 1px 3px 1px rgba(60, 64, 67, 0.15);\n",
              "      fill: #174EA6;\n",
              "    }\n",
              "\n",
              "    [theme=dark] .colab-df-convert {\n",
              "      background-color: #3B4455;\n",
              "      fill: #D2E3FC;\n",
              "    }\n",
              "\n",
              "    [theme=dark] .colab-df-convert:hover {\n",
              "      background-color: #434B5C;\n",
              "      box-shadow: 0px 1px 3px 1px rgba(0, 0, 0, 0.15);\n",
              "      filter: drop-shadow(0px 1px 2px rgba(0, 0, 0, 0.3));\n",
              "      fill: #FFFFFF;\n",
              "    }\n",
              "  </style>\n",
              "\n",
              "      <script>\n",
              "        const buttonEl =\n",
              "          document.querySelector('#df-66e18629-25bb-47c1-827f-73864fc6d3b7 button.colab-df-convert');\n",
              "        buttonEl.style.display =\n",
              "          google.colab.kernel.accessAllowed ? 'block' : 'none';\n",
              "\n",
              "        async function convertToInteractive(key) {\n",
              "          const element = document.querySelector('#df-66e18629-25bb-47c1-827f-73864fc6d3b7');\n",
              "          const dataTable =\n",
              "            await google.colab.kernel.invokeFunction('convertToInteractive',\n",
              "                                                     [key], {});\n",
              "          if (!dataTable) return;\n",
              "\n",
              "          const docLinkHtml = 'Like what you see? Visit the ' +\n",
              "            '<a target=\"_blank\" href=https://colab.research.google.com/notebooks/data_table.ipynb>data table notebook</a>'\n",
              "            + ' to learn more about interactive tables.';\n",
              "          element.innerHTML = '';\n",
              "          dataTable['output_type'] = 'display_data';\n",
              "          await google.colab.output.renderOutput(dataTable, element);\n",
              "          const docLink = document.createElement('div');\n",
              "          docLink.innerHTML = docLinkHtml;\n",
              "          element.appendChild(docLink);\n",
              "        }\n",
              "      </script>\n",
              "    </div>\n",
              "  </div>\n",
              "  "
            ]
          },
          "metadata": {},
          "execution_count": 18
        }
      ],
      "source": [
        "pd.DataFrame(grid_search.cv_results_)"
      ]
    },
    {
      "cell_type": "markdown",
      "id": "289be208-bf90-4699-951e-b09a0289aa9d",
      "metadata": {
        "id": "289be208-bf90-4699-951e-b09a0289aa9d"
      },
      "source": [
        "## Final fit\n",
        "\n",
        "The final fit here is already present in the generated model due to the way we set our parameters in the grid search. If we want to look at the performance, we can do so. Here is a non-helpful description of the best model:"
      ]
    },
    {
      "cell_type": "code",
      "execution_count": 18,
      "id": "9a0c404f-514c-4f2c-98c9-506ca8ca1c46",
      "metadata": {
        "id": "9a0c404f-514c-4f2c-98c9-506ca8ca1c46",
        "outputId": "4f08bc47-0d8f-4ed3-cc49-d12019e2c3fb",
        "colab": {
          "base_uri": "https://localhost:8080/"
        }
      },
      "outputs": [
        {
          "output_type": "execute_result",
          "data": {
            "text/plain": [
              "Pipeline(steps=[('preproc',\n",
              "                 ColumnTransformer(remainder='passthrough',\n",
              "                                   transformers=[('cat_pipe',\n",
              "                                                  Pipeline(steps=[('cat_impute',\n",
              "                                                                   SimpleImputer(strategy='most_frequent')),\n",
              "                                                                  ('onehot_cat',\n",
              "                                                                   OneHotEncoder(drop='if_binary'))]),\n",
              "                                                  <sklearn.compose._column_transformer.make_column_selector object at 0x7fb377478550>),\n",
              "                                                 ('num_pipe',\n",
              "                                                  Pipeline(steps=[('impute_num',\n",
              "                                                                   SimpleImputer()),\n",
              "                                                                  ('scale_num',\n",
              "                                                                   StandardScaler())]),\n",
              "                                                  <sklearn.compose._column_transformer.make_column_selector object at 0x7fb377478be0>)])),\n",
              "                ('mdl',\n",
              "                 LogisticRegression(C=0.1, l1_ratio=0.25, penalty='elasticnet',\n",
              "                                    solver='saga', tol=0.01))])"
            ]
          },
          "metadata": {},
          "execution_count": 18
        }
      ],
      "source": [
        "grid_search.best_estimator_"
      ]
    },
    {
      "cell_type": "markdown",
      "id": "3feb06cf-bf30-4383-9449-4153c0fa996e",
      "metadata": {
        "id": "3feb06cf-bf30-4383-9449-4153c0fa996e"
      },
      "source": [
        "## Variable importance\n",
        "\n",
        "Now we assess the importance in the selected model to reveal any potential insights."
      ]
    },
    {
      "cell_type": "code",
      "execution_count": 19,
      "id": "45f8b024-9842-41e3-bbbb-2642cd4af47a",
      "metadata": {
        "id": "45f8b024-9842-41e3-bbbb-2642cd4af47a",
        "outputId": "b7b30422-316f-43a4-c865-415c7b3ff9fb",
        "colab": {
          "base_uri": "https://localhost:8080/"
        }
      },
      "outputs": [
        {
          "output_type": "execute_result",
          "data": {
            "text/plain": [
              "array([20180401, 20180402, 20180403, 20180404, 20180405, 20180406,\n",
              "       20180408, 20180409, 20180410, 20180411, 20180412, 20180413,\n",
              "       20180415, 20180416, 20180417, 20180418, 20180419, 20180420,\n",
              "       20180422, 20180423, 20180424, 20180425, 20180426, 20180427,\n",
              "       20180429, 20180430])"
            ]
          },
          "metadata": {},
          "execution_count": 19
        }
      ],
      "source": [
        "grid_search.classes_"
      ]
    },
    {
      "cell_type": "markdown",
      "id": "aa95eb91-77ec-4d33-a039-b2f9f95097fb",
      "metadata": {
        "id": "aa95eb91-77ec-4d33-a039-b2f9f95097fb"
      },
      "source": [
        "## Performance metrics on test data\n",
        "\n",
        "\n",
        "Here, we can see the performance of the model, which is pretty nice! We can also look into different scores specifically for more insight into the performance."
      ]
    },
    {
      "cell_type": "code",
      "execution_count": null,
      "id": "19f6f347-e01c-496a-ac3a-7e603361997f",
      "metadata": {
        "tags": [],
        "id": "19f6f347-e01c-496a-ac3a-7e603361997f"
      },
      "outputs": [],
      "source": [
        "print(classification_report(y_test, grid_search.best_estimator_.predict(X_test)))"
      ]
    },
    {
      "cell_type": "code",
      "execution_count": 27,
      "id": "594638a2-fe7e-4295-ac53-edca4db92565",
      "metadata": {
        "id": "594638a2-fe7e-4295-ac53-edca4db92565",
        "outputId": "c01e8dde-f263-4b30-83ca-557c376949f5",
        "colab": {
          "base_uri": "https://localhost:8080/",
          "height": 283
        }
      },
      "outputs": [
        {
          "output_type": "display_data",
          "data": {
            "text/plain": [
              "<Figure size 432x288 with 2 Axes>"
            ],
            "image/png": "[encoded data removed]"
          },
          "metadata": {
            "needs_background": "light"
          }
        }
      ],
      "source": [
        "cm = confusion_matrix(y_test, grid_search.best_estimator_.predict(X_test))\n",
        "disp = ConfusionMatrixDisplay(confusion_matrix=cm,\n",
        "                               display_labels=grid_search.classes_)\n",
        "disp.plot()\n",
        "\n",
        "plt.show()"
      ]
    },
    {
      "cell_type": "markdown",
      "id": "8aa24577-b182-4b54-a539-f498f93db4dc",
      "metadata": {
        "id": "8aa24577-b182-4b54-a539-f498f93db4dc"
      },
      "source": [
        "## Try it yourself!\n",
        "\n",
        "Now that we've seen the power of pipelines in sklearn, let's now try implementing our own pipelines."
      ]
    },
    {
      "cell_type": "code",
      "execution_count": null,
      "id": "05e5894f-4f8c-4f42-9b3d-63621cf18f4c",
      "metadata": {
        "id": "05e5894f-4f8c-4f42-9b3d-63621cf18f4c"
      },
      "outputs": [],
      "source": [
        "# Try implementing a pipeline where we use median imputation for numeric columns instead of mean imputation.\n",
        "\n",
        "#individual pipelines for differing datatypes\n",
        "cat_pipeline = Pipeline(steps=[('cat_impute', SimpleImputer(missing_values=np.nan, strategy='most_frequent')),\n",
        "                               ('onehot_cat', OneHotEncoder(drop='if_binary'))])\n",
        "num_pipeline = Pipeline(steps=[('impute_num', SimpleImputer(missing_values=np.nan, strategy='median')),\n",
        "                               ('scale_num', StandardScaler())])\n",
        "\n",
        "#establish preprocessing pipeline by columns\n",
        "preproc = ColumnTransformer([('cat_pipe', cat_pipeline, make_column_selector(dtype_include=object)),\n",
        "                             ('num_pipe', num_pipeline, make_column_selector(dtype_include=np.number))],\n",
        "                             remainder='passthrough')"
      ]
    },
    {
      "cell_type": "markdown",
      "id": "632436b2-0167-4874-b129-28d83e45b0af",
      "metadata": {
        "id": "632436b2-0167-4874-b129-28d83e45b0af"
      },
      "source": [
        "With this new pipeline, now train a Random Forest model. Refer to the documentation for the parameters for the random forest classifier here: https://scikit-learn.org/stable/modules/generated/sklearn.ensemble.RandomForestClassifier.html\n",
        "\n",
        "Is the performance better? "
      ]
    },
    {
      "cell_type": "code",
      "execution_count": null,
      "id": "c9101ce8-4fbb-4058-b147-67919ff46f6d",
      "metadata": {
        "id": "c9101ce8-4fbb-4058-b147-67919ff46f6d"
      },
      "outputs": [],
      "source": [
        "#generate the whole modeling pipeline with preprocessing\n",
        "pipe = Pipeline(steps=[('preproc', preproc),\n",
        "                       ('mdl', RandomForestClassifier())])\n",
        "\n",
        "#visualization for steps\n",
        "with config_context(display='diagram'):\n",
        "    display(pipe)"
      ]
    },
    {
      "cell_type": "markdown",
      "id": "728d169a-0505-40cd-b773-0205cac0f81f",
      "metadata": {
        "id": "728d169a-0505-40cd-b773-0205cac0f81f"
      },
      "source": [
        "Now perform cross validation and modify the n_estimators parameter to values of [100, 200,500] and max_depth parameter to values of [10,15,50] for the random forest classifier for hyperparameter tuning."
      ]
    },
    {
      "cell_type": "code",
      "execution_count": null,
      "id": "370c38c4-a091-43f4-a095-509c8b2b4f9a",
      "metadata": {
        "id": "370c38c4-a091-43f4-a095-509c8b2b4f9a"
      },
      "outputs": [],
      "source": [
        "tuning_grid = {'mdl__n_estimators' : [100, 200 ,500],\n",
        "               'mdl__max_depth': [10, 15, 20] }\n",
        "grid_search = GridSearchCV(pipe, param_grid = tuning_grid, cv = 5, return_train_score=True)"
      ]
    },
    {
      "cell_type": "code",
      "execution_count": null,
      "id": "be1cecb5-0aa8-42a7-96d3-1be721acc4d5",
      "metadata": {
        "id": "be1cecb5-0aa8-42a7-96d3-1be721acc4d5"
      },
      "outputs": [],
      "source": [
        "tuning_grid"
      ]
    },
    {
      "cell_type": "code",
      "execution_count": null,
      "id": "bac7bee7-2136-4bcd-b57d-cc4e1f1e39bf",
      "metadata": {
        "id": "bac7bee7-2136-4bcd-b57d-cc4e1f1e39bf"
      },
      "outputs": [],
      "source": [
        "grid_search.fit(X_train, y_train)"
      ]
    },
    {
      "cell_type": "code",
      "execution_count": null,
      "id": "fe4a4c7f-3806-4e8d-a642-34ddd0488755",
      "metadata": {
        "id": "fe4a4c7f-3806-4e8d-a642-34ddd0488755"
      },
      "outputs": [],
      "source": [
        "print(grid_search.best_score_)\n",
        "grid_search.best_params_"
      ]
    },
    {
      "cell_type": "code",
      "execution_count": null,
      "id": "44b01658-ec11-45fa-aaf7-9df5dc3d398e",
      "metadata": {
        "id": "44b01658-ec11-45fa-aaf7-9df5dc3d398e"
      },
      "outputs": [],
      "source": [
        "pd.DataFrame(grid_search.cv_results_)"
      ]
    },
    {
      "cell_type": "code",
      "execution_count": null,
      "id": "c13ddef8-9fe5-48c3-892b-514cae0ff0cb",
      "metadata": {
        "id": "c13ddef8-9fe5-48c3-892b-514cae0ff0cb"
      },
      "outputs": [],
      "source": [
        "grid_search.best_estimator_"
      ]
    },
    {
      "cell_type": "code",
      "execution_count": null,
      "id": "686c502f-7bd9-4bb6-8477-b055767db77d",
      "metadata": {
        "id": "686c502f-7bd9-4bb6-8477-b055767db77d"
      },
      "outputs": [],
      "source": [
        "grid_search.classes_"
      ]
    },
    {
      "cell_type": "code",
      "execution_count": null,
      "id": "91d03e13-ce53-4396-953b-93b6ee991634",
      "metadata": {
        "id": "91d03e13-ce53-4396-953b-93b6ee991634"
      },
      "outputs": [],
      "source": [
        "vip = grid_search.best_estimator_['mdl'].feature_importances_\n",
        "vip"
      ]
    },
    {
      "cell_type": "code",
      "execution_count": null,
      "id": "f467cf24-1f0a-4967-8552-929843bfa5d3",
      "metadata": {
        "id": "f467cf24-1f0a-4967-8552-929843bfa5d3"
      },
      "outputs": [],
      "source": [
        "#get names in correct preproc order\n",
        "cat_names = grid_search.best_estimator_.named_steps['preproc'].transformers_[0][1].named_steps['onehot_cat'].get_feature_names()\n",
        "num_names = grid_search.best_estimator_.named_steps['preproc'].transformers_[1][2]\n",
        "\n",
        "#create df with vip info\n",
        "coef_info = pd.DataFrame({'feat_names':np.hstack([cat_names, num_names]), 'vip': vip})\n",
        "\n",
        "#get sign and magnitude information\n",
        "coef_info = coef_info.assign(coef_mag = abs(coef_info['vip']),\n",
        "                             coef_sign = np.sign(coef_info['vip']))\n",
        "\n",
        "#sort and plot\n",
        "coef_info = coef_info.set_index('feat_names').sort_values(by='coef_mag', ascending=False)\n",
        "sns.barplot(y=coef_info.index, x='coef_mag', hue='coef_sign', data=coef_info, orient='h', dodge=False);"
      ]
    },
    {
      "cell_type": "code",
      "execution_count": null,
      "id": "c8492e28-8801-49ac-90d8-d23aa654d98b",
      "metadata": {
        "id": "c8492e28-8801-49ac-90d8-d23aa654d98b"
      },
      "outputs": [],
      "source": [
        "print(classification_report(y_test, grid_search.best_estimator_.predict(X_test)))"
      ]
    },
    {
      "cell_type": "code",
      "execution_count": 28,
      "id": "9465fbec-8727-41f0-a242-ca804a752948",
      "metadata": {
        "id": "9465fbec-8727-41f0-a242-ca804a752948",
        "outputId": "3a05ac7c-88a0-4340-df48-7aec1414e282",
        "colab": {
          "base_uri": "https://localhost:8080/",
          "height": 283
        }
      },
      "outputs": [
        {
          "output_type": "display_data",
          "data": {
            "text/plain": [
              "<Figure size 432x288 with 2 Axes>"
            ],
            "image/png": "[encoded data removed]"
          },
          "metadata": {
            "needs_background": "light"
          }
        }
      ],
      "source": [
        "cm = confusion_matrix(y_test, grid_search.best_estimator_.predict(X_test))\n",
        "disp = ConfusionMatrixDisplay(confusion_matrix=cm,\n",
        "                               display_labels=grid_search.classes_)\n",
        "disp.plot()\n",
        "\n",
        "plt.show()"
      ]
    },
    {
      "cell_type": "code",
      "execution_count": null,
      "id": "b883d7f1-d90c-4119-9653-fc0d27f90cb1",
      "metadata": {
        "id": "b883d7f1-d90c-4119-9653-fc0d27f90cb1"
      },
      "outputs": [],
      "source": []
    }
  ],
  "metadata": {
    "kernelspec": {
      "display_name": "Python 3 (ipykernel)",
      "language": "python",
      "name": "python3"
    },
    "language_info": {
      "codemirror_mode": {
        "name": "ipython",
        "version": 3
      },
      "file_extension": ".py",
      "mimetype": "text/x-python",
      "name": "python",
      "nbconvert_exporter": "python",
      "pygments_lexer": "ipython3",
      "version": "3.8.8"
    },
    "colab": {
      "provenance": [],
      "include_colab_link": true
    }
  },
  "nbformat": 4,
  "nbformat_minor": 5
}